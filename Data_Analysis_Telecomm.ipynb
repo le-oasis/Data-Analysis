{
 "cells": [
  {
   "cell_type": "markdown",
   "metadata": {
    "id": "4HOABE2QnFY8"
   },
   "source": [
    "### Task A\n",
    "\n",
    "You are given three data sets which contain different information about customers in a telecommunications company. In all datasets, each row represents a customer and the columns contains that customer's individual attributes. Your task is to perform explanatory analysis and data manipulation.\n",
    "\n",
    "#### Data overview\n",
    "\n",
    "**1. Charges data**\n",
    "\n",
    "You can access the dataset charges_data using the path [./data/charges_data.csv](https://drive.google.com/u/2/uc?id=10GZBtClHheK6CJL3smnjmX6LKvlrxAhn&export=download). The dataset consists of the following variables:\n",
    "\n",
    "- **_customerID_** - the ID of the customer;\n",
    "- **_tenure_** - number of months the customer has stayed with the company,\n",
    "- **_contract_** - the contract term of the customer,\n",
    "- **_paperlessBilling_** - whether or not the customer has paperless billing:\n",
    "- **_paymentMethod_** - the customer's payment method;\n",
    "- **_monthlyCharges_** - the amount charged to the customer monthly;\n",
    "- **_totalCharges_** - the total amount charged to the customer\n",
    "- **_churn_** - whether or not the customer has churned \n",
    "\n",
    "**2. Personal data**\n",
    "\n",
    "You can access the dataset personal_data using the path [./data/personal_data.csv](https://drive.google.com/u/2/uc?id=1CIOkmj1ZdARanRHbcACaKJkUv0gw87g8&export=download). The dataset consists of the following variables:\n",
    "\n",
    "- **_customerID_** - the ID of the customer,\n",
    "- **_gender_**- the customers gender,\n",
    "- **_partner_** - whether or not the customer has a partner;\n",
    "- **_dependents_** - whether or not the customer has dependents;\n",
    "- **_age_** - the customer's age.\n",
    "\n",
    "**3. Plan data**\n",
    "\n",
    "You can access the dataset plan_data using the path [./date/plan_date.csv](https://drive.google.com/u/2/uc?id=1jPE4JEKxZJAiQqY7u0WswxpMyuz9Jq1q&export=download). The dataset consists of the following variables:\n",
    "\n",
    "- **_customeriD_** - the ID of the customer,\n",
    "- **_phoneService_** - whether or not the customer has a phone service;\n",
    "- **_multipleLines_** - whether or not the customer has multiple lines;\n",
    "- **_internetService_** - customer's Internet service provider,\n",
    "- **_onlineSecurity_** - whether or not the customer has online securty,\n",
    "- **_onlineBackup_** - whether or not the customer has online backup;\n",
    "- **_deviceProtection_** - whether or not the customer has device protection;\n",
    "- **_techSupport_** - whether or not the customer has tech support,\n",
    "- **_streamingTV_** - whether or not the customer has streaming TV;\n",
    "- **_streamingMovies_** - whether or not the customer has streaming movies.\n",
    "\n",
    "\n",
    "#### Task details \n",
    "\n",
    "In order to complete the task you must write a function named `explanatory_analysis()` that takes three arguments, `charges_data_path`, `personal_data_dath`, and `plan_data_path`, which are the paths to the respective datasets.\n",
    "\n",
    "The function should perform the following steps:\n",
    "\n",
    "1. Read all three datasets.\n",
    "2. **charges_data** has some missing values in the _monthlyCharges_ and _totalCharges_ columns.\n",
    "\n",
    "- Fill in the missing values in the _monthlyCharges_ column with the trimmed average of non-empty observations from this column. To calculate a trimmed average, reject 10% of the biggest and 10% of the smallest values from calculations. Round the final value to the nearest integer. \n",
    "- Then fill in the missing values in the _totalCharges_ column with the _monthlyCharges_ value multiplied by the tenure value. \n",
    "3. Create a new column, _tenureBinned_, by discretizing the original tenure column. The _tenureBinned_ column should take the values `group1`, `group2`, `group3` and `group4` when the values of tenure are within the respective ranges `(0, 24]`, `(24, 48]`, `(48, 60]` and `(60, Inf)`.\n",
    "4. Calculate the churn rate, that is the percentage of churned customers, and round the result to the nearest integer e.g. If the fraction of such people in the dataset is 0.1234, then the desired value should be equal to 12.\n",
    "5. Join the updated **charges_data** with **personal_data** by the _customerID_ column so that the resulting dataset has only rows with common customer IDs. Then, join the resulting dataset with _plan_data_ by customerID, this time leaving all rows from the first dataset (joined **charges_data** and **personal_data**).\n",
    "6. Using the merged data, calculate the percentage of customers who are more than 60 years old and round the result to the nearest integer; e.g. if the fraction of such people in the dataset is 0.6789, then the desired value should be equal to 68.\n",
    "7. Using the merged data , create a dictionary containing counts of unique values in the _internetService_ column, where keys are the unique values of items and their counts.\n",
    "\n",
    "The function `exploratory_analysis()` returns a dictionary with the following values:\n",
    "- `monthly_charges_mean` - an integer with a calculated trimmed average from monthlyCharges values (calculated before filling in missing values and including three missing values);\n",
    "- `charges_data_updated` - a dataframe with updated charges_data, that is with filled values in the columns monthlyCharges and totalCharges and an added tenureBinned column;\n",
    "- `churn_pet` - an integer  with the churn rate (as a percentage);\n",
    "- `data_merged` - a data frame with three joined datasets;\n",
    "- `pct_age_above_60` - an integer giving the percentage of customers older than 60;\n",
    "- `internet_service_counts` - a dictionary with InternetService value counts.\n",
    "\n",
    "#### Package versions\n",
    "\n",
    "Additionally to the Python 3.8 Standard Library, you may use the following packages:\n",
    "\n",
    "- Pandas\n",
    "- Numpy\n",
    "- Scipy\n"
   ]
  },
  {
   "cell_type": "code",
   "execution_count": 79,
   "metadata": {
    "hide_input": false
   },
   "outputs": [],
   "source": [
    "# import pandas as pd\n",
    "# from scipy import stats \n",
    "# import numpy as np"
   ]
  },
  {
   "cell_type": "code",
   "execution_count": 92,
   "metadata": {
    "hide_input": false
   },
   "outputs": [],
   "source": [
    "# charges_data = pd.read_csv(\"./data/charges_data.csv.\")\n",
    "      \n",
    "# plan_data = pd.read_csv(\"./data/plan_data.csv.\")\n",
    "      \n",
    "# personal_data =  pd.read_csv(\"./data/personal_data.csv.\")\n",
    "\n",
    "\n",
    "\n",
    "# # charges_trimmed_mean = stats.trim_mean(charges_data.monthlyCharges, 0.1)\n",
    "# # cha"
   ]
  },
  {
   "cell_type": "code",
   "execution_count": 110,
   "metadata": {
    "hide_input": true
   },
   "outputs": [],
   "source": [
    "# sum(charges_data.monthlyCharges.isnull())"
   ]
  },
  {
   "cell_type": "code",
   "execution_count": 111,
   "metadata": {
    "hide_input": false
   },
   "outputs": [],
   "source": [
    "# charges_trimmed_mean = round(stats.trim_mean(charges_data.monthlyCharges, 0.1))\n",
    "# charges_data[\"monthlyCharges\"] = charges_data.monthlyCharges.fillna(charges_trimmed_mean)\n",
    "# charges_trimmed_mean2 = round(stats.trim_mean(charges_data.monthlyCharges, 0.1))\n",
    "\n",
    "\n"
   ]
  },
  {
   "cell_type": "code",
   "execution_count": 83,
   "metadata": {
    "hide_input": false
   },
   "outputs": [],
   "source": [
    "# charges_data[\"totalCharges\"] = charges_data.totalCharges.fillna(charges_data[\"tenure\"] * charges_data[\"monthlyCharges\"])"
   ]
  },
  {
   "cell_type": "code",
   "execution_count": 101,
   "metadata": {
    "hide_input": false
   },
   "outputs": [],
   "source": [
    "# charges_data[\"tenureBinned\"] = pd.cut(charges_data[\"tenure\"],\n",
    "#                        bins = [0, 24, 48, 60, float(\"inf\")], \n",
    "#                        labels = [\"group1\", \"group2\", \"group3\", \"group4\"])"
   ]
  },
  {
   "cell_type": "code",
   "execution_count": null,
   "metadata": {
    "hide_input": true
   },
   "outputs": [],
   "source": []
  },
  {
   "cell_type": "code",
   "execution_count": null,
   "metadata": {},
   "outputs": [],
   "source": []
  },
  {
   "cell_type": "code",
   "execution_count": 86,
   "metadata": {
    "hide_input": false
   },
   "outputs": [],
   "source": [
    "# merged_chargespersonal_data = pd.merge(left=charges_data, right=personal_data, left_on='customerID', right_on='customerID')\n",
    "# merged_data = pd.merge(left=merged_chargespersonal_data, right=plan_data, how='left', left_on='customerID', right_on='customerID')"
   ]
  },
  {
   "cell_type": "code",
   "execution_count": 113,
   "metadata": {
    "hide_input": false
   },
   "outputs": [],
   "source": [
    "# pct_age_above_60 = round(merged_data.loc[merged_data.age > 60].count()/5276 * 100)\n",
    "# pct_age_above_60=int(pct_age_above_60[0])\n",
    "# pct_age_above_60"
   ]
  },
  {
   "cell_type": "code",
   "execution_count": 114,
   "metadata": {
    "hide_input": false
   },
   "outputs": [],
   "source": [
    "# internet_service_dict = dict(merged_data[\"internetService\"].value_counts())\n",
    "# internet_service_dict"
   ]
  },
  {
   "cell_type": "code",
   "execution_count": 115,
   "metadata": {
    "hide_input": false
   },
   "outputs": [],
   "source": [
    "# charges_data"
   ]
  },
  {
   "cell_type": "code",
   "execution_count": 133,
   "metadata": {},
   "outputs": [],
   "source": [
    "import pandas as pd\n",
    "from scipy import stats \n",
    "import numpy as np\n",
    "\n",
    "def exploratory_analysis(charges,personal,plan):\n",
    "    charges_data = pd.read_csv(charges)\n",
    "      \n",
    "    personal_data = pd.read_csv(personal)\n",
    "      \n",
    "    plan_data =  pd.read_csv(plan)\n",
    "    \n",
    "    \n",
    "    charges_trimmed_mean = round(stats.trim_mean(charges_data.monthlyCharges, 0.1))\n",
    "    charges_data[\"monthlyCharges\"] = charges_data.monthlyCharges.fillna(charges_trimmed_mean)\n",
    "    \n",
    "    \n",
    "    \n",
    "    charges_data[\"totalCharges\"] = charges_data.totalCharges.fillna(charges_data[\"tenure\"] * charges_data[\"monthlyCharges\"])\n",
    "    \n",
    "    \n",
    "    charges_data[\"tenureBinned\"] = pd.cut(charges_data[\"tenure\"],\n",
    "                       bins = [1, 24, 48, 60, float(\"inf\")], \n",
    "                       labels = [\"group1\", \"group2\", \"group3\", \"group4\"])\n",
    "    \n",
    "    \n",
    "    churn_rate = str(round(len(charges_data.loc[charges_data[\"churn\"] == \"Yes\"])/ len(charges_data) * 100)) \n",
    "\n",
    "    \n",
    "    \n",
    "    merged_charges_personal_data = pd.merge(left=charges_data, right=personal_data, left_on='customerID', right_on='customerID')\n",
    "    merged_data = pd.merge(left=merged_charges_personal_data, right=plan_data, how='left', left_on='customerID', right_on='customerID')\n",
    "    \n",
    "    \n",
    "    pct_age_above_60 = str(round(len(merged_data.loc[merged_data.age > 60])/ len(merged_data) * 100))\n",
    "    \n",
    "\n",
    "    \n",
    "    internet_service_dict = dict(merged_data[\"internetService\"].value_counts())\n",
    "    \n",
    "    result_dict = {\"monthly_charges_mean\": charges_trimmed_mean , \n",
    "                   \"charges_data_updated\": charges_data,\n",
    "                   \"churn_pet\": churn_rate + \"%\",\n",
    "                   \"data_merged\": merged_data,\n",
    "                   \"pct_age_above_60\": pct_age_above_60 + \"%\",\n",
    "                   \"internet_service_counts\":  internet_service_dict}\n",
    "    \n",
    "    return result_dict"
   ]
  },
  {
   "cell_type": "code",
   "execution_count": 134,
   "metadata": {},
   "outputs": [
    {
     "data": {
      "text/plain": [
       "{'monthly_charges_mean': 68,\n",
       " 'charges_data_updated':       customerID  tenure        contract paperlessBilling  \\\n",
       " 0     7590-VHVEG       1  Month-to-month              Yes   \n",
       " 1     5575-GNVDE      34        One year               No   \n",
       " 2     3668-QPYBK       2  Month-to-month              Yes   \n",
       " 3     7795-CFOCW      45        One year               No   \n",
       " 4     9237-HQITU       2  Month-to-month              Yes   \n",
       " ...          ...     ...             ...              ...   \n",
       " 7027  6840-RESVB      24        One year              Yes   \n",
       " 7028  2234-XADUH      72        One year              Yes   \n",
       " 7029  4801-JZAZL      11  Month-to-month              Yes   \n",
       " 7030  8361-LTMKD       4  Month-to-month              Yes   \n",
       " 7031  3186-AJIEK      66        Two year              Yes   \n",
       " \n",
       "                   paymentMethod  monthlyCharges  totalCharges churn  \\\n",
       " 0              Electronic check           29.85         29.85    No   \n",
       " 1                  Mailed check           56.95       1889.50    No   \n",
       " 2                  Mailed check           53.85        108.15   Yes   \n",
       " 3     Bank transfer (automatic)           42.30       1840.75    No   \n",
       " 4              Electronic check           70.70        151.65   Yes   \n",
       " ...                         ...             ...           ...   ...   \n",
       " 7027               Mailed check           84.80       1990.50    No   \n",
       " 7028    Credit card (automatic)           68.00       4896.00    No   \n",
       " 7029           Electronic check           29.60        346.45    No   \n",
       " 7030               Mailed check           74.40        306.60   Yes   \n",
       " 7031  Bank transfer (automatic)          105.65       6844.50    No   \n",
       " \n",
       "      tenureBinned  \n",
       " 0          group1  \n",
       " 1          group2  \n",
       " 2          group1  \n",
       " 3          group2  \n",
       " 4          group1  \n",
       " ...           ...  \n",
       " 7027       group1  \n",
       " 7028       group4  \n",
       " 7029       group1  \n",
       " 7030       group1  \n",
       " 7031       group4  \n",
       " \n",
       " [7032 rows x 9 columns],\n",
       " 'churn_pet': '27%',\n",
       " 'data_merged':       customerID  tenure        contract paperlessBilling  \\\n",
       " 0     5575-GNVDE      34        One year               No   \n",
       " 1     3668-QPYBK       2  Month-to-month              Yes   \n",
       " 2     7795-CFOCW      45        One year               No   \n",
       " 3     9237-HQITU       2  Month-to-month              Yes   \n",
       " 4     9305-CDSKC       8  Month-to-month              Yes   \n",
       " ...          ...     ...             ...              ...   \n",
       " 5271  8456-QDAVC      19  Month-to-month              Yes   \n",
       " 5272  2569-WGERO      72        Two year              Yes   \n",
       " 5273  2234-XADUH      72        One year              Yes   \n",
       " 5274  4801-JZAZL      11  Month-to-month              Yes   \n",
       " 5275  3186-AJIEK      66        Two year              Yes   \n",
       " \n",
       "                   paymentMethod  monthlyCharges  totalCharges churn  \\\n",
       " 0                  Mailed check           56.95       1889.50    No   \n",
       " 1                  Mailed check           53.85        108.15   Yes   \n",
       " 2     Bank transfer (automatic)           42.30       1840.75    No   \n",
       " 3              Electronic check           70.70        151.65   Yes   \n",
       " 4              Electronic check           99.65        820.50   Yes   \n",
       " ...                         ...             ...           ...   ...   \n",
       " 5271  Bank transfer (automatic)           78.70       1495.10    No   \n",
       " 5272  Bank transfer (automatic)           21.15       1419.40    No   \n",
       " 5273    Credit card (automatic)           68.00       4896.00    No   \n",
       " 5274           Electronic check           29.60        346.45    No   \n",
       " 5275  Bank transfer (automatic)          105.65       6844.50    No   \n",
       " \n",
       "      tenureBinned  gender  ... age phoneService     multipleLines  \\\n",
       " 0          group2    Male  ...  41          Yes                No   \n",
       " 1          group1    Male  ...  58          NaN               NaN   \n",
       " 2          group2    Male  ...  61           No  No phone service   \n",
       " 3          group1  Female  ...  66          Yes                No   \n",
       " 4          group1  Female  ...  87          NaN               NaN   \n",
       " ...           ...     ...  ...  ..          ...               ...   \n",
       " 5271       group1    Male  ...  24          Yes                No   \n",
       " 5272       group4  Female  ...  33          Yes                No   \n",
       " 5273       group4  Female  ...  46          Yes               Yes   \n",
       " 5274       group1  Female  ...  45          NaN               NaN   \n",
       " 5275       group4    Male  ...  36          Yes                No   \n",
       " \n",
       "      internetService       onlineSecurity         onlineBackup  \\\n",
       " 0                DSL                  Yes                   No   \n",
       " 1                NaN                  NaN                  NaN   \n",
       " 2                DSL                  Yes                   No   \n",
       " 3        Fiber optic                   No                   No   \n",
       " 4                NaN                  NaN                  NaN   \n",
       " ...              ...                  ...                  ...   \n",
       " 5271     Fiber optic                   No                   No   \n",
       " 5272              No  No internet service  No internet service   \n",
       " 5273     Fiber optic                   No                  Yes   \n",
       " 5274             NaN                  NaN                  NaN   \n",
       " 5275     Fiber optic                  Yes                   No   \n",
       " \n",
       "          deviceProtection          techSupport          streamingTV  \\\n",
       " 0                     Yes                   No                   No   \n",
       " 1                     NaN                  NaN                  NaN   \n",
       " 2                     Yes                  Yes                   No   \n",
       " 3                      No                   No                   No   \n",
       " 4                     NaN                  NaN                  NaN   \n",
       " ...                   ...                  ...                  ...   \n",
       " 5271                   No                   No                  Yes   \n",
       " 5272  No internet service  No internet service  No internet service   \n",
       " 5273                  Yes                   No                  Yes   \n",
       " 5274                  NaN                  NaN                  NaN   \n",
       " 5275                  Yes                  Yes                  Yes   \n",
       " \n",
       "           streamingMovies  \n",
       " 0                      No  \n",
       " 1                     NaN  \n",
       " 2                      No  \n",
       " 3                      No  \n",
       " 4                     NaN  \n",
       " ...                   ...  \n",
       " 5271                   No  \n",
       " 5272  No internet service  \n",
       " 5273                  Yes  \n",
       " 5274                  NaN  \n",
       " 5275                  Yes  \n",
       " \n",
       " [5276 rows x 22 columns],\n",
       " 'pct_age_above_60': '42%',\n",
       " 'internet_service_counts': {'Fiber optic': 1577, 'DSL': 1197, 'No': 763}}"
      ]
     },
     "execution_count": 134,
     "metadata": {},
     "output_type": "execute_result"
    }
   ],
   "source": [
    "exploratory_analysis(\"./data/charges_data.csv.\", \"./data/personal_data.csv.\", \"./data/plan_data.csv.\")"
   ]
  }
 ],
 "metadata": {
  "colab": {
   "name": "Data Analysis Task",
   "provenance": []
  },
  "hide_input": false,
  "kernelspec": {
   "display_name": "Python 3 (ipykernel)",
   "language": "python",
   "name": "python3"
  },
  "language_info": {
   "codemirror_mode": {
    "name": "ipython",
    "version": 3
   },
   "file_extension": ".py",
   "mimetype": "text/x-python",
   "name": "python",
   "nbconvert_exporter": "python",
   "pygments_lexer": "ipython3",
   "version": "3.9.5"
  },
  "varInspector": {
   "cols": {
    "lenName": 16,
    "lenType": 16,
    "lenVar": 40
   },
   "kernels_config": {
    "python": {
     "delete_cmd_postfix": "",
     "delete_cmd_prefix": "del ",
     "library": "var_list.py",
     "varRefreshCmd": "print(var_dic_list())"
    },
    "r": {
     "delete_cmd_postfix": ") ",
     "delete_cmd_prefix": "rm(",
     "library": "var_list.r",
     "varRefreshCmd": "cat(var_dic_list()) "
    }
   },
   "types_to_exclude": [
    "module",
    "function",
    "builtin_function_or_method",
    "instance",
    "_Feature"
   ],
   "window_display": false
  }
 },
 "nbformat": 4,
 "nbformat_minor": 1
}
