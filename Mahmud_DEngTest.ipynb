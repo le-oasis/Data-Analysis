{
 "cells": [
  {
   "cell_type": "markdown",
   "id": "a08a7250-ceaf-47f7-96e6-e43926befdf5",
   "metadata": {
    "id": "a08a7250-ceaf-47f7-96e6-e43926befdf5"
   },
   "source": [
    "# Data Engineering Test: Amazon Product Review.\n",
    "\n",
    "\n",
    "* Hello World, in this notebook we would working on justfiying the approach and practices we implemented on the Amazon Product Review dataeset\n",
    "\n",
    "* This would include how we transformed the necessary columns/features, dropped the unneccessary columns, performed data cleaning, highlighting errors to be corrected for further Business Intelligence practices. \n",
    "\n",
    "* Welcome and let's get to it."
   ]
  },
  {
   "cell_type": "code",
   "execution_count": null,
   "id": "996130e8-bea9-4f92-83ef-c60b475758bd",
   "metadata": {
    "id": "996130e8-bea9-4f92-83ef-c60b475758bd"
   },
   "outputs": [],
   "source": []
  },
  {
   "cell_type": "markdown",
   "id": "12bc6ac9-087b-4db3-8a84-0728d66e20ce",
   "metadata": {
    "id": "12bc6ac9-087b-4db3-8a84-0728d66e20ce"
   },
   "source": [
    "# The Dataset \n",
    "\n",
    "- The dataset consists of samples from Amazon Ratings for some selected products. The reviews are picked randomly and the corpus has nearly 1.6k reviews from different customers.\n",
    "\n",
    "### DATA COLUMNS:\n",
    "\n",
    "- `id` - The unique ID of the review.\n",
    "- `asins` - ASIN (Amazon Standard Identification Number): A unique identifier of 10 letters and/or numbers for a product assigned by Amazon.com\n",
    "- `brand` - Product brand.\n",
    "- `categories` - Product Category.\n",
    "- `colors` - The color of the Product.\n",
    "- `dateAdded` - Product Added Date.\n",
    "- `dateUpdated` - Product Update Date.\n",
    "- `dimension` - The dimension of the Product. \n",
    "- `manufacturer` - The Product Manufacturer.\n",
    "- `manufacturerNumber` - The Product Manufacturer Number.\n",
    "- `name` - The name of the Product.\n",
    "- `prices` - The price of the Product,\n",
    "- `reviews.date` - The Product review date.\n",
    "- `reviews.doRecommend` - Product Recommendation.\n",
    "- `reviews.numHelpful` - The number of helpful upvotes for reviews. \n",
    "- `reviews.rating` - The Product Rating. \n",
    "- `reviews.username` - The product Review User Username.\n",
    "- `weight` - Product Weight."
   ]
  },
  {
   "cell_type": "code",
   "execution_count": null,
   "id": "56d03652-d047-4eb0-9283-7573b8026482",
   "metadata": {
    "id": "56d03652-d047-4eb0-9283-7573b8026482"
   },
   "outputs": [],
   "source": []
  },
  {
   "cell_type": "markdown",
   "id": "69290fe3-dffa-4338-ab14-6d27086c6a8a",
   "metadata": {
    "id": "69290fe3-dffa-4338-ab14-6d27086c6a8a"
   },
   "source": [
    "### Deliverables (`Business Requirements`)\n",
    "\n",
    "- Q: Write a python script to transform the data into a usable format for a BI Analyst.\n",
    "\n",
    "    - +: The transformation can generate more than one table if needed.\n",
    "\n",
    "- Q: Analyze the data.\n",
    "\n",
    "    - +: Highlight critical errors that need to be corrected before the BI analyst can make use of the data."
   ]
  },
  {
   "cell_type": "markdown",
   "id": "504494a3-60b5-4ed3-b515-70cda7eb2494",
   "metadata": {
    "id": "504494a3-60b5-4ed3-b515-70cda7eb2494"
   },
   "source": [
    "## Step 0: Initiate Libraries\n",
    "\n",
    "\n"
   ]
  },
  {
   "cell_type": "code",
   "execution_count": 1,
   "id": "c5c53047-96dd-4468-a5ce-d97303167c9e",
   "metadata": {
    "id": "c5c53047-96dd-4468-a5ce-d97303167c9e"
   },
   "outputs": [],
   "source": [
    "import warnings\n",
    "\n",
    "warnings.simplefilter(\"ignore\", UserWarning)\n",
    "warnings.simplefilter(\"ignore\", FutureWarning)\n",
    "warnings.simplefilter(\"ignore\", DeprecationWarning)\n",
    "\n",
    "# Key Libraries\n",
    "import numpy as np\n",
    "import pandas as pd\n",
    "\n",
    "\n",
    "# Datetime\n",
    "import datetime\n",
    "import datetime as dt \n",
    "\n",
    "\n",
    "# Data Visualisation \n",
    "import matplotlib.pyplot as plt\n",
    "import seaborn as sns \n",
    "import plotly.express as px\n",
    "%matplotlib inline\n",
    "import plotly.graph_objs as go\n",
    "from plotly.tools import FigureFactory as FF"
   ]
  },
  {
   "cell_type": "code",
   "execution_count": null,
   "id": "78cc1fb9",
   "metadata": {},
   "outputs": [],
   "source": []
  },
  {
   "cell_type": "code",
   "execution_count": null,
   "id": "831cf32b",
   "metadata": {},
   "outputs": [],
   "source": []
  },
  {
   "cell_type": "markdown",
   "id": "6e3dd053-1891-4388-ba5f-7e0b11adf345",
   "metadata": {
    "id": "6e3dd053-1891-4388-ba5f-7e0b11adf345"
   },
   "source": [
    "## Step 1: Data Discovery (Building Intuition)\n",
    "\n",
    "- This is a technique we use to get an initial feel for our data tables.\n",
    "- We read the data using pandas and perform method calls.\n",
    "- Standardize dataset columns in the correct format.\n",
    "- Explore Descriptive Statistics on Numerical Columns and more below:"
   ]
  },
  {
   "cell_type": "code",
   "execution_count": null,
   "id": "cEwxQhVu6jr6",
   "metadata": {
    "id": "cEwxQhVu6jr6"
   },
   "outputs": [],
   "source": []
  },
  {
   "cell_type": "code",
   "execution_count": null,
   "id": "3eca74ef-6b4f-4114-8831-dce2d71c5f1d",
   "metadata": {
    "id": "3eca74ef-6b4f-4114-8831-dce2d71c5f1d"
   },
   "outputs": [],
   "source": []
  },
  {
   "cell_type": "markdown",
   "id": "1ce93300-377e-4010-817c-ec726e610813",
   "metadata": {
    "id": "1ce93300-377e-4010-817c-ec726e610813"
   },
   "source": [
    "## Step 1.1: Read Data\n",
    "\n",
    "- Here will we be reading the `Amazon Product Review` 'csv' file into our jupyter notebook.\n",
    "- Please note that the file name has been chnaged to `data.csv` for our convinience :).\n",
    "- The variable name for the Amazon Prodcut Review data would be called `dataset` ."
   ]
  },
  {
   "cell_type": "code",
   "execution_count": 10,
   "id": "05efeb7f-52c6-4b9b-98b2-943f8bd4c9b9",
   "metadata": {
    "id": "05efeb7f-52c6-4b9b-98b2-943f8bd4c9b9"
   },
   "outputs": [],
   "source": [
    "dataset = pd.read_csv('/content/drive/MyDrive/Amazon Product Review.csv')"
   ]
  },
  {
   "cell_type": "code",
   "execution_count": null,
   "id": "234999d7-0885-415e-ae2e-f0284dd43090",
   "metadata": {
    "id": "234999d7-0885-415e-ae2e-f0284dd43090"
   },
   "outputs": [],
   "source": []
  },
  {
   "cell_type": "markdown",
   "id": "9452d2d7-1a92-4d43-96b2-a0596f8cdfe3",
   "metadata": {
    "id": "9452d2d7-1a92-4d43-96b2-a0596f8cdfe3"
   },
   "source": [
    "## Step 1.2: View the data.\n",
    "\n",
    "-  `dataset.head(2)`  - top 2 rows.\n",
    "-  `dataset.tail(2)` -  last 2 rows.\n",
    "- To gain intuition for transformations."
   ]
  },
  {
   "cell_type": "code",
   "execution_count": 11,
   "id": "fdefd7e4-32f9-4b6d-926f-4e9f715959d7",
   "metadata": {
    "colab": {
     "base_uri": "https://localhost:8080/",
     "height": 444
    },
    "id": "fdefd7e4-32f9-4b6d-926f-4e9f715959d7",
    "outputId": "ca3b6162-47e3-4bdd-9fe4-0989360cdc9b"
   },
   "outputs": [
    {
     "data": {
      "text/html": [
       "\n",
       "  <div id=\"df-64299251-89bd-4f5a-b866-71d340a79503\">\n",
       "    <div class=\"colab-df-container\">\n",
       "      <div>\n",
       "<style scoped>\n",
       "    .dataframe tbody tr th:only-of-type {\n",
       "        vertical-align: middle;\n",
       "    }\n",
       "\n",
       "    .dataframe tbody tr th {\n",
       "        vertical-align: top;\n",
       "    }\n",
       "\n",
       "    .dataframe thead th {\n",
       "        text-align: right;\n",
       "    }\n",
       "</style>\n",
       "<table border=\"1\" class=\"dataframe\">\n",
       "  <thead>\n",
       "    <tr style=\"text-align: right;\">\n",
       "      <th></th>\n",
       "      <th>id</th>\n",
       "      <th>asins</th>\n",
       "      <th>brand</th>\n",
       "      <th>categories</th>\n",
       "      <th>colors</th>\n",
       "      <th>dateAdded</th>\n",
       "      <th>dateUpdated</th>\n",
       "      <th>dimension</th>\n",
       "      <th>manufacturer</th>\n",
       "      <th>manufacturerNumber</th>\n",
       "      <th>name</th>\n",
       "      <th>prices</th>\n",
       "      <th>reviews.date</th>\n",
       "      <th>reviews.doRecommend</th>\n",
       "      <th>reviews.numHelpful</th>\n",
       "      <th>reviews.rating</th>\n",
       "      <th>reviews.username</th>\n",
       "      <th>weight</th>\n",
       "    </tr>\n",
       "  </thead>\n",
       "  <tbody>\n",
       "    <tr>\n",
       "      <th>0</th>\n",
       "      <td>AVpe7AsMilAPnD_xQ78G</td>\n",
       "      <td>B00QJDU3KY</td>\n",
       "      <td>Amazon</td>\n",
       "      <td>Amazon Devices,mazon.co.uk</td>\n",
       "      <td>NaN</td>\n",
       "      <td>2016-03-08T20:21:53Z</td>\n",
       "      <td>2017-07-18T23:52:58Z</td>\n",
       "      <td>169 mm x 117 mm x 9.1 mm</td>\n",
       "      <td>Amazon</td>\n",
       "      <td>NaN</td>\n",
       "      <td>Kindle Paperwhite</td>\n",
       "      <td>[{\"amountMax\":139.99,\"amountMin\":139.99,\"curre...</td>\n",
       "      <td>2015-08-08T00:00:00.000Z</td>\n",
       "      <td>NaN</td>\n",
       "      <td>139.0</td>\n",
       "      <td>5.0</td>\n",
       "      <td>Cristina M</td>\n",
       "      <td>205 grams</td>\n",
       "    </tr>\n",
       "    <tr>\n",
       "      <th>1</th>\n",
       "      <td>AVpe7AsMilAPnD_xQ78G</td>\n",
       "      <td>B00QJDU3KY</td>\n",
       "      <td>Amazon</td>\n",
       "      <td>Amazon Devices,mazon.co.uk</td>\n",
       "      <td>NaN</td>\n",
       "      <td>2016-03-08T20:21:53Z</td>\n",
       "      <td>2017-07-18T23:52:58Z</td>\n",
       "      <td>169 mm x 117 mm x 9.1 mm</td>\n",
       "      <td>Amazon</td>\n",
       "      <td>NaN</td>\n",
       "      <td>Kindle Paperwhite</td>\n",
       "      <td>[{\"amountMax\":139.99,\"amountMin\":139.99,\"curre...</td>\n",
       "      <td>2015-09-01T00:00:00.000Z</td>\n",
       "      <td>NaN</td>\n",
       "      <td>126.0</td>\n",
       "      <td>5.0</td>\n",
       "      <td>Ricky</td>\n",
       "      <td>205 grams</td>\n",
       "    </tr>\n",
       "    <tr>\n",
       "      <th>2</th>\n",
       "      <td>AVpe7AsMilAPnD_xQ78G</td>\n",
       "      <td>B00QJDU3KY</td>\n",
       "      <td>Amazon</td>\n",
       "      <td>Amazon Devices,mazon.co.uk</td>\n",
       "      <td>NaN</td>\n",
       "      <td>2016-03-08T20:21:53Z</td>\n",
       "      <td>2017-07-18T23:52:58Z</td>\n",
       "      <td>169 mm x 117 mm x 9.1 mm</td>\n",
       "      <td>Amazon</td>\n",
       "      <td>NaN</td>\n",
       "      <td>Kindle Paperwhite</td>\n",
       "      <td>[{\"amountMax\":139.99,\"amountMin\":139.99,\"curre...</td>\n",
       "      <td>2015-07-20T00:00:00.000Z</td>\n",
       "      <td>NaN</td>\n",
       "      <td>69.0</td>\n",
       "      <td>4.0</td>\n",
       "      <td>Tedd Gardiner</td>\n",
       "      <td>205 grams</td>\n",
       "    </tr>\n",
       "    <tr>\n",
       "      <th>3</th>\n",
       "      <td>AVpe7AsMilAPnD_xQ78G</td>\n",
       "      <td>B00QJDU3KY</td>\n",
       "      <td>Amazon</td>\n",
       "      <td>Amazon Devices,mazon.co.uk</td>\n",
       "      <td>NaN</td>\n",
       "      <td>2016-03-08T20:21:53Z</td>\n",
       "      <td>2017-07-18T23:52:58Z</td>\n",
       "      <td>169 mm x 117 mm x 9.1 mm</td>\n",
       "      <td>Amazon</td>\n",
       "      <td>NaN</td>\n",
       "      <td>Kindle Paperwhite</td>\n",
       "      <td>[{\"amountMax\":139.99,\"amountMin\":139.99,\"curre...</td>\n",
       "      <td>2017-06-16T00:00:00.000Z</td>\n",
       "      <td>NaN</td>\n",
       "      <td>2.0</td>\n",
       "      <td>5.0</td>\n",
       "      <td>Dougal</td>\n",
       "      <td>205 grams</td>\n",
       "    </tr>\n",
       "    <tr>\n",
       "      <th>4</th>\n",
       "      <td>AVpe7AsMilAPnD_xQ78G</td>\n",
       "      <td>B00QJDU3KY</td>\n",
       "      <td>Amazon</td>\n",
       "      <td>Amazon Devices,mazon.co.uk</td>\n",
       "      <td>NaN</td>\n",
       "      <td>2016-03-08T20:21:53Z</td>\n",
       "      <td>2017-07-18T23:52:58Z</td>\n",
       "      <td>169 mm x 117 mm x 9.1 mm</td>\n",
       "      <td>Amazon</td>\n",
       "      <td>NaN</td>\n",
       "      <td>Kindle Paperwhite</td>\n",
       "      <td>[{\"amountMax\":139.99,\"amountMin\":139.99,\"curre...</td>\n",
       "      <td>2016-08-11T00:00:00.000Z</td>\n",
       "      <td>NaN</td>\n",
       "      <td>17.0</td>\n",
       "      <td>5.0</td>\n",
       "      <td>Miljan David Tanic</td>\n",
       "      <td>205 grams</td>\n",
       "    </tr>\n",
       "  </tbody>\n",
       "</table>\n",
       "</div>\n",
       "      <button class=\"colab-df-convert\" onclick=\"convertToInteractive('df-64299251-89bd-4f5a-b866-71d340a79503')\"\n",
       "              title=\"Convert this dataframe to an interactive table.\"\n",
       "              style=\"display:none;\">\n",
       "        \n",
       "  <svg xmlns=\"http://www.w3.org/2000/svg\" height=\"24px\"viewBox=\"0 0 24 24\"\n",
       "       width=\"24px\">\n",
       "    <path d=\"M0 0h24v24H0V0z\" fill=\"none\"/>\n",
       "    <path d=\"M18.56 5.44l.94 2.06.94-2.06 2.06-.94-2.06-.94-.94-2.06-.94 2.06-2.06.94zm-11 1L8.5 8.5l.94-2.06 2.06-.94-2.06-.94L8.5 2.5l-.94 2.06-2.06.94zm10 10l.94 2.06.94-2.06 2.06-.94-2.06-.94-.94-2.06-.94 2.06-2.06.94z\"/><path d=\"M17.41 7.96l-1.37-1.37c-.4-.4-.92-.59-1.43-.59-.52 0-1.04.2-1.43.59L10.3 9.45l-7.72 7.72c-.78.78-.78 2.05 0 2.83L4 21.41c.39.39.9.59 1.41.59.51 0 1.02-.2 1.41-.59l7.78-7.78 2.81-2.81c.8-.78.8-2.07 0-2.86zM5.41 20L4 18.59l7.72-7.72 1.47 1.35L5.41 20z\"/>\n",
       "  </svg>\n",
       "      </button>\n",
       "      \n",
       "  <style>\n",
       "    .colab-df-container {\n",
       "      display:flex;\n",
       "      flex-wrap:wrap;\n",
       "      gap: 12px;\n",
       "    }\n",
       "\n",
       "    .colab-df-convert {\n",
       "      background-color: #E8F0FE;\n",
       "      border: none;\n",
       "      border-radius: 50%;\n",
       "      cursor: pointer;\n",
       "      display: none;\n",
       "      fill: #1967D2;\n",
       "      height: 32px;\n",
       "      padding: 0 0 0 0;\n",
       "      width: 32px;\n",
       "    }\n",
       "\n",
       "    .colab-df-convert:hover {\n",
       "      background-color: #E2EBFA;\n",
       "      box-shadow: 0px 1px 2px rgba(60, 64, 67, 0.3), 0px 1px 3px 1px rgba(60, 64, 67, 0.15);\n",
       "      fill: #174EA6;\n",
       "    }\n",
       "\n",
       "    [theme=dark] .colab-df-convert {\n",
       "      background-color: #3B4455;\n",
       "      fill: #D2E3FC;\n",
       "    }\n",
       "\n",
       "    [theme=dark] .colab-df-convert:hover {\n",
       "      background-color: #434B5C;\n",
       "      box-shadow: 0px 1px 3px 1px rgba(0, 0, 0, 0.15);\n",
       "      filter: drop-shadow(0px 1px 2px rgba(0, 0, 0, 0.3));\n",
       "      fill: #FFFFFF;\n",
       "    }\n",
       "  </style>\n",
       "\n",
       "      <script>\n",
       "        const buttonEl =\n",
       "          document.querySelector('#df-64299251-89bd-4f5a-b866-71d340a79503 button.colab-df-convert');\n",
       "        buttonEl.style.display =\n",
       "          google.colab.kernel.accessAllowed ? 'block' : 'none';\n",
       "\n",
       "        async function convertToInteractive(key) {\n",
       "          const element = document.querySelector('#df-64299251-89bd-4f5a-b866-71d340a79503');\n",
       "          const dataTable =\n",
       "            await google.colab.kernel.invokeFunction('convertToInteractive',\n",
       "                                                     [key], {});\n",
       "          if (!dataTable) return;\n",
       "\n",
       "          const docLinkHtml = 'Like what you see? Visit the ' +\n",
       "            '<a target=\"_blank\" href=https://colab.research.google.com/notebooks/data_table.ipynb>data table notebook</a>'\n",
       "            + ' to learn more about interactive tables.';\n",
       "          element.innerHTML = '';\n",
       "          dataTable['output_type'] = 'display_data';\n",
       "          await google.colab.output.renderOutput(dataTable, element);\n",
       "          const docLink = document.createElement('div');\n",
       "          docLink.innerHTML = docLinkHtml;\n",
       "          element.appendChild(docLink);\n",
       "        }\n",
       "      </script>\n",
       "    </div>\n",
       "  </div>\n",
       "  "
      ],
      "text/plain": [
       "                     id       asins   brand                  categories  \\\n",
       "0  AVpe7AsMilAPnD_xQ78G  B00QJDU3KY  Amazon  Amazon Devices,mazon.co.uk   \n",
       "1  AVpe7AsMilAPnD_xQ78G  B00QJDU3KY  Amazon  Amazon Devices,mazon.co.uk   \n",
       "2  AVpe7AsMilAPnD_xQ78G  B00QJDU3KY  Amazon  Amazon Devices,mazon.co.uk   \n",
       "3  AVpe7AsMilAPnD_xQ78G  B00QJDU3KY  Amazon  Amazon Devices,mazon.co.uk   \n",
       "4  AVpe7AsMilAPnD_xQ78G  B00QJDU3KY  Amazon  Amazon Devices,mazon.co.uk   \n",
       "\n",
       "  colors             dateAdded           dateUpdated  \\\n",
       "0    NaN  2016-03-08T20:21:53Z  2017-07-18T23:52:58Z   \n",
       "1    NaN  2016-03-08T20:21:53Z  2017-07-18T23:52:58Z   \n",
       "2    NaN  2016-03-08T20:21:53Z  2017-07-18T23:52:58Z   \n",
       "3    NaN  2016-03-08T20:21:53Z  2017-07-18T23:52:58Z   \n",
       "4    NaN  2016-03-08T20:21:53Z  2017-07-18T23:52:58Z   \n",
       "\n",
       "                  dimension manufacturer manufacturerNumber  \\\n",
       "0  169 mm x 117 mm x 9.1 mm       Amazon                NaN   \n",
       "1  169 mm x 117 mm x 9.1 mm       Amazon                NaN   \n",
       "2  169 mm x 117 mm x 9.1 mm       Amazon                NaN   \n",
       "3  169 mm x 117 mm x 9.1 mm       Amazon                NaN   \n",
       "4  169 mm x 117 mm x 9.1 mm       Amazon                NaN   \n",
       "\n",
       "                name                                             prices  \\\n",
       "0  Kindle Paperwhite  [{\"amountMax\":139.99,\"amountMin\":139.99,\"curre...   \n",
       "1  Kindle Paperwhite  [{\"amountMax\":139.99,\"amountMin\":139.99,\"curre...   \n",
       "2  Kindle Paperwhite  [{\"amountMax\":139.99,\"amountMin\":139.99,\"curre...   \n",
       "3  Kindle Paperwhite  [{\"amountMax\":139.99,\"amountMin\":139.99,\"curre...   \n",
       "4  Kindle Paperwhite  [{\"amountMax\":139.99,\"amountMin\":139.99,\"curre...   \n",
       "\n",
       "               reviews.date reviews.doRecommend  reviews.numHelpful  \\\n",
       "0  2015-08-08T00:00:00.000Z                 NaN               139.0   \n",
       "1  2015-09-01T00:00:00.000Z                 NaN               126.0   \n",
       "2  2015-07-20T00:00:00.000Z                 NaN                69.0   \n",
       "3  2017-06-16T00:00:00.000Z                 NaN                 2.0   \n",
       "4  2016-08-11T00:00:00.000Z                 NaN                17.0   \n",
       "\n",
       "   reviews.rating    reviews.username     weight  \n",
       "0             5.0          Cristina M  205 grams  \n",
       "1             5.0               Ricky  205 grams  \n",
       "2             4.0       Tedd Gardiner  205 grams  \n",
       "3             5.0              Dougal  205 grams  \n",
       "4             5.0  Miljan David Tanic  205 grams  "
      ]
     },
     "execution_count": 11,
     "metadata": {},
     "output_type": "execute_result"
    }
   ],
   "source": [
    "# Top 5 rows\n",
    "dataset.head()"
   ]
  },
  {
   "cell_type": "code",
   "execution_count": 12,
   "id": "2f626fb1-d0c6-44de-818f-a20c9818a685",
   "metadata": {
    "colab": {
     "base_uri": "https://localhost:8080/",
     "height": 878
    },
    "id": "2f626fb1-d0c6-44de-818f-a20c9818a685",
    "outputId": "6722cf74-2686-4fd1-bd9c-dd77a967d9db"
   },
   "outputs": [
    {
     "data": {
      "text/html": [
       "\n",
       "  <div id=\"df-909c365d-d979-45ee-bb18-2a9943f883d0\">\n",
       "    <div class=\"colab-df-container\">\n",
       "      <div>\n",
       "<style scoped>\n",
       "    .dataframe tbody tr th:only-of-type {\n",
       "        vertical-align: middle;\n",
       "    }\n",
       "\n",
       "    .dataframe tbody tr th {\n",
       "        vertical-align: top;\n",
       "    }\n",
       "\n",
       "    .dataframe thead th {\n",
       "        text-align: right;\n",
       "    }\n",
       "</style>\n",
       "<table border=\"1\" class=\"dataframe\">\n",
       "  <thead>\n",
       "    <tr style=\"text-align: right;\">\n",
       "      <th></th>\n",
       "      <th>id</th>\n",
       "      <th>asins</th>\n",
       "      <th>brand</th>\n",
       "      <th>categories</th>\n",
       "      <th>colors</th>\n",
       "      <th>dateAdded</th>\n",
       "      <th>dateUpdated</th>\n",
       "      <th>dimension</th>\n",
       "      <th>manufacturer</th>\n",
       "      <th>manufacturerNumber</th>\n",
       "      <th>name</th>\n",
       "      <th>prices</th>\n",
       "      <th>reviews.date</th>\n",
       "      <th>reviews.doRecommend</th>\n",
       "      <th>reviews.numHelpful</th>\n",
       "      <th>reviews.rating</th>\n",
       "      <th>reviews.username</th>\n",
       "      <th>weight</th>\n",
       "    </tr>\n",
       "  </thead>\n",
       "  <tbody>\n",
       "    <tr>\n",
       "      <th>1592</th>\n",
       "      <td>AVpfo9ukilAPnD_xfhuj</td>\n",
       "      <td>B00NO8JJZW</td>\n",
       "      <td>Amazon</td>\n",
       "      <td>Amazon Devices &amp; Accessories,Amazon Device Acc...</td>\n",
       "      <td>NaN</td>\n",
       "      <td>2016-04-02T14:40:43Z</td>\n",
       "      <td>2017-08-13T08:28:46Z</td>\n",
       "      <td>NaN</td>\n",
       "      <td>NaN</td>\n",
       "      <td>DR49WK</td>\n",
       "      <td>Alexa Voice Remote for Amazon Fire TV and Fire...</td>\n",
       "      <td>[{\"amountMax\":29.99,\"amountMin\":29.99,\"currenc...</td>\n",
       "      <td>2016-07-06T00:00:00.000Z</td>\n",
       "      <td>NaN</td>\n",
       "      <td>9.0</td>\n",
       "      <td>3.0</td>\n",
       "      <td>GregAmandawith4</td>\n",
       "      <td>4 ounces</td>\n",
       "    </tr>\n",
       "    <tr>\n",
       "      <th>1593</th>\n",
       "      <td>AVpfo9ukilAPnD_xfhuj</td>\n",
       "      <td>B00NO8JJZW</td>\n",
       "      <td>Amazon</td>\n",
       "      <td>Amazon Devices &amp; Accessories,Amazon Device Acc...</td>\n",
       "      <td>NaN</td>\n",
       "      <td>2016-04-02T14:40:43Z</td>\n",
       "      <td>2017-08-13T08:28:46Z</td>\n",
       "      <td>NaN</td>\n",
       "      <td>NaN</td>\n",
       "      <td>DR49WK</td>\n",
       "      <td>Alexa Voice Remote for Amazon Fire TV and Fire...</td>\n",
       "      <td>[{\"amountMax\":29.99,\"amountMin\":29.99,\"currenc...</td>\n",
       "      <td>2016-06-22T00:00:00.000Z</td>\n",
       "      <td>NaN</td>\n",
       "      <td>41.0</td>\n",
       "      <td>1.0</td>\n",
       "      <td>Amazon Customer</td>\n",
       "      <td>4 ounces</td>\n",
       "    </tr>\n",
       "    <tr>\n",
       "      <th>1594</th>\n",
       "      <td>AVpfo9ukilAPnD_xfhuj</td>\n",
       "      <td>B00NO8JJZW</td>\n",
       "      <td>Amazon</td>\n",
       "      <td>Amazon Devices &amp; Accessories,Amazon Device Acc...</td>\n",
       "      <td>NaN</td>\n",
       "      <td>2016-04-02T14:40:43Z</td>\n",
       "      <td>2017-08-13T08:28:46Z</td>\n",
       "      <td>NaN</td>\n",
       "      <td>NaN</td>\n",
       "      <td>DR49WK</td>\n",
       "      <td>Alexa Voice Remote for Amazon Fire TV and Fire...</td>\n",
       "      <td>[{\"amountMax\":29.99,\"amountMin\":29.99,\"currenc...</td>\n",
       "      <td>2016-03-31T00:00:00.000Z</td>\n",
       "      <td>NaN</td>\n",
       "      <td>34.0</td>\n",
       "      <td>1.0</td>\n",
       "      <td>Amazon Customer</td>\n",
       "      <td>4 ounces</td>\n",
       "    </tr>\n",
       "    <tr>\n",
       "      <th>1595</th>\n",
       "      <td>AVpfo9ukilAPnD_xfhuj</td>\n",
       "      <td>B00NO8JJZW</td>\n",
       "      <td>Amazon</td>\n",
       "      <td>Amazon Devices &amp; Accessories,Amazon Device Acc...</td>\n",
       "      <td>NaN</td>\n",
       "      <td>2016-04-02T14:40:43Z</td>\n",
       "      <td>2017-08-13T08:28:46Z</td>\n",
       "      <td>NaN</td>\n",
       "      <td>NaN</td>\n",
       "      <td>DR49WK</td>\n",
       "      <td>Alexa Voice Remote for Amazon Fire TV and Fire...</td>\n",
       "      <td>[{\"amountMax\":29.99,\"amountMin\":29.99,\"currenc...</td>\n",
       "      <td>2016-04-26T00:00:00Z</td>\n",
       "      <td>NaN</td>\n",
       "      <td>7.0</td>\n",
       "      <td>3.0</td>\n",
       "      <td>Meg Ashley</td>\n",
       "      <td>4 ounces</td>\n",
       "    </tr>\n",
       "    <tr>\n",
       "      <th>1596</th>\n",
       "      <td>AVpfo9ukilAPnD_xfhuj</td>\n",
       "      <td>B00NO8JJZW</td>\n",
       "      <td>Amazon</td>\n",
       "      <td>Amazon Devices &amp; Accessories,Amazon Device Acc...</td>\n",
       "      <td>NaN</td>\n",
       "      <td>2016-04-02T14:40:43Z</td>\n",
       "      <td>2017-08-13T08:28:46Z</td>\n",
       "      <td>NaN</td>\n",
       "      <td>NaN</td>\n",
       "      <td>DR49WK</td>\n",
       "      <td>Alexa Voice Remote for Amazon Fire TV and Fire...</td>\n",
       "      <td>[{\"amountMax\":29.99,\"amountMin\":29.99,\"currenc...</td>\n",
       "      <td>2016-07-31T00:00:00Z</td>\n",
       "      <td>NaN</td>\n",
       "      <td>10.0</td>\n",
       "      <td>1.0</td>\n",
       "      <td>DIANE K</td>\n",
       "      <td>4 ounces</td>\n",
       "    </tr>\n",
       "  </tbody>\n",
       "</table>\n",
       "</div>\n",
       "      <button class=\"colab-df-convert\" onclick=\"convertToInteractive('df-909c365d-d979-45ee-bb18-2a9943f883d0')\"\n",
       "              title=\"Convert this dataframe to an interactive table.\"\n",
       "              style=\"display:none;\">\n",
       "        \n",
       "  <svg xmlns=\"http://www.w3.org/2000/svg\" height=\"24px\"viewBox=\"0 0 24 24\"\n",
       "       width=\"24px\">\n",
       "    <path d=\"M0 0h24v24H0V0z\" fill=\"none\"/>\n",
       "    <path d=\"M18.56 5.44l.94 2.06.94-2.06 2.06-.94-2.06-.94-.94-2.06-.94 2.06-2.06.94zm-11 1L8.5 8.5l.94-2.06 2.06-.94-2.06-.94L8.5 2.5l-.94 2.06-2.06.94zm10 10l.94 2.06.94-2.06 2.06-.94-2.06-.94-.94-2.06-.94 2.06-2.06.94z\"/><path d=\"M17.41 7.96l-1.37-1.37c-.4-.4-.92-.59-1.43-.59-.52 0-1.04.2-1.43.59L10.3 9.45l-7.72 7.72c-.78.78-.78 2.05 0 2.83L4 21.41c.39.39.9.59 1.41.59.51 0 1.02-.2 1.41-.59l7.78-7.78 2.81-2.81c.8-.78.8-2.07 0-2.86zM5.41 20L4 18.59l7.72-7.72 1.47 1.35L5.41 20z\"/>\n",
       "  </svg>\n",
       "      </button>\n",
       "      \n",
       "  <style>\n",
       "    .colab-df-container {\n",
       "      display:flex;\n",
       "      flex-wrap:wrap;\n",
       "      gap: 12px;\n",
       "    }\n",
       "\n",
       "    .colab-df-convert {\n",
       "      background-color: #E8F0FE;\n",
       "      border: none;\n",
       "      border-radius: 50%;\n",
       "      cursor: pointer;\n",
       "      display: none;\n",
       "      fill: #1967D2;\n",
       "      height: 32px;\n",
       "      padding: 0 0 0 0;\n",
       "      width: 32px;\n",
       "    }\n",
       "\n",
       "    .colab-df-convert:hover {\n",
       "      background-color: #E2EBFA;\n",
       "      box-shadow: 0px 1px 2px rgba(60, 64, 67, 0.3), 0px 1px 3px 1px rgba(60, 64, 67, 0.15);\n",
       "      fill: #174EA6;\n",
       "    }\n",
       "\n",
       "    [theme=dark] .colab-df-convert {\n",
       "      background-color: #3B4455;\n",
       "      fill: #D2E3FC;\n",
       "    }\n",
       "\n",
       "    [theme=dark] .colab-df-convert:hover {\n",
       "      background-color: #434B5C;\n",
       "      box-shadow: 0px 1px 3px 1px rgba(0, 0, 0, 0.15);\n",
       "      filter: drop-shadow(0px 1px 2px rgba(0, 0, 0, 0.3));\n",
       "      fill: #FFFFFF;\n",
       "    }\n",
       "  </style>\n",
       "\n",
       "      <script>\n",
       "        const buttonEl =\n",
       "          document.querySelector('#df-909c365d-d979-45ee-bb18-2a9943f883d0 button.colab-df-convert');\n",
       "        buttonEl.style.display =\n",
       "          google.colab.kernel.accessAllowed ? 'block' : 'none';\n",
       "\n",
       "        async function convertToInteractive(key) {\n",
       "          const element = document.querySelector('#df-909c365d-d979-45ee-bb18-2a9943f883d0');\n",
       "          const dataTable =\n",
       "            await google.colab.kernel.invokeFunction('convertToInteractive',\n",
       "                                                     [key], {});\n",
       "          if (!dataTable) return;\n",
       "\n",
       "          const docLinkHtml = 'Like what you see? Visit the ' +\n",
       "            '<a target=\"_blank\" href=https://colab.research.google.com/notebooks/data_table.ipynb>data table notebook</a>'\n",
       "            + ' to learn more about interactive tables.';\n",
       "          element.innerHTML = '';\n",
       "          dataTable['output_type'] = 'display_data';\n",
       "          await google.colab.output.renderOutput(dataTable, element);\n",
       "          const docLink = document.createElement('div');\n",
       "          docLink.innerHTML = docLinkHtml;\n",
       "          element.appendChild(docLink);\n",
       "        }\n",
       "      </script>\n",
       "    </div>\n",
       "  </div>\n",
       "  "
      ],
      "text/plain": [
       "                        id       asins   brand  \\\n",
       "1592  AVpfo9ukilAPnD_xfhuj  B00NO8JJZW  Amazon   \n",
       "1593  AVpfo9ukilAPnD_xfhuj  B00NO8JJZW  Amazon   \n",
       "1594  AVpfo9ukilAPnD_xfhuj  B00NO8JJZW  Amazon   \n",
       "1595  AVpfo9ukilAPnD_xfhuj  B00NO8JJZW  Amazon   \n",
       "1596  AVpfo9ukilAPnD_xfhuj  B00NO8JJZW  Amazon   \n",
       "\n",
       "                                             categories colors  \\\n",
       "1592  Amazon Devices & Accessories,Amazon Device Acc...    NaN   \n",
       "1593  Amazon Devices & Accessories,Amazon Device Acc...    NaN   \n",
       "1594  Amazon Devices & Accessories,Amazon Device Acc...    NaN   \n",
       "1595  Amazon Devices & Accessories,Amazon Device Acc...    NaN   \n",
       "1596  Amazon Devices & Accessories,Amazon Device Acc...    NaN   \n",
       "\n",
       "                 dateAdded           dateUpdated dimension manufacturer  \\\n",
       "1592  2016-04-02T14:40:43Z  2017-08-13T08:28:46Z       NaN          NaN   \n",
       "1593  2016-04-02T14:40:43Z  2017-08-13T08:28:46Z       NaN          NaN   \n",
       "1594  2016-04-02T14:40:43Z  2017-08-13T08:28:46Z       NaN          NaN   \n",
       "1595  2016-04-02T14:40:43Z  2017-08-13T08:28:46Z       NaN          NaN   \n",
       "1596  2016-04-02T14:40:43Z  2017-08-13T08:28:46Z       NaN          NaN   \n",
       "\n",
       "     manufacturerNumber                                               name  \\\n",
       "1592             DR49WK  Alexa Voice Remote for Amazon Fire TV and Fire...   \n",
       "1593             DR49WK  Alexa Voice Remote for Amazon Fire TV and Fire...   \n",
       "1594             DR49WK  Alexa Voice Remote for Amazon Fire TV and Fire...   \n",
       "1595             DR49WK  Alexa Voice Remote for Amazon Fire TV and Fire...   \n",
       "1596             DR49WK  Alexa Voice Remote for Amazon Fire TV and Fire...   \n",
       "\n",
       "                                                 prices  \\\n",
       "1592  [{\"amountMax\":29.99,\"amountMin\":29.99,\"currenc...   \n",
       "1593  [{\"amountMax\":29.99,\"amountMin\":29.99,\"currenc...   \n",
       "1594  [{\"amountMax\":29.99,\"amountMin\":29.99,\"currenc...   \n",
       "1595  [{\"amountMax\":29.99,\"amountMin\":29.99,\"currenc...   \n",
       "1596  [{\"amountMax\":29.99,\"amountMin\":29.99,\"currenc...   \n",
       "\n",
       "                  reviews.date reviews.doRecommend  reviews.numHelpful  \\\n",
       "1592  2016-07-06T00:00:00.000Z                 NaN                 9.0   \n",
       "1593  2016-06-22T00:00:00.000Z                 NaN                41.0   \n",
       "1594  2016-03-31T00:00:00.000Z                 NaN                34.0   \n",
       "1595      2016-04-26T00:00:00Z                 NaN                 7.0   \n",
       "1596      2016-07-31T00:00:00Z                 NaN                10.0   \n",
       "\n",
       "      reviews.rating reviews.username    weight  \n",
       "1592             3.0  GregAmandawith4  4 ounces  \n",
       "1593             1.0  Amazon Customer  4 ounces  \n",
       "1594             1.0  Amazon Customer  4 ounces  \n",
       "1595             3.0       Meg Ashley  4 ounces  \n",
       "1596             1.0          DIANE K  4 ounces  "
      ]
     },
     "execution_count": 12,
     "metadata": {},
     "output_type": "execute_result"
    }
   ],
   "source": [
    "# Last 5 rows \n",
    "dataset.tail()"
   ]
  },
  {
   "cell_type": "code",
   "execution_count": null,
   "id": "R8Ficgj86-aP",
   "metadata": {
    "id": "R8Ficgj86-aP"
   },
   "outputs": [],
   "source": []
  },
  {
   "cell_type": "code",
   "execution_count": null,
   "id": "1e89d906-6569-4447-8038-099fa967e9d4",
   "metadata": {
    "id": "1e89d906-6569-4447-8038-099fa967e9d4"
   },
   "outputs": [],
   "source": []
  },
  {
   "cell_type": "markdown",
   "id": "5a10f77a-eaf4-4e31-8dc2-ff3256778c38",
   "metadata": {
    "id": "5a10f77a-eaf4-4e31-8dc2-ff3256778c38"
   },
   "source": [
    "### Based on the information above:\n",
    "\n",
    "There will be some work needed in order to delivered for `Business Intelligence` purposes."
   ]
  },
  {
   "cell_type": "code",
   "execution_count": null,
   "id": "d8ec6dfb-5d54-45f6-a109-35af41f36c82",
   "metadata": {
    "id": "d8ec6dfb-5d54-45f6-a109-35af41f36c82"
   },
   "outputs": [],
   "source": []
  },
  {
   "cell_type": "markdown",
   "id": "0de3820b-40a2-4301-a7f0-17a86ff1807f",
   "metadata": {
    "id": "0de3820b-40a2-4301-a7f0-17a86ff1807f",
    "tags": []
   },
   "source": [
    "## `dataset.info()`\n",
    "\n",
    "- It is an important and widely used method of Python. \n",
    "- This Method prints the information or summary of the dataframe. \n",
    "- It prints the various information of the Dataframe such as index type, dtype, columns, non-values, and memory usage. It gives a quick overview of the dataset.\n",
    "- Info Method to get the Non-Null Count & Dtype (data type) of the dataset,\n",
    "- Validate if a column and column type aligns with the format of the Business Requirements. "
   ]
  },
  {
   "cell_type": "code",
   "execution_count": 13,
   "id": "f5642a3d-8b91-4da1-b540-bb0eede9d186",
   "metadata": {
    "colab": {
     "base_uri": "https://localhost:8080/"
    },
    "id": "f5642a3d-8b91-4da1-b540-bb0eede9d186",
    "outputId": "3aa8832e-414b-4393-e98d-9c607e3e843b"
   },
   "outputs": [
    {
     "name": "stdout",
     "output_type": "stream",
     "text": [
      "<class 'pandas.core.frame.DataFrame'>\n",
      "RangeIndex: 1597 entries, 0 to 1596\n",
      "Data columns (total 18 columns):\n",
      " #   Column               Non-Null Count  Dtype  \n",
      "---  ------               --------------  -----  \n",
      " 0   id                   1597 non-null   object \n",
      " 1   asins                1597 non-null   object \n",
      " 2   brand                1597 non-null   object \n",
      " 3   categories           1597 non-null   object \n",
      " 4   colors               774 non-null    object \n",
      " 5   dateAdded            1597 non-null   object \n",
      " 6   dateUpdated          1597 non-null   object \n",
      " 7   dimension            565 non-null    object \n",
      " 8   manufacturer         965 non-null    object \n",
      " 9   manufacturerNumber   902 non-null    object \n",
      " 10  name                 1597 non-null   object \n",
      " 11  prices               1597 non-null   object \n",
      " 12  reviews.date         1217 non-null   object \n",
      " 13  reviews.doRecommend  539 non-null    object \n",
      " 14  reviews.numHelpful   900 non-null    float64\n",
      " 15  reviews.rating       1177 non-null   float64\n",
      " 16  reviews.username     1580 non-null   object \n",
      " 17  weight               686 non-null    object \n",
      "dtypes: float64(2), object(16)\n",
      "memory usage: 224.7+ KB\n"
     ]
    }
   ],
   "source": [
    "dataset.info()"
   ]
  },
  {
   "cell_type": "code",
   "execution_count": null,
   "id": "3d79777e-2a0f-4e8b-9637-1e62ace9b078",
   "metadata": {
    "id": "3d79777e-2a0f-4e8b-9637-1e62ace9b078"
   },
   "outputs": [],
   "source": []
  },
  {
   "cell_type": "markdown",
   "id": "9ca249d8-9946-49b0-8c84-968af3ac69bb",
   "metadata": {
    "id": "9ca249d8-9946-49b0-8c84-968af3ac69bb"
   },
   "source": [
    "Based on this information above:\n",
    "\n",
    "\n",
    "- `id` & `asin` have same entries. no nulls, but inspect for unique values.\n",
    "- There are two Product brands: `Amazon` & `Moshi.`\n",
    "- A single `asin` can have many `names`.\n",
    "- The `categories` columns needs to be categoried. / Need a table of their own.\n",
    "- The data types for `dateAdded` , `dateUpdated` , `reviews.date` would be Transformed to `datetime` dtype format for Parsing Dates.\n",
    "- The `colors` column would be dropped. Values are not even on the rainbow.\n",
    "- The `dimension` column would be dropped. No purpose + 64% of data are null values\n",
    "- The `manufacturer` : ['Amazon' nan 'AMDSI'] are the unique Manufacturers. Will replace nans with 'Unknown'\n",
    "- The `manufacturerNumber` column would be dropped: Redundant data, 47.7% are null values. `id`/`asins` are similar.\n",
    "- The `name` column would be modified into bins/categories of Product Name. There are similar entries in different rows. Idea: Groupby?\n",
    "- The `prices` column needs thorough cleaning. Data from list in record entry.\n",
    "- The `reviews.date` `datetime` dtype format for Parsing Dates.\n",
    "- The `reviews.doRecommend` column is a Yes/No {`boolean`} data type. High Class imbalance on this table column. Also contains 60% dirty data, Dropped.\n",
    "- The `reviews.numHelpful` column null values can be replaced to 0. Assuming there were no helpful reviews.\n",
    "- The `weight` column would be dropped. as we are not using it for any purpose(Those are basically for weights).\n",
    "- There are 1580 username entries, cleaning to be done."
   ]
  },
  {
   "cell_type": "code",
   "execution_count": null,
   "id": "82e75236-9632-4f61-aca8-6424565a4f66",
   "metadata": {
    "id": "82e75236-9632-4f61-aca8-6424565a4f66"
   },
   "outputs": [],
   "source": []
  },
  {
   "cell_type": "markdown",
   "id": "b9ee7db3-0eb1-4202-a8fa-6538607b8808",
   "metadata": {
    "id": "b9ee7db3-0eb1-4202-a8fa-6538607b8808"
   },
   "source": [
    "## Step 1.3: Descriptive Statistics \n",
    "\n",
    "- Descriptive statistics include those that summarize the central tendency, dispersion and shape of a dataset's distribution, excluding NaN values. "
   ]
  },
  {
   "cell_type": "code",
   "execution_count": 14,
   "id": "fedc3dee-b7c1-4c4f-9490-27397e7fc186",
   "metadata": {
    "colab": {
     "base_uri": "https://localhost:8080/",
     "height": 300
    },
    "id": "fedc3dee-b7c1-4c4f-9490-27397e7fc186",
    "outputId": "ca552859-3ec0-4844-dfe2-1fc7b03145ef"
   },
   "outputs": [
    {
     "data": {
      "text/html": [
       "\n",
       "  <div id=\"df-6d60741f-baa5-43d6-a9d6-b78271dcf04b\">\n",
       "    <div class=\"colab-df-container\">\n",
       "      <div>\n",
       "<style scoped>\n",
       "    .dataframe tbody tr th:only-of-type {\n",
       "        vertical-align: middle;\n",
       "    }\n",
       "\n",
       "    .dataframe tbody tr th {\n",
       "        vertical-align: top;\n",
       "    }\n",
       "\n",
       "    .dataframe thead th {\n",
       "        text-align: right;\n",
       "    }\n",
       "</style>\n",
       "<table border=\"1\" class=\"dataframe\">\n",
       "  <thead>\n",
       "    <tr style=\"text-align: right;\">\n",
       "      <th></th>\n",
       "      <th>reviews.numHelpful</th>\n",
       "      <th>reviews.rating</th>\n",
       "    </tr>\n",
       "  </thead>\n",
       "  <tbody>\n",
       "    <tr>\n",
       "      <th>count</th>\n",
       "      <td>900.000000</td>\n",
       "      <td>1177.000000</td>\n",
       "    </tr>\n",
       "    <tr>\n",
       "      <th>mean</th>\n",
       "      <td>83.584444</td>\n",
       "      <td>4.359388</td>\n",
       "    </tr>\n",
       "    <tr>\n",
       "      <th>std</th>\n",
       "      <td>197.150238</td>\n",
       "      <td>1.021445</td>\n",
       "    </tr>\n",
       "    <tr>\n",
       "      <th>min</th>\n",
       "      <td>0.000000</td>\n",
       "      <td>1.000000</td>\n",
       "    </tr>\n",
       "    <tr>\n",
       "      <th>25%</th>\n",
       "      <td>0.000000</td>\n",
       "      <td>4.000000</td>\n",
       "    </tr>\n",
       "    <tr>\n",
       "      <th>50%</th>\n",
       "      <td>0.000000</td>\n",
       "      <td>5.000000</td>\n",
       "    </tr>\n",
       "    <tr>\n",
       "      <th>75%</th>\n",
       "      <td>34.000000</td>\n",
       "      <td>5.000000</td>\n",
       "    </tr>\n",
       "    <tr>\n",
       "      <th>max</th>\n",
       "      <td>997.000000</td>\n",
       "      <td>5.000000</td>\n",
       "    </tr>\n",
       "  </tbody>\n",
       "</table>\n",
       "</div>\n",
       "      <button class=\"colab-df-convert\" onclick=\"convertToInteractive('df-6d60741f-baa5-43d6-a9d6-b78271dcf04b')\"\n",
       "              title=\"Convert this dataframe to an interactive table.\"\n",
       "              style=\"display:none;\">\n",
       "        \n",
       "  <svg xmlns=\"http://www.w3.org/2000/svg\" height=\"24px\"viewBox=\"0 0 24 24\"\n",
       "       width=\"24px\">\n",
       "    <path d=\"M0 0h24v24H0V0z\" fill=\"none\"/>\n",
       "    <path d=\"M18.56 5.44l.94 2.06.94-2.06 2.06-.94-2.06-.94-.94-2.06-.94 2.06-2.06.94zm-11 1L8.5 8.5l.94-2.06 2.06-.94-2.06-.94L8.5 2.5l-.94 2.06-2.06.94zm10 10l.94 2.06.94-2.06 2.06-.94-2.06-.94-.94-2.06-.94 2.06-2.06.94z\"/><path d=\"M17.41 7.96l-1.37-1.37c-.4-.4-.92-.59-1.43-.59-.52 0-1.04.2-1.43.59L10.3 9.45l-7.72 7.72c-.78.78-.78 2.05 0 2.83L4 21.41c.39.39.9.59 1.41.59.51 0 1.02-.2 1.41-.59l7.78-7.78 2.81-2.81c.8-.78.8-2.07 0-2.86zM5.41 20L4 18.59l7.72-7.72 1.47 1.35L5.41 20z\"/>\n",
       "  </svg>\n",
       "      </button>\n",
       "      \n",
       "  <style>\n",
       "    .colab-df-container {\n",
       "      display:flex;\n",
       "      flex-wrap:wrap;\n",
       "      gap: 12px;\n",
       "    }\n",
       "\n",
       "    .colab-df-convert {\n",
       "      background-color: #E8F0FE;\n",
       "      border: none;\n",
       "      border-radius: 50%;\n",
       "      cursor: pointer;\n",
       "      display: none;\n",
       "      fill: #1967D2;\n",
       "      height: 32px;\n",
       "      padding: 0 0 0 0;\n",
       "      width: 32px;\n",
       "    }\n",
       "\n",
       "    .colab-df-convert:hover {\n",
       "      background-color: #E2EBFA;\n",
       "      box-shadow: 0px 1px 2px rgba(60, 64, 67, 0.3), 0px 1px 3px 1px rgba(60, 64, 67, 0.15);\n",
       "      fill: #174EA6;\n",
       "    }\n",
       "\n",
       "    [theme=dark] .colab-df-convert {\n",
       "      background-color: #3B4455;\n",
       "      fill: #D2E3FC;\n",
       "    }\n",
       "\n",
       "    [theme=dark] .colab-df-convert:hover {\n",
       "      background-color: #434B5C;\n",
       "      box-shadow: 0px 1px 3px 1px rgba(0, 0, 0, 0.15);\n",
       "      filter: drop-shadow(0px 1px 2px rgba(0, 0, 0, 0.3));\n",
       "      fill: #FFFFFF;\n",
       "    }\n",
       "  </style>\n",
       "\n",
       "      <script>\n",
       "        const buttonEl =\n",
       "          document.querySelector('#df-6d60741f-baa5-43d6-a9d6-b78271dcf04b button.colab-df-convert');\n",
       "        buttonEl.style.display =\n",
       "          google.colab.kernel.accessAllowed ? 'block' : 'none';\n",
       "\n",
       "        async function convertToInteractive(key) {\n",
       "          const element = document.querySelector('#df-6d60741f-baa5-43d6-a9d6-b78271dcf04b');\n",
       "          const dataTable =\n",
       "            await google.colab.kernel.invokeFunction('convertToInteractive',\n",
       "                                                     [key], {});\n",
       "          if (!dataTable) return;\n",
       "\n",
       "          const docLinkHtml = 'Like what you see? Visit the ' +\n",
       "            '<a target=\"_blank\" href=https://colab.research.google.com/notebooks/data_table.ipynb>data table notebook</a>'\n",
       "            + ' to learn more about interactive tables.';\n",
       "          element.innerHTML = '';\n",
       "          dataTable['output_type'] = 'display_data';\n",
       "          await google.colab.output.renderOutput(dataTable, element);\n",
       "          const docLink = document.createElement('div');\n",
       "          docLink.innerHTML = docLinkHtml;\n",
       "          element.appendChild(docLink);\n",
       "        }\n",
       "      </script>\n",
       "    </div>\n",
       "  </div>\n",
       "  "
      ],
      "text/plain": [
       "       reviews.numHelpful  reviews.rating\n",
       "count          900.000000     1177.000000\n",
       "mean            83.584444        4.359388\n",
       "std            197.150238        1.021445\n",
       "min              0.000000        1.000000\n",
       "25%              0.000000        4.000000\n",
       "50%              0.000000        5.000000\n",
       "75%             34.000000        5.000000\n",
       "max            997.000000        5.000000"
      ]
     },
     "execution_count": 14,
     "metadata": {},
     "output_type": "execute_result"
    }
   ],
   "source": [
    "dataset.describe()"
   ]
  },
  {
   "cell_type": "markdown",
   "id": "e3a384a6-a7de-4f54-be6a-32a65b59055f",
   "metadata": {
    "id": "e3a384a6-a7de-4f54-be6a-32a65b59055f"
   },
   "source": [
    "Based on the descriptive statistics above, we see the following:\n",
    "\n",
    "- Average review score of ~4.36, with low standard deviation.\n",
    "- Most review are positive from 2nd quartile onwards.\n",
    "- The average for number of reviews is ~83.58.\n",
    "- The range of most reviews will be between 0-197 people finding helpful (reviews.numHelpful)\n",
    "- The most helpful review was helpful to 997 people which is great.\n",
    "- This could be a detailed, rich review that will be worth looking at."
   ]
  },
  {
   "cell_type": "code",
   "execution_count": null,
   "id": "ae9f3ca8-e791-4985-b7a0-3622e0d097a7",
   "metadata": {
    "id": "ae9f3ca8-e791-4985-b7a0-3622e0d097a7"
   },
   "outputs": [],
   "source": []
  },
  {
   "cell_type": "markdown",
   "id": "9780f533-32aa-463f-a8c5-cca80b1576fd",
   "metadata": {
    "id": "9780f533-32aa-463f-a8c5-cca80b1576fd"
   },
   "source": [
    "## Step 1.4: `dataset.shape`\n",
    "\n",
    "- Return a tuple representing the dimensionality of the DataFrame.\n",
    "- Number of rows and column entries."
   ]
  },
  {
   "cell_type": "code",
   "execution_count": 15,
   "id": "293455fa-eea3-4635-9c2e-6750a3032ce1",
   "metadata": {
    "colab": {
     "base_uri": "https://localhost:8080/"
    },
    "id": "293455fa-eea3-4635-9c2e-6750a3032ce1",
    "outputId": "35c1cbcf-dc8a-404c-d76a-b20b8a59d272"
   },
   "outputs": [
    {
     "name": "stdout",
     "output_type": "stream",
     "text": [
      " -> Dimensionality :  (1597, 18)\n",
      " -> Number of Rows :  1597\n",
      " -> Number of Columns :  18\n",
      " -> Total Amazon Product Reviews :  1597\n",
      " -> Total Amazon Products :  1597\n"
     ]
    }
   ],
   "source": [
    "# .shape method \n",
    "print(' -> Dimensionality : ',dataset.shape) \n",
    "\n",
    "# computing number of rows\n",
    "rows = len(dataset.axes[0])\n",
    " \n",
    "# computing number of columns\n",
    "cols = len(dataset.axes[1])\n",
    " \n",
    "# Print Num of Rows & Columns \n",
    "print(\" -> Number of Rows : \", rows)\n",
    "print(\" -> Number of Columns : \", cols)\n",
    "\n",
    "# Total Reviews \n",
    "print(' -> Total Amazon Product Reviews : ',dataset.id.count())\n",
    "\n",
    "# Total Product Reviews \n",
    "print(' -> Total Amazon Products : ',dataset.name.count())"
   ]
  },
  {
   "cell_type": "code",
   "execution_count": null,
   "id": "ac1ef849-0b83-4795-bf26-e576a354dfa3",
   "metadata": {
    "id": "ac1ef849-0b83-4795-bf26-e576a354dfa3"
   },
   "outputs": [],
   "source": []
  },
  {
   "cell_type": "markdown",
   "id": "787fa3e1-aa07-4828-9aec-406c32bd517a",
   "metadata": {
    "id": "787fa3e1-aa07-4828-9aec-406c32bd517a"
   },
   "source": [
    "## Step 1.5: `Distinct Column Entries` & \n",
    "\n",
    "- To familiarise ourselves before we call the `.info` method."
   ]
  },
  {
   "cell_type": "code",
   "execution_count": 16,
   "id": "39219a80-fcf4-4257-9d38-bec25220870c",
   "metadata": {
    "colab": {
     "base_uri": "https://localhost:8080/"
    },
    "id": "39219a80-fcf4-4257-9d38-bec25220870c",
    "outputId": "fa63fb7a-1462-44da-c3eb-e5b9f4706684"
   },
   "outputs": [
    {
     "name": "stdout",
     "output_type": "stream",
     "text": [
      " -> Unique Brands :  ['Amazon' 'Moshi']\n",
      " -> Unique Product Name :  62\n",
      " -> Unique Colors:  [nan 'GB' 'Black' 'Clear']\n",
      " -> Unique Rating Reviews:  [ 5.  4. nan  3.  1.  2.]\n",
      " -> Unique Rating Usernames:  949\n",
      " -> Unique Product Recommendations:  [nan True False]\n",
      " -> Unique Product IDs:  66\n",
      " -> Unique Product asins:  54\n",
      " -> Unique Product manufacturer:  ['Amazon' nan 'AMDSI']\n",
      " -> Unique Product manufactureNumber:  [nan 'D01101' '8.48719E+11' 'B01BH83OOM' 'KA416Y' 'CV98LM' 'DR49WK']\n"
     ]
    }
   ],
   "source": [
    "# Distinct Brands\n",
    "print(' -> Unique Brands : ',dataset.brand.unique())\n",
    "\n",
    "# Number of Distinct 'names'\n",
    "print(' -> Unique Product Name : ',dataset.name.nunique())\n",
    "\n",
    "# Number of Distinct 'colors'\n",
    "print(' -> Unique Colors: ',dataset.colors.unique())\n",
    "\n",
    "# Number of Distinct 'Rating Reviews'\n",
    "print(' -> Unique Rating Reviews: ',dataset['reviews.rating'].unique())\n",
    "\n",
    "# Number of Distinct 'Rating Reviews'\n",
    "print(' -> Unique Rating Usernames: ',dataset['reviews.username'].nunique())\n",
    "\n",
    "# Number of Distinct 'Product Recommendations'\n",
    "print(' -> Unique Product Recommendations: ',dataset['reviews.doRecommend'].unique())\n",
    "\n",
    "# Number of Distinct 'IDS '\n",
    "print(' -> Unique Product IDs: ',dataset['id'].nunique())\n",
    "\n",
    "# Number of Distinct 'asins '\n",
    "print(' -> Unique Product asins: ',dataset['asins'].nunique())\n",
    "\n",
    "# Number of Distinct 'asins '\n",
    "print(' -> Unique Product manufacturer: ',dataset['manufacturer'].unique()) \n",
    "\n",
    "\n",
    "# Number of Distinct 'asins '\n",
    "print(' -> Unique Product manufactureNumber: ',dataset['manufacturerNumber'].unique())"
   ]
  },
  {
   "cell_type": "code",
   "execution_count": null,
   "id": "c3148e83-62a2-4d5a-a76c-2637442bf2b2",
   "metadata": {
    "id": "c3148e83-62a2-4d5a-a76c-2637442bf2b2"
   },
   "outputs": [],
   "source": []
  },
  {
   "cell_type": "code",
   "execution_count": null,
   "id": "69e4384f-85d7-4b1c-bb77-c4172ee7ba69",
   "metadata": {
    "id": "69e4384f-85d7-4b1c-bb77-c4172ee7ba69"
   },
   "outputs": [],
   "source": []
  },
  {
   "cell_type": "markdown",
   "id": "02686d5f-0666-4f62-b3e9-df2dafd64609",
   "metadata": {
    "id": "02686d5f-0666-4f62-b3e9-df2dafd64609",
    "tags": []
   },
   "source": [
    "## Step 1.5:  Exploratory Data Analysis\n",
    "\n",
    "- Now let’s dive deep into the data and try to mine some knowledge from the remaining columns."
   ]
  },
  {
   "cell_type": "markdown",
   "id": "cdf9b7eb-0830-4349-ab3d-ef980452c418",
   "metadata": {
    "id": "cdf9b7eb-0830-4349-ab3d-ef980452c418"
   },
   "source": [
    "#### Imbalanced `reviews.doRecommend` table"
   ]
  },
  {
   "cell_type": "code",
   "execution_count": 17,
   "id": "32f3b08f-9039-4365-b491-667b97fb68b3",
   "metadata": {
    "colab": {
     "base_uri": "https://localhost:8080/"
    },
    "id": "32f3b08f-9039-4365-b491-667b97fb68b3",
    "outputId": "29aad075-69c3-464e-e2ea-7c203cbd5816"
   },
   "outputs": [
    {
     "name": "stdout",
     "output_type": "stream",
     "text": [
      "True     93.32096474953617%\n",
      "False    6.679035250463822%\n",
      "Name: reviews.doRecommend, dtype: object\n"
     ]
    }
   ],
   "source": [
    "class_bal = dataset[\"reviews.doRecommend\"].value_counts(normalize=True).mul(100).astype(str)+'%'\n",
    "print(class_bal)"
   ]
  },
  {
   "cell_type": "code",
   "execution_count": 18,
   "id": "96503c75-6c4e-478e-a977-a10701eb9293",
   "metadata": {
    "colab": {
     "base_uri": "https://localhost:8080/"
    },
    "id": "96503c75-6c4e-478e-a977-a10701eb9293",
    "outputId": "2215f841-2e8d-46b0-a4bd-00713f30641a"
   },
   "outputs": [
    {
     "name": "stdout",
     "output_type": "stream",
     "text": [
      "True     503\n",
      "False     36\n",
      "Name: reviews.doRecommend, dtype: int64\n"
     ]
    }
   ],
   "source": [
    "class_count = dataset['reviews.doRecommend'].value_counts()\n",
    "print(class_count)"
   ]
  },
  {
   "cell_type": "code",
   "execution_count": 19,
   "id": "bbe59fdb-6b88-4960-9e89-2363bf178cd8",
   "metadata": {
    "colab": {
     "base_uri": "https://localhost:8080/"
    },
    "id": "bbe59fdb-6b88-4960-9e89-2363bf178cd8",
    "outputId": "6c3faed1-3994-4381-ba52-36cec3f3fe9c"
   },
   "outputs": [
    {
     "name": "stdout",
     "output_type": "stream",
     "text": [
      "Percentage of True Boolean Counts:93.32%\n",
      "Percentage of False Boolean Counts:6.68%\n"
     ]
    }
   ],
   "source": [
    "#Percentage of Boolean records in original data\n",
    "\n",
    "true_bool = len(dataset[dataset[\"reviews.doRecommend\"]==True])\n",
    "false_bool = len(dataset[dataset[\"reviews.doRecommend\"]==False])\n",
    "\n",
    "# Print Results\n",
    "print('Percentage of True Boolean Counts:{:.2f}%'.format((true_bool*100)/(true_bool+false_bool)))\n",
    "print('Percentage of False Boolean Counts:{:.2f}%'.format((false_bool*100)/(true_bool+false_bool)))"
   ]
  },
  {
   "cell_type": "code",
   "execution_count": 19,
   "id": "514a3e3e-c990-438f-8102-2b7d17eb9152",
   "metadata": {
    "id": "514a3e3e-c990-438f-8102-2b7d17eb9152"
   },
   "outputs": [],
   "source": []
  },
  {
   "cell_type": "code",
   "execution_count": 20,
   "id": "5031c7fd-8123-48e5-a1cb-daed7b34ef84",
   "metadata": {
    "colab": {
     "base_uri": "https://localhost:8080/",
     "height": 0
    },
    "id": "5031c7fd-8123-48e5-a1cb-daed7b34ef84",
    "outputId": "ba636e78-1b63-4431-b629-70398b677808"
   },
   "outputs": [
    {
     "data": {
      "text/plain": [
       "<matplotlib.axes._subplots.AxesSubplot at 0x7faafe518910>"
      ]
     },
     "execution_count": 20,
     "metadata": {},
     "output_type": "execute_result"
    },
    {
     "data": {
      "image/png": "[encoded data removed]",
      "text/plain": [
       "<Figure size 432x288 with 1 Axes>"
      ]
     },
     "metadata": {
      "needs_background": "light"
     },
     "output_type": "display_data"
    }
   ],
   "source": [
    "# we can also use countplot from seaborn to plot the above information graphically.\n",
    "sns.countplot(dataset['reviews.doRecommend'])"
   ]
  },
  {
   "cell_type": "code",
   "execution_count": 20,
   "id": "72eceb51-9faa-4304-8774-e7058a3a352e",
   "metadata": {
    "id": "72eceb51-9faa-4304-8774-e7058a3a352e"
   },
   "outputs": [],
   "source": []
  },
  {
   "cell_type": "markdown",
   "id": "3f93d79a-94e8-425a-a4af-4656a9ec3308",
   "metadata": {
    "id": "3f93d79a-94e8-425a-a4af-4656a9ec3308"
   },
   "source": [
    "#### `ASIN` & `Product_Name`"
   ]
  },
  {
   "cell_type": "markdown",
   "id": "e1b6f8e7-9354-46fb-9c31-2aa6468aa584",
   "metadata": {
    "id": "e1b6f8e7-9354-46fb-9c31-2aa6468aa584"
   },
   "source": [
    "- There exist a lot of duplicates wherein the different products is reviewed by same user at the same time.\n",
    "- The `ASIN` may be different but the `Product_Name` is similar with different variant.\n",
    "- Our Hypothesis is that one `ASIN` id can have multiple `Product_Names`."
   ]
  },
  {
   "cell_type": "code",
   "execution_count": 21,
   "id": "770b8fc4-a5c3-4d08-88c8-2aebc4a26afa",
   "metadata": {
    "colab": {
     "base_uri": "https://localhost:8080/"
    },
    "id": "770b8fc4-a5c3-4d08-88c8-2aebc4a26afa",
    "outputId": "5575c589-e6e3-45eb-d734-8864a474301d"
   },
   "outputs": [
    {
     "name": "stdout",
     "output_type": "stream",
     "text": [
      "Number of ASINs in dataset :62.00\n",
      "Number of Product Names in dataset :54.00\n"
     ]
    }
   ],
   "source": [
    "# ASIN & Product_Name\n",
    "# Argument: Multiple Asins for One Product \n",
    "\n",
    "p_name = len(dataset[\"name\"].unique())\n",
    "p_asin = len(dataset[\"asins\"].unique())\n",
    "\n",
    "# Print Results\n",
    "print('Number of ASINs in dataset :{:.2f}'.format(p_name))\n",
    "print('Number of Product Names in dataset :{:.2f}'.format(p_asin))"
   ]
  },
  {
   "cell_type": "code",
   "execution_count": 21,
   "id": "e58534d7-3373-40aa-8a24-83f6dd404c2e",
   "metadata": {
    "id": "e58534d7-3373-40aa-8a24-83f6dd404c2e"
   },
   "outputs": [],
   "source": []
  },
  {
   "cell_type": "markdown",
   "id": "232822c8-66e9-4215-b0a1-370c3003c782",
   "metadata": {
    "id": "232822c8-66e9-4215-b0a1-370c3003c782"
   },
   "source": [
    "Proof to back the claim."
   ]
  },
  {
   "cell_type": "code",
   "execution_count": 22,
   "id": "ac4c415d-9210-40da-a8e6-75b8b5209131",
   "metadata": {
    "colab": {
     "base_uri": "https://localhost:8080/"
    },
    "id": "ac4c415d-9210-40da-a8e6-75b8b5209131",
    "outputId": "bfd4fe75-3fa3-4b33-a2ef-74f126ff5ddf"
   },
   "outputs": [
    {
     "data": {
      "text/plain": [
       "asins\n",
       "B002Y27P3M                                                                                           [Kindle Keyboard]\n",
       "B008GG93YE,B00LWHUBPO,B0051QYGXA                                                                              [Kindle]\n",
       "B008GGCAVM,B00DOPNMVM                                                                              [Kindle Fire HD 7\"]\n",
       "B00CX5P8FC                                                                                            [Amazon Fire TV]\n",
       "B00DOPNK14                                                                                         [Kindle Paperwhite]\n",
       "B00DOPNLJ0                                                                                      [Kindle Fire HDX 8.9\"]\n",
       "B00DOPNO4M,B00BWYQ9YE,B00CYQPMJC,B00CUU1CGY,B00BWYRF7E,B00CYQP3AK                                 [Kindle Fire HDX 7\"]\n",
       "B00DU15MU4                                                           [Certified Refurbished Amazon Fire TV (Previou...\n",
       "B00HX0SRXW                                                                                 [Amazon Premium Headphones]\n",
       "B00K5W9WZW                                                           [Moshi Anti-Glare No Bubble Screen Protector f...\n",
       "B00KDRQEYQ                                                                     [Certified Refurbished Kindle E-reader]\n",
       "B00KSR13CE                                                                                         [Kindle Paperwhite]\n",
       "B00LORGAG6                                                               [Replacement Remote for Amazon Fire TV Stick]\n",
       "B00LWHU9D8                                                                                          [Fire HD 6 Tablet]\n",
       "B00LWHUAF0                                                                                          [Fire HD 7 Tablet]\n",
       "B00LWHUB9A                                                                                       [Fire HDX 8.9 Tablet]\n",
       "B00NO8JJZW                                                           [Alexa Voice Remote for Amazon Fire TV and Fir...\n",
       "B00NO8LX7E                                                           [All-New Amazon Fire TV Game Controller, Amazo...\n",
       "B00OQVZDJM                                                                        [Kindle Paperwhite E-reader - Black]\n",
       "B00PD81ETU                                                           [Certified Refurbished Kindle Voyage E-reader ...\n",
       "B00QJDS7I4                                                                        [Kindle Paperwhite E-reader - Black]\n",
       "B00QJDU3KY                                                                                         [Kindle Paperwhite]\n",
       "B00QJDVBFU                                                                                      [Kindle Paperwhite 3G]\n",
       "B00U879XZ8                                                           [Certified Refurbished Kindle Paperwhite E-rea...\n",
       "B00VKLBU3Y                                                                              [Fire HD 10 Tablet with Alexa]\n",
       "B00VKM5NFY                                                                              [Fire HD 10 Tablet with Alexa]\n",
       "B00ZS0G0PG                                                           [Kindle Oasis E-reader with Leather Charging C...\n",
       "B010BWYDYA                                                                                    [Fire Tablet with Alexa]\n",
       "B010BWYP20                                                                                  [Fire Kids Edition Tablet]\n",
       "B010EK1GOE                                                           [Kindle Oasis with Leather Charging Cover - Bl...\n",
       "B0117U82EM                                                                                          [Fire HD 8 Tablet]\n",
       "B0117U8JSG                                                                   [Certified Refurbished Fire HD 10 Tablet]\n",
       "B01A08E70K                                                                                   [Kindle E-reader - Black]\n",
       "B01A08ECQY                                                             [Certified Refurbished Kindle E-reader - Black]\n",
       "B01BH83OOM                                                           [Amazon Tap - Alexa-Enabled Portable Bluetooth...\n",
       "B01BRWH8G8                                                                               [Fire HD 8 Tablet with Alexa]\n",
       "B01E9AHU8Q                                                           [Alexa Voice Remote for Amazon Echo and Echo Dot]\n",
       "B01FWSVGQQ                                                           [Amazon Tap Sling Cover - Tangerine, Amazon Ta...\n",
       "B01HC1S9HU                                                           [Amazon Kindle Oasis Premium Leather Battery C...\n",
       "B01J2G4VBG                                                           [Kindle Voyage E-reader, Amazon 5W USB Officia...\n",
       "B01K8B8YA8                                                                         [Echo Dot (2nd Generation) - Black]\n",
       "B01KIOU214                                                                                       [Amazon Echo - Black]\n",
       "B01KIOU4EO                                                                                         [Echo Show - Black]\n",
       "B01KVZDFD2                                                           [Kindle for Kids Bundle with the latest Kindle...\n",
       "B01LW1MS9C                                                           [Amazon Echo Dot Case (fits Echo Dot 2nd Gener...\n",
       "B01M3ULMWP                                                                       [All-New Fire HD 8 Tablet with Alexa]\n",
       "B01M4NRFXX                                                                     [All-New Fire HD 8 Kids Edition Tablet]\n",
       "B01M4NU4OM                                                                        [All-New Fire 7 Kids Edition Tablet]\n",
       "B01M71HRMY                                                                          [All-New Fire 7 Tablet with Alexa]\n",
       "B06XDD27LJ                                                           [Certified Refurbished Echo Dot (2nd Generatio...\n",
       "B0711C7WL2                                                           [All-New Amazon Kid-Proof Case for Amazon Fire...\n",
       "B0716JZKLT                                                           [All-New Amazon Kid-Proof Case for Amazon Fire...\n",
       "B07194GPJV                                                           [All-New Amazon Fire 7 Tablet Case (7th Genera...\n",
       "B071NMTDHR                                                           [All-New Amazon Fire HD 8 Tablet Case (7th Gen...\n",
       "Name: name, dtype: object"
      ]
     },
     "execution_count": 22,
     "metadata": {},
     "output_type": "execute_result"
    }
   ],
   "source": [
    "# Proof there's multiple 'Asins' per product. \n",
    "\n",
    "dataset.groupby(\"asins\")[\"name\"].unique()"
   ]
  },
  {
   "cell_type": "code",
   "execution_count": 22,
   "id": "acc033a1-3633-445d-a57e-af2e17cab3aa",
   "metadata": {
    "id": "acc033a1-3633-445d-a57e-af2e17cab3aa"
   },
   "outputs": [],
   "source": []
  },
  {
   "cell_type": "code",
   "execution_count": 23,
   "id": "6587cc75-c444-4164-879d-c37cc19a2341",
   "metadata": {
    "colab": {
     "base_uri": "https://localhost:8080/"
    },
    "id": "6587cc75-c444-4164-879d-c37cc19a2341",
    "outputId": "f730e830-36be-40ad-dfa2-2cb5fa8a1742"
   },
   "outputs": [
    {
     "name": "stdout",
     "output_type": "stream",
     "text": [
      "Kindle Fire HDX 7\"\n"
     ]
    }
   ],
   "source": [
    "# Lets see all the name for this product that have 6 ASINs\n",
    "\n",
    "popular_product = dataset[dataset[\"asins\"] == \"B00DOPNO4M,B00BWYQ9YE,B00CYQPMJC,B00CUU1CGY,B00BWYRF7E,B00CYQP3AK\"][\"name\"].unique()\n",
    "for name in popular_product:\n",
    "    print(name)"
   ]
  },
  {
   "cell_type": "code",
   "execution_count": 23,
   "id": "d6239ce4-8198-438d-a752-703ca26557c7",
   "metadata": {
    "id": "d6239ce4-8198-438d-a752-703ca26557c7"
   },
   "outputs": [],
   "source": []
  },
  {
   "cell_type": "code",
   "execution_count": 24,
   "id": "d367f735-caec-4261-9fc8-cc47b956a7f5",
   "metadata": {
    "colab": {
     "base_uri": "https://localhost:8080/"
    },
    "id": "d367f735-caec-4261-9fc8-cc47b956a7f5",
    "outputId": "8b7a59fb-1547-4e4f-8fc1-95f3596cd857"
   },
   "outputs": [
    {
     "data": {
      "text/plain": [
       "NF                      15\n",
       "Amazon Reviewer         13\n",
       "Michael Gallagher       12\n",
       "Del                      2\n",
       "Richard Bouchard         1\n",
       "Belinda G. Underhill     1\n",
       "Deborah Ewert            1\n",
       "Lady Lou                 1\n",
       "BASig                    1\n",
       "David G. Moore           1\n",
       "Samuel Chell             1\n",
       "Ginger Shields           1\n",
       "Janice Mae Dunlevy       1\n",
       "Carlos                   1\n",
       "please let us know.      1\n",
       "Name: reviews.username, dtype: int64"
      ]
     },
     "execution_count": 24,
     "metadata": {},
     "output_type": "execute_result"
    }
   ],
   "source": [
    "# Let's dive deeper into the Hypothesis \n",
    "\n",
    "funny_user = dataset[dataset['asins'] == 'B00DOPNO4M,B00BWYQ9YE,B00CYQPMJC,B00CUU1CGY,B00BWYRF7E,B00CYQP3AK']\n",
    "#Electronics.head()\n",
    "funny_user['reviews.username'].value_counts()"
   ]
  },
  {
   "cell_type": "code",
   "execution_count": 24,
   "id": "87429868-4d60-43e1-a648-4a76c03d64a1",
   "metadata": {
    "id": "87429868-4d60-43e1-a648-4a76c03d64a1"
   },
   "outputs": [],
   "source": []
  },
  {
   "cell_type": "markdown",
   "id": "4cf37b2a-269f-4d3e-ad09-1f618614dd11",
   "metadata": {
    "id": "4cf37b2a-269f-4d3e-ad09-1f618614dd11"
   },
   "source": [
    "- In the above data we can see that 'NF' gave the multiple product reviews [ B00DOPNO4M,B00BWYQ9YE,B00CYQPMJC,B00CUU1CGY,B00BWYRF7E,B00CYQP3AK ] at the same time which is not possible ethically, the product were same but different flavours."
   ]
  },
  {
   "cell_type": "code",
   "execution_count": 24,
   "id": "bf88c2bb-9397-4983-9b52-e8355522ebdd",
   "metadata": {
    "id": "bf88c2bb-9397-4983-9b52-e8355522ebdd"
   },
   "outputs": [],
   "source": []
  },
  {
   "cell_type": "markdown",
   "id": "525ac296-b134-4050-90b6-5845eb46a64d",
   "metadata": {
    "id": "525ac296-b134-4050-90b6-5845eb46a64d"
   },
   "source": [
    "### Exploratory Data Analysis: `reviews.rating` Distribution. \n",
    "\n",
    "- The first step we would want to follow here is just to look at the distribution of the variables and try to make some notes. \n",
    "- First, let’s look at the distribution of the ratings."
   ]
  },
  {
   "cell_type": "code",
   "execution_count": 25,
   "id": "ee766586-92e0-4bdc-bfdd-e1762ebf990f",
   "metadata": {
    "colab": {
     "base_uri": "https://localhost:8080/",
     "height": 0
    },
    "id": "ee766586-92e0-4bdc-bfdd-e1762ebf990f",
    "outputId": "ca5590cf-7ec1-4413-84d4-3ad008fb0bf5"
   },
   "outputs": [
    {
     "data": {
      "image/png": "[encoded data removed]",
      "text/plain": [
       "<Figure size 432x288 with 1 Axes>"
      ]
     },
     "metadata": {},
     "output_type": "display_data"
    }
   ],
   "source": [
    "sns.set_theme(style='darkgrid',font_scale=1.15,palette=\"Set3\")\n",
    "ax=sns.countplot(x='reviews.rating',data=dataset)\n",
    "for p in ax.patches:\n",
    "        ax.annotate('{}'.format(p.get_height()), (p.get_x()+0.1, p.get_height()+50))\n",
    "    "
   ]
  },
  {
   "cell_type": "markdown",
   "id": "07091f42-a502-4bd2-a2d3-817df81c80e9",
   "metadata": {
    "id": "07091f42-a502-4bd2-a2d3-817df81c80e9"
   },
   "source": [
    "**INTUITION**\n",
    "\n",
    "The classes are quite imbalanced. Reviews with low/negative ratings are less."
   ]
  },
  {
   "cell_type": "code",
   "execution_count": 25,
   "id": "81dee3c0-c23e-419a-8b30-1b69decbf6d1",
   "metadata": {
    "id": "81dee3c0-c23e-419a-8b30-1b69decbf6d1"
   },
   "outputs": [],
   "source": []
  },
  {
   "cell_type": "markdown",
   "id": "1e1e1778-b8c3-4dd9-a623-d7c651b1184b",
   "metadata": {
    "id": "1e1e1778-b8c3-4dd9-a623-d7c651b1184b"
   },
   "source": [
    "### Exploratory Data Analysis: Conclusion. \n",
    "\n",
    "- After we've confirmed our hypothesis that each ASIN can have multiple Product Names. \n",
    "- Therefore we should only really concern ourselves with which ASINs do well, not the product names."
   ]
  },
  {
   "cell_type": "code",
   "execution_count": 26,
   "id": "0d35a01b-557b-4fc9-904b-0ed4637ac39f",
   "metadata": {
    "colab": {
     "base_uri": "https://localhost:8080/",
     "height": 0
    },
    "id": "0d35a01b-557b-4fc9-904b-0ed4637ac39f",
    "outputId": "0c83e48f-445b-459b-ab29-9aa5d3be35a6"
   },
   "outputs": [
    {
     "data": {
      "image/png": "[encoded data removed]",
      "text/plain": [
       "<Figure size 1152x720 with 2 Axes>"
      ]
     },
     "metadata": {},
     "output_type": "display_data"
    }
   ],
   "source": [
    "fig = plt.figure(figsize=(16,10))\n",
    "ax1 = plt.subplot(211)\n",
    "ax2 = plt.subplot(212, sharex = ax1)\n",
    "dataset[\"asins\"].value_counts().plot(kind=\"bar\", ax=ax1, title=\"ASIN Frequency\", color=['yellow', 'red', 'green', 'blue', 'cyan'])\n",
    "np.log10(dataset[\"asins\"].value_counts()).plot(kind=\"bar\", ax=ax2, title=\"ASIN Frequency (Log10 Adjusted)\", color=['yellow', 'red', 'green', 'blue', 'cyan']) \n",
    "plt.show()"
   ]
  },
  {
   "cell_type": "code",
   "execution_count": 26,
   "id": "2260d858-9778-4dc0-bc9d-cae3c936401c",
   "metadata": {
    "id": "2260d858-9778-4dc0-bc9d-cae3c936401c"
   },
   "outputs": [],
   "source": []
  },
  {
   "cell_type": "markdown",
   "id": "6f9b9a06-5883-4437-857b-177d304f3509",
   "metadata": {
    "id": "6f9b9a06-5883-4437-857b-177d304f3509"
   },
   "source": [
    "### Exploratory Data Analysis: Visualizing the distributions of numerical variables."
   ]
  },
  {
   "cell_type": "code",
   "execution_count": 27,
   "id": "f70a2354-bb5d-4490-ba16-1fba1a5119e0",
   "metadata": {
    "colab": {
     "base_uri": "https://localhost:8080/",
     "height": 0
    },
    "id": "f70a2354-bb5d-4490-ba16-1fba1a5119e0",
    "outputId": "ca3a9d0d-203f-41ae-825a-6d6b5c72fe25"
   },
   "outputs": [
    {
     "data": {
      "image/png": "[encoded data removed]",
      "text/plain": [
       "<Figure size 720x576 with 2 Axes>"
      ]
     },
     "metadata": {},
     "output_type": "display_data"
    }
   ],
   "source": [
    "dataset.hist(bins=50, figsize=(10,8)) # builds histogram and set the number of bins and fig size (width, height)\n",
    "plt.show()"
   ]
  },
  {
   "cell_type": "markdown",
   "id": "42e9de76-41af-467d-8e4b-416db222771d",
   "metadata": {
    "id": "42e9de76-41af-467d-8e4b-416db222771d"
   },
   "source": [
    "`reviews.numHelpful`: Outliers in this case are valuable, so we may want to weight reviews that had more than 50+ people who find them helpful."
   ]
  },
  {
   "cell_type": "code",
   "execution_count": 27,
   "id": "31b1505c-d6be-48de-8b1a-33afb4aee648",
   "metadata": {
    "id": "31b1505c-d6be-48de-8b1a-33afb4aee648"
   },
   "outputs": [],
   "source": []
  },
  {
   "cell_type": "code",
   "execution_count": 27,
   "id": "897bf8fa-9a26-43e5-a5f4-d515c50ed152",
   "metadata": {
    "id": "897bf8fa-9a26-43e5-a5f4-d515c50ed152"
   },
   "outputs": [],
   "source": []
  },
  {
   "cell_type": "code",
   "execution_count": 27,
   "id": "81646928-2e21-484c-ada5-44b0163dcc91",
   "metadata": {
    "id": "81646928-2e21-484c-ada5-44b0163dcc91"
   },
   "outputs": [],
   "source": []
  },
  {
   "cell_type": "code",
   "execution_count": 28,
   "id": "15c38b07-d55c-4350-b785-646d7cdec033",
   "metadata": {
    "id": "15c38b07-d55c-4350-b785-646d7cdec033"
   },
   "outputs": [],
   "source": [
    "# #--- Monthly Reviews\n",
    "# monthly = datset.groupby(['month'])['reviewerID'].count().reset_index()\n",
    "# monthly['month'] = monthly['month'].apply(lambda x : calendar.month_name[x])\n",
    "# monthly = monthly.rename(columns={'reviewerID':'no_of_reviews'})\n",
    "# monthChart = sns.barplot(x='month',y='no_of_reviews',data=monthly, ax = axes[0,1])\n",
    "# monthChart.set_title('No of reviews over month')\n",
    "# monthChart.set_xticklabels(monthChart.get_xticklabels(), rotation = 45, horizontalalignment = 'right')"
   ]
  },
  {
   "cell_type": "code",
   "execution_count": 28,
   "id": "e3e11612-84fa-46d0-8498-20142f6bd116",
   "metadata": {
    "id": "e3e11612-84fa-46d0-8498-20142f6bd116"
   },
   "outputs": [],
   "source": []
  },
  {
   "cell_type": "code",
   "execution_count": 28,
   "id": "060f26ae-926b-4643-a786-02bc4ae59de0",
   "metadata": {
    "id": "060f26ae-926b-4643-a786-02bc4ae59de0"
   },
   "outputs": [],
   "source": []
  },
  {
   "cell_type": "code",
   "execution_count": 28,
   "id": "eb6a2640-44a3-4fbe-9ac3-fd0864bede8e",
   "metadata": {
    "id": "eb6a2640-44a3-4fbe-9ac3-fd0864bede8e"
   },
   "outputs": [],
   "source": []
  },
  {
   "cell_type": "markdown",
   "id": "cd3b46f0-a836-436c-bb50-e1d62e1a484a",
   "metadata": {
    "id": "cd3b46f0-a836-436c-bb50-e1d62e1a484a",
    "tags": []
   },
   "source": [
    "## Step 2: Data Wrangling\n",
    "\n",
    "\n",
    "* The umbrella of `Data Cleaning`, `Data Transformation` and `Data-Preprocessing`.\n",
    "* In this step we would take a look at our data and investigate on any null/nan values, data types, neccessary & unnecessary columns \n",
    "* Then finally perform some data cleaning to get our dataset ready for feature engineering.\n",
    "\n",
    "Goals:\n",
    "\n",
    "0. Format Columns\n",
    "1. Handle Missing Values.\n",
    "2. Drop Redundant Dataframe Columns.\n",
    "3. Format date column to datime index.\n",
    "4. Rename Columns.\n",
    "5. Reset Dataframe Index.\n",
    "6. Feature Engineering: `categories` , `name` &  `prices`  columns.\n",
    "7. Save Clean_Dataset as CSV.\n",
    "8. Create New Tables from clean data."
   ]
  },
  {
   "cell_type": "code",
   "execution_count": 28,
   "id": "2ac7354c-b03a-4e39-a4f0-78a08a839e2f",
   "metadata": {
    "id": "2ac7354c-b03a-4e39-a4f0-78a08a839e2f"
   },
   "outputs": [],
   "source": []
  },
  {
   "cell_type": "markdown",
   "id": "6b53ef97-ae82-4a17-a3df-2bf0859ae222",
   "metadata": {
    "id": "6b53ef97-ae82-4a17-a3df-2bf0859ae222"
   },
   "source": [
    "#### Step 2.1: Missing / NaN / Null data."
   ]
  },
  {
   "cell_type": "code",
   "execution_count": 29,
   "id": "a63044e7-3034-429c-909e-f6ddde8843e1",
   "metadata": {
    "colab": {
     "base_uri": "https://localhost:8080/"
    },
    "id": "a63044e7-3034-429c-909e-f6ddde8843e1",
    "outputId": "04b40963-80e4-4b9f-de4a-1012995aac98"
   },
   "outputs": [
    {
     "name": "stdout",
     "output_type": "stream",
     "text": [
      "MISSING ROWS per COLUMN\n",
      "id: 0, 0.00%\n",
      "asins: 0, 0.00%\n",
      "brand: 0, 0.00%\n",
      "categories: 0, 0.00%\n",
      "colors: 823, 51.53%\n",
      "dateAdded: 0, 0.00%\n",
      "dateUpdated: 0, 0.00%\n",
      "dimension: 1032, 64.62%\n",
      "manufacturer: 632, 39.57%\n",
      "manufacturerNumber: 695, 43.52%\n",
      "name: 0, 0.00%\n",
      "prices: 0, 0.00%\n",
      "reviews.date: 380, 23.79%\n",
      "reviews.doRecommend: 1058, 66.25%\n",
      "reviews.numHelpful: 697, 43.64%\n",
      "reviews.rating: 420, 26.30%\n",
      "reviews.username: 17, 1.06%\n",
      "weight: 911, 57.04%\n",
      "Any missing value? True\n"
     ]
    }
   ],
   "source": [
    "# Function Call to grab the Percentage of Missing Rows Per Column \n",
    "\n",
    "def missing(datasett):\n",
    "    columns = datasett.columns\n",
    "    print('MISSING ROWS per COLUMN')\n",
    "    for column in columns:\n",
    "        percentage = (datasett[column].isnull().sum() / len(datasett)) * 100\n",
    "        print('{}: {}, {:0.2f}%'.format(column, datasett[column].isnull().sum(), percentage))\n",
    "     \n",
    "missing(dataset)\n",
    "\n",
    "# call on our dataset.\n",
    "print(\"Any missing value?\", dataset.isnull().values.any())"
   ]
  },
  {
   "cell_type": "code",
   "execution_count": 29,
   "id": "4c1fb2f9-2707-4926-8c6f-0e9d138a2b60",
   "metadata": {
    "id": "4c1fb2f9-2707-4926-8c6f-0e9d138a2b60"
   },
   "outputs": [],
   "source": []
  },
  {
   "cell_type": "markdown",
   "id": "737db038-ac30-4428-96ff-82994042184d",
   "metadata": {
    "id": "737db038-ac30-4428-96ff-82994042184d",
    "tags": []
   },
   "source": [
    "### Step 2.1.2: Handling Missing Values\n",
    "\n",
    "- Filling the missing values with right technique can change our results drastically.\n",
    "- Also, there is no fixed rule of filling the missing values.\n",
    "- No method is perfect for filling the missing values. \n",
    "- We need to use our common sense, our logic, or may need to see what works for that particular data set."
   ]
  },
  {
   "cell_type": "code",
   "execution_count": 29,
   "id": "dd3d86a7-d9b0-427c-a195-54888585bdeb",
   "metadata": {
    "id": "dd3d86a7-d9b0-427c-a195-54888585bdeb"
   },
   "outputs": [],
   "source": []
  },
  {
   "cell_type": "markdown",
   "id": "2b3648d1-3695-4231-84c2-e0a8018486de",
   "metadata": {
    "id": "2b3648d1-3695-4231-84c2-e0a8018486de"
   },
   "source": [
    "### Handling Missing Values in the `reviews.date` column."
   ]
  },
  {
   "cell_type": "code",
   "execution_count": 30,
   "id": "78b7340f-36af-4a1a-bfb5-928eebfb1da3",
   "metadata": {
    "colab": {
     "base_uri": "https://localhost:8080/"
    },
    "id": "78b7340f-36af-4a1a-bfb5-928eebfb1da3",
    "outputId": "d7e119d4-5cef-4ee1-833f-6c977b45cf28"
   },
   "outputs": [
    {
     "name": "stdout",
     "output_type": "stream",
     "text": [
      "0\n"
     ]
    }
   ],
   "source": [
    "# Dropping our data on a subset of the usernames that have messy data.\n",
    "\n",
    "dataset = dataset.dropna(subset=['reviews.date'])\n",
    "\n",
    "# Verify\n",
    "print(dataset['reviews.date'].isnull().sum())"
   ]
  },
  {
   "cell_type": "code",
   "execution_count": 30,
   "id": "665924c6-7cce-451f-9dff-e2b5b41236a4",
   "metadata": {
    "id": "665924c6-7cce-451f-9dff-e2b5b41236a4"
   },
   "outputs": [],
   "source": []
  },
  {
   "cell_type": "markdown",
   "id": "350ee771-b0a3-43cc-83e7-b467a0690e34",
   "metadata": {
    "id": "350ee771-b0a3-43cc-83e7-b467a0690e34"
   },
   "source": [
    "### Handling Missing Values in the `reviews.username` column."
   ]
  },
  {
   "cell_type": "code",
   "execution_count": 31,
   "id": "5c2923a3-0f87-40d4-8f08-1f9693573e8c",
   "metadata": {
    "colab": {
     "base_uri": "https://localhost:8080/"
    },
    "id": "5c2923a3-0f87-40d4-8f08-1f9693573e8c",
    "outputId": "5f4b1926-3744-4053-a487-6e6234fc3494"
   },
   "outputs": [
    {
     "name": "stdout",
     "output_type": "stream",
     "text": [
      "0\n"
     ]
    }
   ],
   "source": [
    "# Dropping our data on a subset of the usernames that have messy data.\n",
    "\n",
    "dataset = dataset.dropna(subset=['reviews.username'])\n",
    "\n",
    "# Verify\n",
    "print(dataset['reviews.username'].isnull().sum())"
   ]
  },
  {
   "cell_type": "code",
   "execution_count": 31,
   "id": "aeaa45a8-4c8f-4867-9c5c-90b20b654f5c",
   "metadata": {
    "id": "aeaa45a8-4c8f-4867-9c5c-90b20b654f5c"
   },
   "outputs": [],
   "source": []
  },
  {
   "cell_type": "markdown",
   "id": "42d19e94-7826-4e26-b1f2-69d0d6a3f2cb",
   "metadata": {
    "id": "42d19e94-7826-4e26-b1f2-69d0d6a3f2cb",
    "tags": []
   },
   "source": [
    "### Step 2.1.3: Handling Missing Values in the `reviews.rating` column\n",
    "\n",
    "- Here we will me using the `Median` value of Review Ratings to replace our null values.\n",
    "- Outliers affect the mean value of the data but have little effect on the `Median` or mode of a given set of data."
   ]
  },
  {
   "cell_type": "code",
   "execution_count": 32,
   "id": "a238b885-2cfb-4098-bb47-746a6624f42b",
   "metadata": {
    "colab": {
     "base_uri": "https://localhost:8080/"
    },
    "id": "a238b885-2cfb-4098-bb47-746a6624f42b",
    "outputId": "429438ad-5d1a-4612-a282-011f12c78a89"
   },
   "outputs": [
    {
     "name": "stdout",
     "output_type": "stream",
     "text": [
      "0\n"
     ]
    }
   ],
   "source": [
    "# Replace NaN values with the median\n",
    "dataset['reviews.rating'] = dataset['reviews.rating'].fillna(dataset['reviews.rating'].median())\n",
    "\n",
    "# Verify\n",
    "print(dataset['reviews.rating'].isnull().sum())"
   ]
  },
  {
   "cell_type": "code",
   "execution_count": 32,
   "id": "1136fc8b-8d60-408d-8665-549864938a77",
   "metadata": {
    "id": "1136fc8b-8d60-408d-8665-549864938a77"
   },
   "outputs": [],
   "source": []
  },
  {
   "cell_type": "markdown",
   "id": "83b3477b-c64c-46b6-86ab-610e62e127f8",
   "metadata": {
    "id": "83b3477b-c64c-46b6-86ab-610e62e127f8"
   },
   "source": [
    "### Step 2.1.4: Handling Missing Values in the `reviews.numHelpful` column\n",
    "\n",
    "- Here we will use the median as our fillna value."
   ]
  },
  {
   "cell_type": "code",
   "execution_count": 33,
   "id": "dab2ca3c-2726-434c-8a07-f46647a2edc6",
   "metadata": {
    "colab": {
     "base_uri": "https://localhost:8080/"
    },
    "id": "dab2ca3c-2726-434c-8a07-f46647a2edc6",
    "outputId": "06e69ec9-39b2-44b1-d3ff-c65d2aea6994"
   },
   "outputs": [
    {
     "name": "stdout",
     "output_type": "stream",
     "text": [
      "0\n"
     ]
    }
   ],
   "source": [
    "# Replace NaN values with Median.\n",
    "dataset['reviews.numHelpful'] = dataset['reviews.numHelpful'].fillna(dataset['reviews.numHelpful'].median())\n",
    "\n",
    "# Verify\n",
    "print(dataset['reviews.numHelpful'].isna().sum())"
   ]
  },
  {
   "cell_type": "code",
   "execution_count": 33,
   "id": "9f3a3933-e173-4b6e-8621-09a7d4046edf",
   "metadata": {
    "id": "9f3a3933-e173-4b6e-8621-09a7d4046edf"
   },
   "outputs": [],
   "source": []
  },
  {
   "cell_type": "markdown",
   "id": "7c7bec92-3fa4-4ab2-a153-7d00eaaae0bd",
   "metadata": {
    "id": "7c7bec92-3fa4-4ab2-a153-7d00eaaae0bd"
   },
   "source": [
    "### Step 2.1.5: Handling Missing Values in the `reviews.doRecommend` column.\n",
    "\n",
    "* We were hesitant to drop this table, but later circled back to the theme of the project `reviews` \n",
    "* So we'll fill in the null values as `Uknown` : this could serve as a placer holder for finding fake accounts.\n",
    "* Or help with security etc."
   ]
  },
  {
   "cell_type": "code",
   "execution_count": 34,
   "id": "214aa7c4-c6c8-4275-90dd-234700b9929c",
   "metadata": {
    "colab": {
     "base_uri": "https://localhost:8080/"
    },
    "id": "214aa7c4-c6c8-4275-90dd-234700b9929c",
    "outputId": "040cf482-d3c9-419e-a00b-ecec3f6f86f0"
   },
   "outputs": [
    {
     "name": "stdout",
     "output_type": "stream",
     "text": [
      "0\n"
     ]
    }
   ],
   "source": [
    "# Replace NaN values with Unknown.\n",
    "dataset['reviews.doRecommend'].fillna('Unknown', inplace=True)\n",
    "\n",
    "# Verify\n",
    "print(dataset['reviews.doRecommend'].isna().sum())"
   ]
  },
  {
   "cell_type": "code",
   "execution_count": 34,
   "id": "a846def1-e1b2-4357-9f82-5c1a98b146a2",
   "metadata": {
    "id": "a846def1-e1b2-4357-9f82-5c1a98b146a2"
   },
   "outputs": [],
   "source": []
  },
  {
   "cell_type": "markdown",
   "id": "e862a129-11b6-476b-a682-1c653eb2df7d",
   "metadata": {
    "id": "e862a129-11b6-476b-a682-1c653eb2df7d"
   },
   "source": [
    "### Handling Missing Values in the `manufacturer` column."
   ]
  },
  {
   "cell_type": "code",
   "execution_count": 35,
   "id": "90610339-cbdd-46cd-b524-d900a46b6467",
   "metadata": {
    "colab": {
     "base_uri": "https://localhost:8080/"
    },
    "id": "90610339-cbdd-46cd-b524-d900a46b6467",
    "outputId": "e76bf954-06bf-4b2e-a3ea-3b91ef7042b1"
   },
   "outputs": [
    {
     "name": "stdout",
     "output_type": "stream",
     "text": [
      "0\n"
     ]
    }
   ],
   "source": [
    "# Replace NaN values with Unknown.\n",
    "dataset['manufacturer'].replace(np.nan, 'Unknown', inplace=True)\n",
    "\n",
    "# Verify\n",
    "print(dataset['manufacturer'].isnull().sum())"
   ]
  },
  {
   "cell_type": "code",
   "execution_count": 35,
   "id": "cb528563-5579-4f6a-b8f0-0bd8905c465c",
   "metadata": {
    "id": "cb528563-5579-4f6a-b8f0-0bd8905c465c"
   },
   "outputs": [],
   "source": []
  },
  {
   "cell_type": "code",
   "execution_count": 35,
   "id": "cbd845b1-62fa-4db0-a6da-724123823a12",
   "metadata": {
    "id": "cbd845b1-62fa-4db0-a6da-724123823a12"
   },
   "outputs": [],
   "source": []
  },
  {
   "cell_type": "markdown",
   "id": "e45256f4-3ea7-4592-a9fc-5697f2afefa7",
   "metadata": {
    "id": "e45256f4-3ea7-4592-a9fc-5697f2afefa7"
   },
   "source": [
    "### Step 2.1.6: Dropping columns with high null values and keeping only important columns."
   ]
  },
  {
   "cell_type": "code",
   "execution_count": 36,
   "id": "00cd7875-e38c-4a16-883b-140e58f9861c",
   "metadata": {
    "colab": {
     "base_uri": "https://localhost:8080/"
    },
    "id": "00cd7875-e38c-4a16-883b-140e58f9861c",
    "outputId": "54fcfd77-4d7d-4bd9-ac65-a717386c8ebc"
   },
   "outputs": [
    {
     "data": {
      "text/plain": [
       "Index(['id', 'asins', 'brand', 'categories', 'colors', 'dateAdded',\n",
       "       'dateUpdated', 'dimension', 'manufacturer', 'manufacturerNumber',\n",
       "       'name', 'prices', 'reviews.date', 'reviews.doRecommend',\n",
       "       'reviews.numHelpful', 'reviews.rating', 'reviews.username', 'weight'],\n",
       "      dtype='object')"
      ]
     },
     "execution_count": 36,
     "metadata": {},
     "output_type": "execute_result"
    }
   ],
   "source": [
    "# lets see our tables\n",
    "dataset.columns"
   ]
  },
  {
   "cell_type": "code",
   "execution_count": 36,
   "id": "7d6a5c75-ce52-4ff9-b3fb-713a88610e58",
   "metadata": {
    "id": "7d6a5c75-ce52-4ff9-b3fb-713a88610e58"
   },
   "outputs": [],
   "source": []
  },
  {
   "cell_type": "code",
   "execution_count": 37,
   "id": "45699a3f-f025-4609-91f4-44aceead065f",
   "metadata": {
    "id": "45699a3f-f025-4609-91f4-44aceead065f"
   },
   "outputs": [],
   "source": [
    "# Deleted column index from df\n",
    "    \n",
    "dataset.drop(['colors', 'dimension', 'manufacturerNumber', 'weight'], axis=1, inplace=True)"
   ]
  },
  {
   "cell_type": "code",
   "execution_count": 37,
   "id": "ed21393b-abf2-495b-951e-342147cb51f2",
   "metadata": {
    "id": "ed21393b-abf2-495b-951e-342147cb51f2"
   },
   "outputs": [],
   "source": []
  },
  {
   "cell_type": "code",
   "execution_count": 38,
   "id": "ca64b80b-152d-4afe-acfd-1949e5920cad",
   "metadata": {
    "colab": {
     "base_uri": "https://localhost:8080/"
    },
    "id": "ca64b80b-152d-4afe-acfd-1949e5920cad",
    "outputId": "1d842061-3b1d-467b-9bf5-ce5bc39d4479"
   },
   "outputs": [
    {
     "data": {
      "text/plain": [
       "Index(['id', 'asins', 'brand', 'categories', 'dateAdded', 'dateUpdated',\n",
       "       'manufacturer', 'name', 'prices', 'reviews.date', 'reviews.doRecommend',\n",
       "       'reviews.numHelpful', 'reviews.rating', 'reviews.username'],\n",
       "      dtype='object')"
      ]
     },
     "execution_count": 38,
     "metadata": {},
     "output_type": "execute_result"
    }
   ],
   "source": [
    "# lets see our tables\n",
    "dataset.columns"
   ]
  },
  {
   "cell_type": "code",
   "execution_count": 38,
   "id": "c1562cac-4553-44a6-8dd2-524a992964e6",
   "metadata": {
    "id": "c1562cac-4553-44a6-8dd2-524a992964e6"
   },
   "outputs": [],
   "source": []
  },
  {
   "cell_type": "code",
   "execution_count": 38,
   "id": "769bb8fa-a9ac-4493-a0d8-dccd8cc69c03",
   "metadata": {
    "id": "769bb8fa-a9ac-4493-a0d8-dccd8cc69c03"
   },
   "outputs": [],
   "source": []
  },
  {
   "cell_type": "markdown",
   "id": "85e2bcd4-fe7f-40c3-acec-6d438a778f4a",
   "metadata": {
    "id": "85e2bcd4-fe7f-40c3-acec-6d438a778f4a"
   },
   "source": [
    "### Step 2.1.7: Renaming Columns\n",
    "\n",
    " - To maintain readability."
   ]
  },
  {
   "cell_type": "code",
   "execution_count": 39,
   "id": "e3d8c941-1c54-4fc3-9fd2-85f03ccbd832",
   "metadata": {
    "colab": {
     "base_uri": "https://localhost:8080/"
    },
    "id": "e3d8c941-1c54-4fc3-9fd2-85f03ccbd832",
    "outputId": "a7f730df-f87e-4e7e-9256-e2535610d149"
   },
   "outputs": [
    {
     "name": "stdout",
     "output_type": "stream",
     "text": [
      "<class 'pandas.core.frame.DataFrame'>\n",
      "Int64Index: 1200 entries, 0 to 1596\n",
      "Data columns (total 14 columns):\n",
      " #   Column                 Non-Null Count  Dtype  \n",
      "---  ------                 --------------  -----  \n",
      " 0   id                     1200 non-null   object \n",
      " 1   Asins                  1200 non-null   object \n",
      " 2   Brand                  1200 non-null   object \n",
      " 3   Categories             1200 non-null   object \n",
      " 4   DateAdded              1200 non-null   object \n",
      " 5   DateUpdated            1200 non-null   object \n",
      " 6   Product_Manufacturer   1200 non-null   object \n",
      " 7   Product_Name           1200 non-null   object \n",
      " 8   Product_Price          1200 non-null   object \n",
      " 9   Review_Date            1200 non-null   object \n",
      " 10  Review_Recommendation  1200 non-null   object \n",
      " 11  Reviews_Helpful        1200 non-null   float64\n",
      " 12  Reviews_Rating         1200 non-null   float64\n",
      " 13  Reviews_Username       1200 non-null   object \n",
      "dtypes: float64(2), object(12)\n",
      "memory usage: 140.6+ KB\n"
     ]
    }
   ],
   "source": [
    "# Rename\n",
    "dataset.rename(columns = {'id':'id', 'asins':'Asins',\n",
    "                              'brand':'Brand','categories':'Categories', 'dateAdded':'DateAdded', 'dateUpdated':'DateUpdated',  'manufacturer':'Product_Manufacturer', 'name':'Product_Name', 'prices':'Product_Price' , 'reviews.date':'Review_Date' , 'reviews.doRecommend':'Review_Recommendation' ,\n",
    "                           'reviews.numHelpful':'Reviews_Helpful','reviews.rating':'Reviews_Rating', 'reviews.username':'Reviews_Username'},inplace = True)\n",
    "   \n",
    "# Verify the Column Rename\n",
    "dataset.info()"
   ]
  },
  {
   "cell_type": "code",
   "execution_count": 39,
   "id": "5246ce78-65d5-43fd-901d-bef7126b37aa",
   "metadata": {
    "id": "5246ce78-65d5-43fd-901d-bef7126b37aa"
   },
   "outputs": [],
   "source": []
  },
  {
   "cell_type": "code",
   "execution_count": 39,
   "id": "6e33041f-e505-4b37-ba3c-8e826cd5dad1",
   "metadata": {
    "id": "6e33041f-e505-4b37-ba3c-8e826cd5dad1"
   },
   "outputs": [],
   "source": []
  },
  {
   "cell_type": "markdown",
   "id": "771ac5a4-fe79-4318-a41c-e0f836168baf",
   "metadata": {
    "id": "771ac5a4-fe79-4318-a41c-e0f836168baf",
    "tags": []
   },
   "source": [
    "### `Product_Price` table."
   ]
  },
  {
   "cell_type": "code",
   "execution_count": 40,
   "id": "d3dc73a9-0ccc-49b3-9410-97e46c9b2ab8",
   "metadata": {
    "colab": {
     "base_uri": "https://localhost:8080/",
     "height": 0
    },
    "id": "d3dc73a9-0ccc-49b3-9410-97e46c9b2ab8",
    "outputId": "79b47bf4-ae7c-41b4-94c4-c80f2fc486c3"
   },
   "outputs": [
    {
     "data": {
      "text/html": [
       "\n",
       "  <div id=\"df-49748ec0-3b9b-423f-bd6f-c07e26fede2e\">\n",
       "    <div class=\"colab-df-container\">\n",
       "      <div>\n",
       "<style scoped>\n",
       "    .dataframe tbody tr th:only-of-type {\n",
       "        vertical-align: middle;\n",
       "    }\n",
       "\n",
       "    .dataframe tbody tr th {\n",
       "        vertical-align: top;\n",
       "    }\n",
       "\n",
       "    .dataframe thead th {\n",
       "        text-align: right;\n",
       "    }\n",
       "</style>\n",
       "<table border=\"1\" class=\"dataframe\">\n",
       "  <thead>\n",
       "    <tr style=\"text-align: right;\">\n",
       "      <th></th>\n",
       "      <th>amountMax</th>\n",
       "      <th>amountMin</th>\n",
       "      <th>currency</th>\n",
       "      <th>dateAdded</th>\n",
       "      <th>dateSeen</th>\n",
       "      <th>isSale</th>\n",
       "      <th>merchant</th>\n",
       "      <th>shipping</th>\n",
       "      <th>sourceURLs</th>\n",
       "      <th>condition</th>\n",
       "    </tr>\n",
       "  </thead>\n",
       "  <tbody>\n",
       "    <tr>\n",
       "      <th>0</th>\n",
       "      <td>139.99</td>\n",
       "      <td>139.99</td>\n",
       "      <td>USD</td>\n",
       "      <td>2017-07-18T23:52:58Z</td>\n",
       "      <td>[2017-07-15T18:10:23.807Z, 2016-03-16T00:00:00Z]</td>\n",
       "      <td>false</td>\n",
       "      <td>Amazon.com</td>\n",
       "      <td>FREE Shipping.</td>\n",
       "      <td>[https://www.amazon.com/Kindle-Paperwhite-High...</td>\n",
       "      <td>NaN</td>\n",
       "    </tr>\n",
       "    <tr>\n",
       "      <th>1</th>\n",
       "      <td>139.99</td>\n",
       "      <td>139.99</td>\n",
       "      <td>USD</td>\n",
       "      <td>2017-07-18T23:52:58Z</td>\n",
       "      <td>[2017-07-15T18:10:23.807Z, 2016-03-16T00:00:00Z]</td>\n",
       "      <td>false</td>\n",
       "      <td>Amazon.com</td>\n",
       "      <td>FREE Shipping.</td>\n",
       "      <td>[https://www.amazon.com/Kindle-Paperwhite-High...</td>\n",
       "      <td>NaN</td>\n",
       "    </tr>\n",
       "    <tr>\n",
       "      <th>2</th>\n",
       "      <td>139.99</td>\n",
       "      <td>139.99</td>\n",
       "      <td>USD</td>\n",
       "      <td>2017-07-18T23:52:58Z</td>\n",
       "      <td>[2017-07-15T18:10:23.807Z, 2016-03-16T00:00:00Z]</td>\n",
       "      <td>false</td>\n",
       "      <td>Amazon.com</td>\n",
       "      <td>FREE Shipping.</td>\n",
       "      <td>[https://www.amazon.com/Kindle-Paperwhite-High...</td>\n",
       "      <td>NaN</td>\n",
       "    </tr>\n",
       "    <tr>\n",
       "      <th>3</th>\n",
       "      <td>139.99</td>\n",
       "      <td>139.99</td>\n",
       "      <td>USD</td>\n",
       "      <td>2017-07-18T23:52:58Z</td>\n",
       "      <td>[2017-07-15T18:10:23.807Z, 2016-03-16T00:00:00Z]</td>\n",
       "      <td>false</td>\n",
       "      <td>Amazon.com</td>\n",
       "      <td>FREE Shipping.</td>\n",
       "      <td>[https://www.amazon.com/Kindle-Paperwhite-High...</td>\n",
       "      <td>NaN</td>\n",
       "    </tr>\n",
       "    <tr>\n",
       "      <th>4</th>\n",
       "      <td>139.99</td>\n",
       "      <td>139.99</td>\n",
       "      <td>USD</td>\n",
       "      <td>2017-07-18T23:52:58Z</td>\n",
       "      <td>[2017-07-15T18:10:23.807Z, 2016-03-16T00:00:00Z]</td>\n",
       "      <td>false</td>\n",
       "      <td>Amazon.com</td>\n",
       "      <td>FREE Shipping.</td>\n",
       "      <td>[https://www.amazon.com/Kindle-Paperwhite-High...</td>\n",
       "      <td>NaN</td>\n",
       "    </tr>\n",
       "    <tr>\n",
       "      <th>...</th>\n",
       "      <td>...</td>\n",
       "      <td>...</td>\n",
       "      <td>...</td>\n",
       "      <td>...</td>\n",
       "      <td>...</td>\n",
       "      <td>...</td>\n",
       "      <td>...</td>\n",
       "      <td>...</td>\n",
       "      <td>...</td>\n",
       "      <td>...</td>\n",
       "    </tr>\n",
       "    <tr>\n",
       "      <th>1195</th>\n",
       "      <td>29.99</td>\n",
       "      <td>29.99</td>\n",
       "      <td>USD</td>\n",
       "      <td>2017-08-13T08:28:46Z</td>\n",
       "      <td>[2017-07-25T23:50:10.867Z, 2017-07-25T23:45:16...</td>\n",
       "      <td>false</td>\n",
       "      <td>easy-to-open packaging</td>\n",
       "      <td>FREE Shipping.</td>\n",
       "      <td>[https://www.amazon.com/Alexa-Voice-Remote-Ama...</td>\n",
       "      <td>NaN</td>\n",
       "    </tr>\n",
       "    <tr>\n",
       "      <th>1196</th>\n",
       "      <td>29.99</td>\n",
       "      <td>29.99</td>\n",
       "      <td>USD</td>\n",
       "      <td>2017-08-13T08:28:46Z</td>\n",
       "      <td>[2017-07-25T23:50:10.867Z, 2017-07-25T23:45:16...</td>\n",
       "      <td>false</td>\n",
       "      <td>easy-to-open packaging</td>\n",
       "      <td>FREE Shipping.</td>\n",
       "      <td>[https://www.amazon.com/Alexa-Voice-Remote-Ama...</td>\n",
       "      <td>NaN</td>\n",
       "    </tr>\n",
       "    <tr>\n",
       "      <th>1197</th>\n",
       "      <td>29.99</td>\n",
       "      <td>29.99</td>\n",
       "      <td>USD</td>\n",
       "      <td>2017-08-13T08:28:46Z</td>\n",
       "      <td>[2017-07-25T23:50:10.867Z, 2017-07-25T23:45:16...</td>\n",
       "      <td>false</td>\n",
       "      <td>easy-to-open packaging</td>\n",
       "      <td>FREE Shipping.</td>\n",
       "      <td>[https://www.amazon.com/Alexa-Voice-Remote-Ama...</td>\n",
       "      <td>NaN</td>\n",
       "    </tr>\n",
       "    <tr>\n",
       "      <th>1198</th>\n",
       "      <td>29.99</td>\n",
       "      <td>29.99</td>\n",
       "      <td>USD</td>\n",
       "      <td>2017-08-13T08:28:46Z</td>\n",
       "      <td>[2017-07-25T23:50:10.867Z, 2017-07-25T23:45:16...</td>\n",
       "      <td>false</td>\n",
       "      <td>easy-to-open packaging</td>\n",
       "      <td>FREE Shipping.</td>\n",
       "      <td>[https://www.amazon.com/Alexa-Voice-Remote-Ama...</td>\n",
       "      <td>NaN</td>\n",
       "    </tr>\n",
       "    <tr>\n",
       "      <th>1199</th>\n",
       "      <td>29.99</td>\n",
       "      <td>29.99</td>\n",
       "      <td>USD</td>\n",
       "      <td>2017-08-13T08:28:46Z</td>\n",
       "      <td>[2017-07-25T23:50:10.867Z, 2017-07-25T23:45:16...</td>\n",
       "      <td>false</td>\n",
       "      <td>easy-to-open packaging</td>\n",
       "      <td>FREE Shipping.</td>\n",
       "      <td>[https://www.amazon.com/Alexa-Voice-Remote-Ama...</td>\n",
       "      <td>NaN</td>\n",
       "    </tr>\n",
       "  </tbody>\n",
       "</table>\n",
       "<p>1200 rows × 10 columns</p>\n",
       "</div>\n",
       "      <button class=\"colab-df-convert\" onclick=\"convertToInteractive('df-49748ec0-3b9b-423f-bd6f-c07e26fede2e')\"\n",
       "              title=\"Convert this dataframe to an interactive table.\"\n",
       "              style=\"display:none;\">\n",
       "        \n",
       "  <svg xmlns=\"http://www.w3.org/2000/svg\" height=\"24px\"viewBox=\"0 0 24 24\"\n",
       "       width=\"24px\">\n",
       "    <path d=\"M0 0h24v24H0V0z\" fill=\"none\"/>\n",
       "    <path d=\"M18.56 5.44l.94 2.06.94-2.06 2.06-.94-2.06-.94-.94-2.06-.94 2.06-2.06.94zm-11 1L8.5 8.5l.94-2.06 2.06-.94-2.06-.94L8.5 2.5l-.94 2.06-2.06.94zm10 10l.94 2.06.94-2.06 2.06-.94-2.06-.94-.94-2.06-.94 2.06-2.06.94z\"/><path d=\"M17.41 7.96l-1.37-1.37c-.4-.4-.92-.59-1.43-.59-.52 0-1.04.2-1.43.59L10.3 9.45l-7.72 7.72c-.78.78-.78 2.05 0 2.83L4 21.41c.39.39.9.59 1.41.59.51 0 1.02-.2 1.41-.59l7.78-7.78 2.81-2.81c.8-.78.8-2.07 0-2.86zM5.41 20L4 18.59l7.72-7.72 1.47 1.35L5.41 20z\"/>\n",
       "  </svg>\n",
       "      </button>\n",
       "      \n",
       "  <style>\n",
       "    .colab-df-container {\n",
       "      display:flex;\n",
       "      flex-wrap:wrap;\n",
       "      gap: 12px;\n",
       "    }\n",
       "\n",
       "    .colab-df-convert {\n",
       "      background-color: #E8F0FE;\n",
       "      border: none;\n",
       "      border-radius: 50%;\n",
       "      cursor: pointer;\n",
       "      display: none;\n",
       "      fill: #1967D2;\n",
       "      height: 32px;\n",
       "      padding: 0 0 0 0;\n",
       "      width: 32px;\n",
       "    }\n",
       "\n",
       "    .colab-df-convert:hover {\n",
       "      background-color: #E2EBFA;\n",
       "      box-shadow: 0px 1px 2px rgba(60, 64, 67, 0.3), 0px 1px 3px 1px rgba(60, 64, 67, 0.15);\n",
       "      fill: #174EA6;\n",
       "    }\n",
       "\n",
       "    [theme=dark] .colab-df-convert {\n",
       "      background-color: #3B4455;\n",
       "      fill: #D2E3FC;\n",
       "    }\n",
       "\n",
       "    [theme=dark] .colab-df-convert:hover {\n",
       "      background-color: #434B5C;\n",
       "      box-shadow: 0px 1px 3px 1px rgba(0, 0, 0, 0.15);\n",
       "      filter: drop-shadow(0px 1px 2px rgba(0, 0, 0, 0.3));\n",
       "      fill: #FFFFFF;\n",
       "    }\n",
       "  </style>\n",
       "\n",
       "      <script>\n",
       "        const buttonEl =\n",
       "          document.querySelector('#df-49748ec0-3b9b-423f-bd6f-c07e26fede2e button.colab-df-convert');\n",
       "        buttonEl.style.display =\n",
       "          google.colab.kernel.accessAllowed ? 'block' : 'none';\n",
       "\n",
       "        async function convertToInteractive(key) {\n",
       "          const element = document.querySelector('#df-49748ec0-3b9b-423f-bd6f-c07e26fede2e');\n",
       "          const dataTable =\n",
       "            await google.colab.kernel.invokeFunction('convertToInteractive',\n",
       "                                                     [key], {});\n",
       "          if (!dataTable) return;\n",
       "\n",
       "          const docLinkHtml = 'Like what you see? Visit the ' +\n",
       "            '<a target=\"_blank\" href=https://colab.research.google.com/notebooks/data_table.ipynb>data table notebook</a>'\n",
       "            + ' to learn more about interactive tables.';\n",
       "          element.innerHTML = '';\n",
       "          dataTable['output_type'] = 'display_data';\n",
       "          await google.colab.output.renderOutput(dataTable, element);\n",
       "          const docLink = document.createElement('div');\n",
       "          docLink.innerHTML = docLinkHtml;\n",
       "          element.appendChild(docLink);\n",
       "        }\n",
       "      </script>\n",
       "    </div>\n",
       "  </div>\n",
       "  "
      ],
      "text/plain": [
       "      amountMax  amountMin currency             dateAdded  \\\n",
       "0        139.99     139.99      USD  2017-07-18T23:52:58Z   \n",
       "1        139.99     139.99      USD  2017-07-18T23:52:58Z   \n",
       "2        139.99     139.99      USD  2017-07-18T23:52:58Z   \n",
       "3        139.99     139.99      USD  2017-07-18T23:52:58Z   \n",
       "4        139.99     139.99      USD  2017-07-18T23:52:58Z   \n",
       "...         ...        ...      ...                   ...   \n",
       "1195      29.99      29.99      USD  2017-08-13T08:28:46Z   \n",
       "1196      29.99      29.99      USD  2017-08-13T08:28:46Z   \n",
       "1197      29.99      29.99      USD  2017-08-13T08:28:46Z   \n",
       "1198      29.99      29.99      USD  2017-08-13T08:28:46Z   \n",
       "1199      29.99      29.99      USD  2017-08-13T08:28:46Z   \n",
       "\n",
       "                                               dateSeen isSale  \\\n",
       "0      [2017-07-15T18:10:23.807Z, 2016-03-16T00:00:00Z]  false   \n",
       "1      [2017-07-15T18:10:23.807Z, 2016-03-16T00:00:00Z]  false   \n",
       "2      [2017-07-15T18:10:23.807Z, 2016-03-16T00:00:00Z]  false   \n",
       "3      [2017-07-15T18:10:23.807Z, 2016-03-16T00:00:00Z]  false   \n",
       "4      [2017-07-15T18:10:23.807Z, 2016-03-16T00:00:00Z]  false   \n",
       "...                                                 ...    ...   \n",
       "1195  [2017-07-25T23:50:10.867Z, 2017-07-25T23:45:16...  false   \n",
       "1196  [2017-07-25T23:50:10.867Z, 2017-07-25T23:45:16...  false   \n",
       "1197  [2017-07-25T23:50:10.867Z, 2017-07-25T23:45:16...  false   \n",
       "1198  [2017-07-25T23:50:10.867Z, 2017-07-25T23:45:16...  false   \n",
       "1199  [2017-07-25T23:50:10.867Z, 2017-07-25T23:45:16...  false   \n",
       "\n",
       "                    merchant        shipping  \\\n",
       "0                 Amazon.com  FREE Shipping.   \n",
       "1                 Amazon.com  FREE Shipping.   \n",
       "2                 Amazon.com  FREE Shipping.   \n",
       "3                 Amazon.com  FREE Shipping.   \n",
       "4                 Amazon.com  FREE Shipping.   \n",
       "...                      ...             ...   \n",
       "1195  easy-to-open packaging  FREE Shipping.   \n",
       "1196  easy-to-open packaging  FREE Shipping.   \n",
       "1197  easy-to-open packaging  FREE Shipping.   \n",
       "1198  easy-to-open packaging  FREE Shipping.   \n",
       "1199  easy-to-open packaging  FREE Shipping.   \n",
       "\n",
       "                                             sourceURLs condition  \n",
       "0     [https://www.amazon.com/Kindle-Paperwhite-High...       NaN  \n",
       "1     [https://www.amazon.com/Kindle-Paperwhite-High...       NaN  \n",
       "2     [https://www.amazon.com/Kindle-Paperwhite-High...       NaN  \n",
       "3     [https://www.amazon.com/Kindle-Paperwhite-High...       NaN  \n",
       "4     [https://www.amazon.com/Kindle-Paperwhite-High...       NaN  \n",
       "...                                                 ...       ...  \n",
       "1195  [https://www.amazon.com/Alexa-Voice-Remote-Ama...       NaN  \n",
       "1196  [https://www.amazon.com/Alexa-Voice-Remote-Ama...       NaN  \n",
       "1197  [https://www.amazon.com/Alexa-Voice-Remote-Ama...       NaN  \n",
       "1198  [https://www.amazon.com/Alexa-Voice-Remote-Ama...       NaN  \n",
       "1199  [https://www.amazon.com/Alexa-Voice-Remote-Ama...       NaN  \n",
       "\n",
       "[1200 rows x 10 columns]"
      ]
     },
     "execution_count": 40,
     "metadata": {},
     "output_type": "execute_result"
    }
   ],
   "source": [
    "# Using json library\n",
    "import json\n",
    "\n",
    "# json loads on Price table\n",
    "prices=dataset['Product_Price'].apply(json.loads)\n",
    "\n",
    "# New Dataframe table\n",
    "df_prices=pd.DataFrame(prices.tolist())\n",
    "product_price = pd.json_normalize(df_prices[0])\n",
    "# dataset.drop('prices', inplace=True, axis=1)\n",
    "product_price"
   ]
  },
  {
   "cell_type": "code",
   "execution_count": 40,
   "id": "3ba2e6c2-b408-4a5f-bf32-df9e54c5314f",
   "metadata": {
    "id": "3ba2e6c2-b408-4a5f-bf32-df9e54c5314f"
   },
   "outputs": [],
   "source": []
  },
  {
   "cell_type": "code",
   "execution_count": 41,
   "id": "8b0d7077-8729-4a1a-9e08-c31416aad55f",
   "metadata": {
    "colab": {
     "base_uri": "https://localhost:8080/"
    },
    "id": "8b0d7077-8729-4a1a-9e08-c31416aad55f",
    "outputId": "14e9b16b-81ec-4630-8796-2c262c466898"
   },
   "outputs": [
    {
     "name": "stdout",
     "output_type": "stream",
     "text": [
      "<class 'pandas.core.frame.DataFrame'>\n",
      "RangeIndex: 1200 entries, 0 to 1199\n",
      "Data columns (total 10 columns):\n",
      " #   Column      Non-Null Count  Dtype  \n",
      "---  ------      --------------  -----  \n",
      " 0   amountMax   1200 non-null   float64\n",
      " 1   amountMin   1200 non-null   float64\n",
      " 2   currency    1200 non-null   object \n",
      " 3   dateAdded   1200 non-null   object \n",
      " 4   dateSeen    1200 non-null   object \n",
      " 5   isSale      1200 non-null   object \n",
      " 6   merchant    843 non-null    object \n",
      " 7   shipping    872 non-null    object \n",
      " 8   sourceURLs  1200 non-null   object \n",
      " 9   condition   253 non-null    object \n",
      "dtypes: float64(2), object(8)\n",
      "memory usage: 93.9+ KB\n"
     ]
    }
   ],
   "source": [
    "# Check the info\n",
    "\n",
    "product_price.info()"
   ]
  },
  {
   "cell_type": "code",
   "execution_count": 41,
   "id": "741a8bcd-d5cc-4a60-b365-fb84c9ab4a93",
   "metadata": {
    "id": "741a8bcd-d5cc-4a60-b365-fb84c9ab4a93"
   },
   "outputs": [],
   "source": []
  },
  {
   "cell_type": "markdown",
   "id": "66b6eee2-2996-451f-b33e-8f4d479d21e1",
   "metadata": {
    "id": "66b6eee2-2996-451f-b33e-8f4d479d21e1"
   },
   "source": [
    "- the dateSeencolumn has double entries for datetime. Dropped."
   ]
  },
  {
   "cell_type": "code",
   "execution_count": 42,
   "id": "9f662f76-b854-4ff5-a600-5e2c281a1de2",
   "metadata": {
    "colab": {
     "base_uri": "https://localhost:8080/"
    },
    "id": "9f662f76-b854-4ff5-a600-5e2c281a1de2",
    "outputId": "34e99d1a-eefa-4430-f43e-be39718df26d"
   },
   "outputs": [
    {
     "data": {
      "text/plain": [
       "amountMax       0\n",
       "amountMin       0\n",
       "currency        0\n",
       "dateAdded       0\n",
       "dateSeen        0\n",
       "isSale          0\n",
       "merchant      357\n",
       "shipping      328\n",
       "sourceURLs      0\n",
       "condition     947\n",
       "dtype: int64"
      ]
     },
     "execution_count": 42,
     "metadata": {},
     "output_type": "execute_result"
    }
   ],
   "source": [
    "# Null Count\n",
    "product_price.isnull().sum()"
   ]
  },
  {
   "cell_type": "code",
   "execution_count": 42,
   "id": "6431db2a-46e0-44e5-bce2-f751143e116a",
   "metadata": {
    "id": "6431db2a-46e0-44e5-bce2-f751143e116a"
   },
   "outputs": [],
   "source": []
  },
  {
   "cell_type": "markdown",
   "id": "fcaca362-6349-4b91-8a78-1f7411b75342",
   "metadata": {
    "id": "fcaca362-6349-4b91-8a78-1f7411b75342"
   },
   "source": [
    "Let's inspect the null columns"
   ]
  },
  {
   "cell_type": "code",
   "execution_count": 43,
   "id": "88f40796-fbf3-4685-a451-5ae321bdb7ee",
   "metadata": {
    "colab": {
     "base_uri": "https://localhost:8080/"
    },
    "id": "88f40796-fbf3-4685-a451-5ae321bdb7ee",
    "outputId": "4f74bd96-c79a-47b1-891d-83fc664e0992"
   },
   "outputs": [
    {
     "data": {
      "text/plain": [
       "Amazon.com                807\n",
       "easy-to-open packaging     27\n",
       "MobileRush                  9\n",
       "Name: merchant, dtype: int64"
      ]
     },
     "execution_count": 43,
     "metadata": {},
     "output_type": "execute_result"
    }
   ],
   "source": [
    "product_price.merchant.value_counts()"
   ]
  },
  {
   "cell_type": "code",
   "execution_count": 44,
   "id": "db81a9e3-9745-4d63-a262-312f042d1892",
   "metadata": {
    "colab": {
     "base_uri": "https://localhost:8080/"
    },
    "id": "db81a9e3-9745-4d63-a262-312f042d1892",
    "outputId": "d61d0923-46e8-4277-f19c-81b70e2fbac6"
   },
   "outputs": [
    {
     "data": {
      "text/plain": [
       "FREE Shipping.                            732\n",
       "FREE Shipping on orders over USD 25.00    140\n",
       "Name: shipping, dtype: int64"
      ]
     },
     "execution_count": 44,
     "metadata": {},
     "output_type": "execute_result"
    }
   ],
   "source": [
    "product_price.shipping.value_counts()"
   ]
  },
  {
   "cell_type": "code",
   "execution_count": 45,
   "id": "06d3d27a-af5b-4e5f-932b-9a19244beb79",
   "metadata": {
    "colab": {
     "base_uri": "https://localhost:8080/"
    },
    "id": "06d3d27a-af5b-4e5f-932b-9a19244beb79",
    "outputId": "070901d4-feb0-41a7-a75a-4568bad8b578"
   },
   "outputs": [
    {
     "data": {
      "text/plain": [
       "New    253\n",
       "Name: condition, dtype: int64"
      ]
     },
     "execution_count": 45,
     "metadata": {},
     "output_type": "execute_result"
    }
   ],
   "source": [
    "product_price.condition.value_counts()"
   ]
  },
  {
   "cell_type": "markdown",
   "id": "403355c2-d15a-4e53-8bb8-6f8d6011b7c5",
   "metadata": {
    "id": "403355c2-d15a-4e53-8bb8-6f8d6011b7c5"
   },
   "source": [
    "Observation \n",
    "\n",
    "- The Missing Merchant entries can be set to 'Unknown'\n",
    "- The shipping and condition would be dropped."
   ]
  },
  {
   "cell_type": "code",
   "execution_count": 46,
   "id": "442e7a5d-5998-4dbe-8cf8-0aaeb6e37119",
   "metadata": {
    "colab": {
     "base_uri": "https://localhost:8080/"
    },
    "id": "442e7a5d-5998-4dbe-8cf8-0aaeb6e37119",
    "outputId": "c79b3206-1408-4dd6-e367-ca84dd9476f1"
   },
   "outputs": [
    {
     "name": "stdout",
     "output_type": "stream",
     "text": [
      "0\n"
     ]
    }
   ],
   "source": [
    "# Replace NaN values with Unknown.\n",
    "product_price.merchant.replace(np.nan, 'Unknown', inplace=True)\n",
    "\n",
    "# Verify\n",
    "print(product_price.merchant.isnull().sum())\n",
    "\n",
    "# lets see our tables\n",
    "product_price.columns\n",
    "\n",
    "# Deleted column index from df\n",
    "product_price.drop(['shipping', 'condition', 'sourceURLs', 'dateSeen'], axis=1, inplace=True)\n",
    "\n",
    "# Deleted Product_Price index from df\n",
    "dataset.drop(['Product_Price'], axis=1, inplace=True)"
   ]
  },
  {
   "cell_type": "code",
   "execution_count": 46,
   "id": "28949ac9-344e-43bd-82d9-dbed5ea117c9",
   "metadata": {
    "id": "28949ac9-344e-43bd-82d9-dbed5ea117c9"
   },
   "outputs": [],
   "source": []
  },
  {
   "cell_type": "code",
   "execution_count": 47,
   "id": "4c632246-1752-4e8a-81a8-9ff7ecbad427",
   "metadata": {
    "colab": {
     "base_uri": "https://localhost:8080/"
    },
    "id": "4c632246-1752-4e8a-81a8-9ff7ecbad427",
    "outputId": "e275ef9c-7f29-47ce-ac6e-27c1ce721f47"
   },
   "outputs": [
    {
     "name": "stdout",
     "output_type": "stream",
     "text": [
      "<class 'pandas.core.frame.DataFrame'>\n",
      "RangeIndex: 1200 entries, 0 to 1199\n",
      "Data columns (total 6 columns):\n",
      " #   Column     Non-Null Count  Dtype  \n",
      "---  ------     --------------  -----  \n",
      " 0   amountMax  1200 non-null   float64\n",
      " 1   amountMin  1200 non-null   float64\n",
      " 2   currency   1200 non-null   object \n",
      " 3   dateAdded  1200 non-null   object \n",
      " 4   isSale     1200 non-null   object \n",
      " 5   merchant   1200 non-null   object \n",
      "dtypes: float64(2), object(4)\n",
      "memory usage: 56.4+ KB\n"
     ]
    }
   ],
   "source": [
    "product_price.info()"
   ]
  },
  {
   "cell_type": "code",
   "execution_count": 47,
   "id": "87043c09-a33a-4529-939b-962b6c2ebfd6",
   "metadata": {
    "id": "87043c09-a33a-4529-939b-962b6c2ebfd6"
   },
   "outputs": [],
   "source": []
  },
  {
   "cell_type": "markdown",
   "id": "3dc3db96-3933-4588-a579-666e5b43b307",
   "metadata": {
    "id": "3dc3db96-3933-4588-a579-666e5b43b307",
    "tags": []
   },
   "source": [
    "### Step 2.1.8: Validate Data Cleaning"
   ]
  },
  {
   "cell_type": "code",
   "execution_count": 48,
   "id": "dad14102-b839-43a9-be67-cbc38f33b048",
   "metadata": {
    "colab": {
     "base_uri": "https://localhost:8080/"
    },
    "id": "dad14102-b839-43a9-be67-cbc38f33b048",
    "outputId": "e30ffd4c-007f-4086-fdca-fb81728211e8"
   },
   "outputs": [
    {
     "name": "stdout",
     "output_type": "stream",
     "text": [
      "MISSING ROWS per COLUMN\n",
      "id: 0, 0.00%\n",
      "Asins: 0, 0.00%\n",
      "Brand: 0, 0.00%\n",
      "Categories: 0, 0.00%\n",
      "DateAdded: 0, 0.00%\n",
      "DateUpdated: 0, 0.00%\n",
      "Product_Manufacturer: 0, 0.00%\n",
      "Product_Name: 0, 0.00%\n",
      "Review_Date: 0, 0.00%\n",
      "Review_Recommendation: 0, 0.00%\n",
      "Reviews_Helpful: 0, 0.00%\n",
      "Reviews_Rating: 0, 0.00%\n",
      "Reviews_Username: 0, 0.00%\n"
     ]
    }
   ],
   "source": [
    "# Function Call to grab the Percentage of Missing Rows Per Column \n",
    "\n",
    "def missing(datasett):\n",
    "    columns = datasett.columns\n",
    "    print('MISSING ROWS per COLUMN')\n",
    "    for column in columns:\n",
    "        percentage = (datasett[column].isnull().sum() / len(datasett)) * 100\n",
    "        print('{}: {}, {:0.2f}%'.format(column, datasett[column].isnull().sum(), percentage))\n",
    "     \n",
    "missing(dataset)\n",
    "\n",
    "# call on our dataset."
   ]
  },
  {
   "cell_type": "code",
   "execution_count": 48,
   "id": "530fbc3a-78a3-421a-ad82-2dbc67749450",
   "metadata": {
    "id": "530fbc3a-78a3-421a-ad82-2dbc67749450"
   },
   "outputs": [],
   "source": []
  },
  {
   "cell_type": "markdown",
   "id": "cda84545-1cfa-411b-8dcc-e11e2263a80b",
   "metadata": {
    "id": "cda84545-1cfa-411b-8dcc-e11e2263a80b"
   },
   "source": [
    "And again on our new table product_price cause Data Professionals have to be certain."
   ]
  },
  {
   "cell_type": "code",
   "execution_count": 49,
   "id": "a380f725-f198-45c3-805c-c08ee2bbbb2f",
   "metadata": {
    "colab": {
     "base_uri": "https://localhost:8080/"
    },
    "id": "a380f725-f198-45c3-805c-c08ee2bbbb2f",
    "outputId": "55bc39de-ac8f-4b6e-d329-13909c63fbbc"
   },
   "outputs": [
    {
     "name": "stdout",
     "output_type": "stream",
     "text": [
      "MISSING ROWS per COLUMN\n",
      "amountMax: 0, 0.00%\n",
      "amountMin: 0, 0.00%\n",
      "currency: 0, 0.00%\n",
      "dateAdded: 0, 0.00%\n",
      "isSale: 0, 0.00%\n",
      "merchant: 0, 0.00%\n"
     ]
    }
   ],
   "source": [
    "missing(product_price)"
   ]
  },
  {
   "cell_type": "code",
   "execution_count": 49,
   "id": "56c6818e-f5fa-407a-9f55-5e3db0a55405",
   "metadata": {
    "id": "56c6818e-f5fa-407a-9f55-5e3db0a55405"
   },
   "outputs": [],
   "source": []
  },
  {
   "cell_type": "markdown",
   "id": "426c898c-8666-4434-aa08-a5426d8433ed",
   "metadata": {
    "id": "426c898c-8666-4434-aa08-a5426d8433ed"
   },
   "source": [
    "## Step 3: Feature Engineering and Data Formatting"
   ]
  },
  {
   "cell_type": "code",
   "execution_count": 49,
   "id": "b287ee2c-327b-4ea5-8a6a-cebde91548ac",
   "metadata": {
    "id": "b287ee2c-327b-4ea5-8a6a-cebde91548ac"
   },
   "outputs": [],
   "source": []
  },
  {
   "cell_type": "markdown",
   "id": "4575fa71-fa4f-4ceb-aabb-1266d7e2c549",
   "metadata": {
    "id": "4575fa71-fa4f-4ceb-aabb-1266d7e2c549"
   },
   "source": [
    "### Format `reviews.date` column"
   ]
  },
  {
   "cell_type": "code",
   "execution_count": 50,
   "id": "52e29493-69a6-408c-a20d-d61bb370447f",
   "metadata": {
    "id": "52e29493-69a6-408c-a20d-d61bb370447f"
   },
   "outputs": [],
   "source": [
    "# Convert review dates into a datetime object\n",
    "# Lambda Condition\n",
    "condition = lambda row: pd.to_datetime(row)\n",
    "\n",
    "# Apply on dateAdded and as new colum 'Prod.Date.Added '\n",
    "dataset[\"Review_Date\"] = dataset[\"Review_Date\"].apply(condition)\n",
    "\n",
    "# Split Review_Date by Quater, Month and Time of Day\n",
    "\n",
    "## Y--M--D format\n",
    "dataset[\"Review_Date\"].dt.strftime('%Y-%m-%d')\n",
    "\n",
    "# Extract Quater\n",
    "dataset['Review_Quater'] =dataset['Review_Date'].dt.to_period('Q').dt.strftime('%Y-Q%q\\'')\n",
    "\n",
    "# Extract  Day/Night \n",
    "dataset[\"Review_TimeOfDay\"] = pd.to_datetime(dataset['Review_Date'],unit='s').apply(lambda x: \"Day\" if x.hour >= 6 and x.hour <= 18 else \"Night\")\n",
    "\n",
    "# Extract Review Month\n",
    "dataset['Review_Month'] = dataset['Review_Date'].dt.month_name()"
   ]
  },
  {
   "cell_type": "code",
   "execution_count": 51,
   "id": "6df29e83-fdf1-4527-a5d2-5c44c95dd798",
   "metadata": {
    "colab": {
     "base_uri": "https://localhost:8080/",
     "height": 0
    },
    "id": "6df29e83-fdf1-4527-a5d2-5c44c95dd798",
    "outputId": "6ba58b7a-b71f-4932-cc7d-cf313127eb50"
   },
   "outputs": [
    {
     "data": {
      "text/html": [
       "\n",
       "  <div id=\"df-180104b5-af34-4bb8-b51b-36ed68f04e96\">\n",
       "    <div class=\"colab-df-container\">\n",
       "      <div>\n",
       "<style scoped>\n",
       "    .dataframe tbody tr th:only-of-type {\n",
       "        vertical-align: middle;\n",
       "    }\n",
       "\n",
       "    .dataframe tbody tr th {\n",
       "        vertical-align: top;\n",
       "    }\n",
       "\n",
       "    .dataframe thead th {\n",
       "        text-align: right;\n",
       "    }\n",
       "</style>\n",
       "<table border=\"1\" class=\"dataframe\">\n",
       "  <thead>\n",
       "    <tr style=\"text-align: right;\">\n",
       "      <th></th>\n",
       "      <th>id</th>\n",
       "      <th>Asins</th>\n",
       "      <th>Brand</th>\n",
       "      <th>Categories</th>\n",
       "      <th>DateAdded</th>\n",
       "      <th>DateUpdated</th>\n",
       "      <th>Product_Manufacturer</th>\n",
       "      <th>Product_Name</th>\n",
       "      <th>Review_Date</th>\n",
       "      <th>Review_Recommendation</th>\n",
       "      <th>Reviews_Helpful</th>\n",
       "      <th>Reviews_Rating</th>\n",
       "      <th>Reviews_Username</th>\n",
       "      <th>Review_Quater</th>\n",
       "      <th>Review_TimeOfDay</th>\n",
       "      <th>Review_Month</th>\n",
       "    </tr>\n",
       "  </thead>\n",
       "  <tbody>\n",
       "    <tr>\n",
       "      <th>0</th>\n",
       "      <td>AVpe7AsMilAPnD_xQ78G</td>\n",
       "      <td>B00QJDU3KY</td>\n",
       "      <td>Amazon</td>\n",
       "      <td>Amazon Devices,mazon.co.uk</td>\n",
       "      <td>2016-03-08T20:21:53Z</td>\n",
       "      <td>2017-07-18T23:52:58Z</td>\n",
       "      <td>Amazon</td>\n",
       "      <td>Kindle Paperwhite</td>\n",
       "      <td>2015-08-08 00:00:00+00:00</td>\n",
       "      <td>Unknown</td>\n",
       "      <td>139.0</td>\n",
       "      <td>5.0</td>\n",
       "      <td>Cristina M</td>\n",
       "      <td>2015-Q3'</td>\n",
       "      <td>Night</td>\n",
       "      <td>August</td>\n",
       "    </tr>\n",
       "    <tr>\n",
       "      <th>1</th>\n",
       "      <td>AVpe7AsMilAPnD_xQ78G</td>\n",
       "      <td>B00QJDU3KY</td>\n",
       "      <td>Amazon</td>\n",
       "      <td>Amazon Devices,mazon.co.uk</td>\n",
       "      <td>2016-03-08T20:21:53Z</td>\n",
       "      <td>2017-07-18T23:52:58Z</td>\n",
       "      <td>Amazon</td>\n",
       "      <td>Kindle Paperwhite</td>\n",
       "      <td>2015-09-01 00:00:00+00:00</td>\n",
       "      <td>Unknown</td>\n",
       "      <td>126.0</td>\n",
       "      <td>5.0</td>\n",
       "      <td>Ricky</td>\n",
       "      <td>2015-Q3'</td>\n",
       "      <td>Night</td>\n",
       "      <td>September</td>\n",
       "    </tr>\n",
       "  </tbody>\n",
       "</table>\n",
       "</div>\n",
       "      <button class=\"colab-df-convert\" onclick=\"convertToInteractive('df-180104b5-af34-4bb8-b51b-36ed68f04e96')\"\n",
       "              title=\"Convert this dataframe to an interactive table.\"\n",
       "              style=\"display:none;\">\n",
       "        \n",
       "  <svg xmlns=\"http://www.w3.org/2000/svg\" height=\"24px\"viewBox=\"0 0 24 24\"\n",
       "       width=\"24px\">\n",
       "    <path d=\"M0 0h24v24H0V0z\" fill=\"none\"/>\n",
       "    <path d=\"M18.56 5.44l.94 2.06.94-2.06 2.06-.94-2.06-.94-.94-2.06-.94 2.06-2.06.94zm-11 1L8.5 8.5l.94-2.06 2.06-.94-2.06-.94L8.5 2.5l-.94 2.06-2.06.94zm10 10l.94 2.06.94-2.06 2.06-.94-2.06-.94-.94-2.06-.94 2.06-2.06.94z\"/><path d=\"M17.41 7.96l-1.37-1.37c-.4-.4-.92-.59-1.43-.59-.52 0-1.04.2-1.43.59L10.3 9.45l-7.72 7.72c-.78.78-.78 2.05 0 2.83L4 21.41c.39.39.9.59 1.41.59.51 0 1.02-.2 1.41-.59l7.78-7.78 2.81-2.81c.8-.78.8-2.07 0-2.86zM5.41 20L4 18.59l7.72-7.72 1.47 1.35L5.41 20z\"/>\n",
       "  </svg>\n",
       "      </button>\n",
       "      \n",
       "  <style>\n",
       "    .colab-df-container {\n",
       "      display:flex;\n",
       "      flex-wrap:wrap;\n",
       "      gap: 12px;\n",
       "    }\n",
       "\n",
       "    .colab-df-convert {\n",
       "      background-color: #E8F0FE;\n",
       "      border: none;\n",
       "      border-radius: 50%;\n",
       "      cursor: pointer;\n",
       "      display: none;\n",
       "      fill: #1967D2;\n",
       "      height: 32px;\n",
       "      padding: 0 0 0 0;\n",
       "      width: 32px;\n",
       "    }\n",
       "\n",
       "    .colab-df-convert:hover {\n",
       "      background-color: #E2EBFA;\n",
       "      box-shadow: 0px 1px 2px rgba(60, 64, 67, 0.3), 0px 1px 3px 1px rgba(60, 64, 67, 0.15);\n",
       "      fill: #174EA6;\n",
       "    }\n",
       "\n",
       "    [theme=dark] .colab-df-convert {\n",
       "      background-color: #3B4455;\n",
       "      fill: #D2E3FC;\n",
       "    }\n",
       "\n",
       "    [theme=dark] .colab-df-convert:hover {\n",
       "      background-color: #434B5C;\n",
       "      box-shadow: 0px 1px 3px 1px rgba(0, 0, 0, 0.15);\n",
       "      filter: drop-shadow(0px 1px 2px rgba(0, 0, 0, 0.3));\n",
       "      fill: #FFFFFF;\n",
       "    }\n",
       "  </style>\n",
       "\n",
       "      <script>\n",
       "        const buttonEl =\n",
       "          document.querySelector('#df-180104b5-af34-4bb8-b51b-36ed68f04e96 button.colab-df-convert');\n",
       "        buttonEl.style.display =\n",
       "          google.colab.kernel.accessAllowed ? 'block' : 'none';\n",
       "\n",
       "        async function convertToInteractive(key) {\n",
       "          const element = document.querySelector('#df-180104b5-af34-4bb8-b51b-36ed68f04e96');\n",
       "          const dataTable =\n",
       "            await google.colab.kernel.invokeFunction('convertToInteractive',\n",
       "                                                     [key], {});\n",
       "          if (!dataTable) return;\n",
       "\n",
       "          const docLinkHtml = 'Like what you see? Visit the ' +\n",
       "            '<a target=\"_blank\" href=https://colab.research.google.com/notebooks/data_table.ipynb>data table notebook</a>'\n",
       "            + ' to learn more about interactive tables.';\n",
       "          element.innerHTML = '';\n",
       "          dataTable['output_type'] = 'display_data';\n",
       "          await google.colab.output.renderOutput(dataTable, element);\n",
       "          const docLink = document.createElement('div');\n",
       "          docLink.innerHTML = docLinkHtml;\n",
       "          element.appendChild(docLink);\n",
       "        }\n",
       "      </script>\n",
       "    </div>\n",
       "  </div>\n",
       "  "
      ],
      "text/plain": [
       "                     id       Asins   Brand                  Categories  \\\n",
       "0  AVpe7AsMilAPnD_xQ78G  B00QJDU3KY  Amazon  Amazon Devices,mazon.co.uk   \n",
       "1  AVpe7AsMilAPnD_xQ78G  B00QJDU3KY  Amazon  Amazon Devices,mazon.co.uk   \n",
       "\n",
       "              DateAdded           DateUpdated Product_Manufacturer  \\\n",
       "0  2016-03-08T20:21:53Z  2017-07-18T23:52:58Z               Amazon   \n",
       "1  2016-03-08T20:21:53Z  2017-07-18T23:52:58Z               Amazon   \n",
       "\n",
       "        Product_Name               Review_Date Review_Recommendation  \\\n",
       "0  Kindle Paperwhite 2015-08-08 00:00:00+00:00               Unknown   \n",
       "1  Kindle Paperwhite 2015-09-01 00:00:00+00:00               Unknown   \n",
       "\n",
       "   Reviews_Helpful  Reviews_Rating Reviews_Username Review_Quater  \\\n",
       "0            139.0             5.0       Cristina M      2015-Q3'   \n",
       "1            126.0             5.0            Ricky      2015-Q3'   \n",
       "\n",
       "  Review_TimeOfDay Review_Month  \n",
       "0            Night       August  \n",
       "1            Night    September  "
      ]
     },
     "execution_count": 51,
     "metadata": {},
     "output_type": "execute_result"
    }
   ],
   "source": [
    "dataset.head(2)"
   ]
  },
  {
   "cell_type": "code",
   "execution_count": 51,
   "id": "7c16a77d-3d48-4a09-9f39-6958760cf9ea",
   "metadata": {
    "id": "7c16a77d-3d48-4a09-9f39-6958760cf9ea"
   },
   "outputs": [],
   "source": []
  },
  {
   "cell_type": "markdown",
   "id": "2dba9ac8-0db2-4702-8dd6-f52c4669aa26",
   "metadata": {
    "id": "2dba9ac8-0db2-4702-8dd6-f52c4669aa26",
    "tags": []
   },
   "source": [
    "### Format `dateAdded` column & `dateUpdated` column to `datetime dtype`"
   ]
  },
  {
   "cell_type": "markdown",
   "id": "63223a0c-bd95-4cd2-8a01-b43016ab048a",
   "metadata": {
    "id": "63223a0c-bd95-4cd2-8a01-b43016ab048a"
   },
   "source": [
    "`dateAdded`"
   ]
  },
  {
   "cell_type": "code",
   "execution_count": 52,
   "id": "2b7bdf74-9606-4666-8583-4c4e65371bb6",
   "metadata": {
    "id": "2b7bdf74-9606-4666-8583-4c4e65371bb6"
   },
   "outputs": [],
   "source": [
    "# Convert review dates into a datetime object\n",
    "# Lambda Condition\n",
    "condition = lambda row: pd.to_datetime(row)\n",
    "\n",
    "# Apply on dateAdded and as new colum ''\n",
    "dataset[\"DateAdded\"] = dataset[\"DateAdded\"].apply(condition)\n",
    "\n",
    "\n",
    "# ## Y--M--D format\n",
    "# dataset[\"Added_Date\"].dt.strftime('%Y-%m-%d')\n",
    "\n",
    "# # Extract Quater\n",
    "# dataset['Added_Quater'] =dataset['Added_Date'].dt.to_period('Q').dt.strftime('%Y-Q%q\\'')\n",
    "\n",
    "# # Extract  Day/Night \n",
    "# dataset[\"Added_Day\"] = pd.to_datetime(dataset['Added_Date'],unit='s').apply(lambda x: \"Day\" if x.hour >= 6 and x.hour <= 18 else \"Night\")\n",
    "\n",
    "# # Extract Review Month\n",
    "# dataset['Added_Month'] = dataset['Added_Date'].dt.month_name()"
   ]
  },
  {
   "cell_type": "code",
   "execution_count": 52,
   "id": "90048471-07b9-401d-8261-d96370561b10",
   "metadata": {
    "id": "90048471-07b9-401d-8261-d96370561b10"
   },
   "outputs": [],
   "source": []
  },
  {
   "cell_type": "markdown",
   "id": "93689f7d-0490-458a-8f98-462c9c7e77e5",
   "metadata": {
    "id": "93689f7d-0490-458a-8f98-462c9c7e77e5"
   },
   "source": [
    "`dateUpdated` table"
   ]
  },
  {
   "cell_type": "code",
   "execution_count": 53,
   "id": "ef482dd7-a0c8-479f-b4e9-a58ca5bf5645",
   "metadata": {
    "colab": {
     "base_uri": "https://localhost:8080/"
    },
    "id": "ef482dd7-a0c8-479f-b4e9-a58ca5bf5645",
    "outputId": "07b79476-2591-4730-e734-c31fdc538e0a"
   },
   "outputs": [
    {
     "data": {
      "text/plain": [
       "0       2017-07-18\n",
       "1       2017-07-18\n",
       "2       2017-07-18\n",
       "3       2017-07-18\n",
       "4       2017-07-18\n",
       "           ...    \n",
       "1592    2017-08-13\n",
       "1593    2017-08-13\n",
       "1594    2017-08-13\n",
       "1595    2017-08-13\n",
       "1596    2017-08-13\n",
       "Name: DateUpdated, Length: 1200, dtype: object"
      ]
     },
     "execution_count": 53,
     "metadata": {},
     "output_type": "execute_result"
    }
   ],
   "source": [
    "# Apply on dateUpdated and as new colum ''\n",
    "dataset[\"DateUpdated\"] = dataset[\"DateUpdated\"].apply(condition)\n",
    "\n",
    "\n",
    "## Y--M--D format\n",
    "dataset[\"DateUpdated\"].dt.strftime('%Y-%m-%d')\n",
    "\n",
    "# # Extract Quater\n",
    "# dataset['Updated_Quater'] =dataset['Updated_Date'].dt.to_period('Q').dt.strftime('%Y-Q%q\\'')\n",
    "\n",
    "# # Extract  Day/Night \n",
    "# dataset[\"Updated_Day\"] = pd.to_datetime(dataset['Updated_Date'],unit='s').apply(lambda x: \"Day\" if x.hour >= 6 and x.hour <= 18 else \"Night\")\n",
    "\n",
    "# # Extract Review Month\n",
    "# dataset['Updated_Month'] = dataset['Updated_Date'].dt.month_name()"
   ]
  },
  {
   "cell_type": "code",
   "execution_count": 53,
   "id": "c93e843a-584a-4ade-8115-2936cf2a28db",
   "metadata": {
    "id": "c93e843a-584a-4ade-8115-2936cf2a28db"
   },
   "outputs": [],
   "source": []
  },
  {
   "cell_type": "markdown",
   "id": "d178ed1c-ab72-46fb-b057-449712f64521",
   "metadata": {
    "id": "d178ed1c-ab72-46fb-b057-449712f64521"
   },
   "source": [
    "### Feature Engineering:  `Handling_Time`  : Time Diff\n",
    "\n",
    "- We can perform calultations on tables of similar data types.\n",
    "- There are several ways to calculate the time difference between two dates in Python using Pandas. \n",
    "- The first is to subtract one date from the other. \n",
    "- This returns a timedelta such as 0 days 05:00:00 that tells us the number of days, hours, minutes, and seconds between the two dates. T"
   ]
  },
  {
   "cell_type": "code",
   "execution_count": 54,
   "id": "2901ce7a-6964-4b49-9b32-def4f85f3bed",
   "metadata": {
    "id": "2901ce7a-6964-4b49-9b32-def4f85f3bed"
   },
   "outputs": [],
   "source": [
    "dataset['Handling_Time'] = dataset['DateUpdated'] - dataset['DateAdded']"
   ]
  },
  {
   "cell_type": "code",
   "execution_count": 55,
   "id": "ba1643f8-fd16-4d02-97a1-13dff71765d1",
   "metadata": {
    "colab": {
     "base_uri": "https://localhost:8080/",
     "height": 0
    },
    "id": "ba1643f8-fd16-4d02-97a1-13dff71765d1",
    "outputId": "28aa75a5-42cb-4fd5-e4d8-106d0dd84974"
   },
   "outputs": [
    {
     "data": {
      "text/html": [
       "\n",
       "  <div id=\"df-7e4b43f6-fd57-4aa4-abab-c588c30183cd\">\n",
       "    <div class=\"colab-df-container\">\n",
       "      <div>\n",
       "<style scoped>\n",
       "    .dataframe tbody tr th:only-of-type {\n",
       "        vertical-align: middle;\n",
       "    }\n",
       "\n",
       "    .dataframe tbody tr th {\n",
       "        vertical-align: top;\n",
       "    }\n",
       "\n",
       "    .dataframe thead th {\n",
       "        text-align: right;\n",
       "    }\n",
       "</style>\n",
       "<table border=\"1\" class=\"dataframe\">\n",
       "  <thead>\n",
       "    <tr style=\"text-align: right;\">\n",
       "      <th></th>\n",
       "      <th>id</th>\n",
       "      <th>Asins</th>\n",
       "      <th>Brand</th>\n",
       "      <th>Categories</th>\n",
       "      <th>DateAdded</th>\n",
       "      <th>DateUpdated</th>\n",
       "      <th>Product_Manufacturer</th>\n",
       "      <th>Product_Name</th>\n",
       "      <th>Review_Date</th>\n",
       "      <th>Review_Recommendation</th>\n",
       "      <th>Reviews_Helpful</th>\n",
       "      <th>Reviews_Rating</th>\n",
       "      <th>Reviews_Username</th>\n",
       "      <th>Review_Quater</th>\n",
       "      <th>Review_TimeOfDay</th>\n",
       "      <th>Review_Month</th>\n",
       "      <th>Handling_Time</th>\n",
       "    </tr>\n",
       "  </thead>\n",
       "  <tbody>\n",
       "    <tr>\n",
       "      <th>0</th>\n",
       "      <td>AVpe7AsMilAPnD_xQ78G</td>\n",
       "      <td>B00QJDU3KY</td>\n",
       "      <td>Amazon</td>\n",
       "      <td>Amazon Devices,mazon.co.uk</td>\n",
       "      <td>2016-03-08 20:21:53+00:00</td>\n",
       "      <td>2017-07-18 23:52:58+00:00</td>\n",
       "      <td>Amazon</td>\n",
       "      <td>Kindle Paperwhite</td>\n",
       "      <td>2015-08-08 00:00:00+00:00</td>\n",
       "      <td>Unknown</td>\n",
       "      <td>139.0</td>\n",
       "      <td>5.0</td>\n",
       "      <td>Cristina M</td>\n",
       "      <td>2015-Q3'</td>\n",
       "      <td>Night</td>\n",
       "      <td>August</td>\n",
       "      <td>497 days 03:31:05</td>\n",
       "    </tr>\n",
       "    <tr>\n",
       "      <th>1</th>\n",
       "      <td>AVpe7AsMilAPnD_xQ78G</td>\n",
       "      <td>B00QJDU3KY</td>\n",
       "      <td>Amazon</td>\n",
       "      <td>Amazon Devices,mazon.co.uk</td>\n",
       "      <td>2016-03-08 20:21:53+00:00</td>\n",
       "      <td>2017-07-18 23:52:58+00:00</td>\n",
       "      <td>Amazon</td>\n",
       "      <td>Kindle Paperwhite</td>\n",
       "      <td>2015-09-01 00:00:00+00:00</td>\n",
       "      <td>Unknown</td>\n",
       "      <td>126.0</td>\n",
       "      <td>5.0</td>\n",
       "      <td>Ricky</td>\n",
       "      <td>2015-Q3'</td>\n",
       "      <td>Night</td>\n",
       "      <td>September</td>\n",
       "      <td>497 days 03:31:05</td>\n",
       "    </tr>\n",
       "    <tr>\n",
       "      <th>2</th>\n",
       "      <td>AVpe7AsMilAPnD_xQ78G</td>\n",
       "      <td>B00QJDU3KY</td>\n",
       "      <td>Amazon</td>\n",
       "      <td>Amazon Devices,mazon.co.uk</td>\n",
       "      <td>2016-03-08 20:21:53+00:00</td>\n",
       "      <td>2017-07-18 23:52:58+00:00</td>\n",
       "      <td>Amazon</td>\n",
       "      <td>Kindle Paperwhite</td>\n",
       "      <td>2015-07-20 00:00:00+00:00</td>\n",
       "      <td>Unknown</td>\n",
       "      <td>69.0</td>\n",
       "      <td>4.0</td>\n",
       "      <td>Tedd Gardiner</td>\n",
       "      <td>2015-Q3'</td>\n",
       "      <td>Night</td>\n",
       "      <td>July</td>\n",
       "      <td>497 days 03:31:05</td>\n",
       "    </tr>\n",
       "    <tr>\n",
       "      <th>3</th>\n",
       "      <td>AVpe7AsMilAPnD_xQ78G</td>\n",
       "      <td>B00QJDU3KY</td>\n",
       "      <td>Amazon</td>\n",
       "      <td>Amazon Devices,mazon.co.uk</td>\n",
       "      <td>2016-03-08 20:21:53+00:00</td>\n",
       "      <td>2017-07-18 23:52:58+00:00</td>\n",
       "      <td>Amazon</td>\n",
       "      <td>Kindle Paperwhite</td>\n",
       "      <td>2017-06-16 00:00:00+00:00</td>\n",
       "      <td>Unknown</td>\n",
       "      <td>2.0</td>\n",
       "      <td>5.0</td>\n",
       "      <td>Dougal</td>\n",
       "      <td>2017-Q2'</td>\n",
       "      <td>Night</td>\n",
       "      <td>June</td>\n",
       "      <td>497 days 03:31:05</td>\n",
       "    </tr>\n",
       "    <tr>\n",
       "      <th>4</th>\n",
       "      <td>AVpe7AsMilAPnD_xQ78G</td>\n",
       "      <td>B00QJDU3KY</td>\n",
       "      <td>Amazon</td>\n",
       "      <td>Amazon Devices,mazon.co.uk</td>\n",
       "      <td>2016-03-08 20:21:53+00:00</td>\n",
       "      <td>2017-07-18 23:52:58+00:00</td>\n",
       "      <td>Amazon</td>\n",
       "      <td>Kindle Paperwhite</td>\n",
       "      <td>2016-08-11 00:00:00+00:00</td>\n",
       "      <td>Unknown</td>\n",
       "      <td>17.0</td>\n",
       "      <td>5.0</td>\n",
       "      <td>Miljan David Tanic</td>\n",
       "      <td>2016-Q3'</td>\n",
       "      <td>Night</td>\n",
       "      <td>August</td>\n",
       "      <td>497 days 03:31:05</td>\n",
       "    </tr>\n",
       "    <tr>\n",
       "      <th>...</th>\n",
       "      <td>...</td>\n",
       "      <td>...</td>\n",
       "      <td>...</td>\n",
       "      <td>...</td>\n",
       "      <td>...</td>\n",
       "      <td>...</td>\n",
       "      <td>...</td>\n",
       "      <td>...</td>\n",
       "      <td>...</td>\n",
       "      <td>...</td>\n",
       "      <td>...</td>\n",
       "      <td>...</td>\n",
       "      <td>...</td>\n",
       "      <td>...</td>\n",
       "      <td>...</td>\n",
       "      <td>...</td>\n",
       "      <td>...</td>\n",
       "    </tr>\n",
       "    <tr>\n",
       "      <th>1592</th>\n",
       "      <td>AVpfo9ukilAPnD_xfhuj</td>\n",
       "      <td>B00NO8JJZW</td>\n",
       "      <td>Amazon</td>\n",
       "      <td>Amazon Devices &amp; Accessories,Amazon Device Acc...</td>\n",
       "      <td>2016-04-02 14:40:43+00:00</td>\n",
       "      <td>2017-08-13 08:28:46+00:00</td>\n",
       "      <td>Unknown</td>\n",
       "      <td>Alexa Voice Remote for Amazon Fire TV and Fire...</td>\n",
       "      <td>2016-07-06 00:00:00+00:00</td>\n",
       "      <td>Unknown</td>\n",
       "      <td>9.0</td>\n",
       "      <td>3.0</td>\n",
       "      <td>GregAmandawith4</td>\n",
       "      <td>2016-Q3'</td>\n",
       "      <td>Night</td>\n",
       "      <td>July</td>\n",
       "      <td>497 days 17:48:03</td>\n",
       "    </tr>\n",
       "    <tr>\n",
       "      <th>1593</th>\n",
       "      <td>AVpfo9ukilAPnD_xfhuj</td>\n",
       "      <td>B00NO8JJZW</td>\n",
       "      <td>Amazon</td>\n",
       "      <td>Amazon Devices &amp; Accessories,Amazon Device Acc...</td>\n",
       "      <td>2016-04-02 14:40:43+00:00</td>\n",
       "      <td>2017-08-13 08:28:46+00:00</td>\n",
       "      <td>Unknown</td>\n",
       "      <td>Alexa Voice Remote for Amazon Fire TV and Fire...</td>\n",
       "      <td>2016-06-22 00:00:00+00:00</td>\n",
       "      <td>Unknown</td>\n",
       "      <td>41.0</td>\n",
       "      <td>1.0</td>\n",
       "      <td>Amazon Customer</td>\n",
       "      <td>2016-Q2'</td>\n",
       "      <td>Night</td>\n",
       "      <td>June</td>\n",
       "      <td>497 days 17:48:03</td>\n",
       "    </tr>\n",
       "    <tr>\n",
       "      <th>1594</th>\n",
       "      <td>AVpfo9ukilAPnD_xfhuj</td>\n",
       "      <td>B00NO8JJZW</td>\n",
       "      <td>Amazon</td>\n",
       "      <td>Amazon Devices &amp; Accessories,Amazon Device Acc...</td>\n",
       "      <td>2016-04-02 14:40:43+00:00</td>\n",
       "      <td>2017-08-13 08:28:46+00:00</td>\n",
       "      <td>Unknown</td>\n",
       "      <td>Alexa Voice Remote for Amazon Fire TV and Fire...</td>\n",
       "      <td>2016-03-31 00:00:00+00:00</td>\n",
       "      <td>Unknown</td>\n",
       "      <td>34.0</td>\n",
       "      <td>1.0</td>\n",
       "      <td>Amazon Customer</td>\n",
       "      <td>2016-Q1'</td>\n",
       "      <td>Night</td>\n",
       "      <td>March</td>\n",
       "      <td>497 days 17:48:03</td>\n",
       "    </tr>\n",
       "    <tr>\n",
       "      <th>1595</th>\n",
       "      <td>AVpfo9ukilAPnD_xfhuj</td>\n",
       "      <td>B00NO8JJZW</td>\n",
       "      <td>Amazon</td>\n",
       "      <td>Amazon Devices &amp; Accessories,Amazon Device Acc...</td>\n",
       "      <td>2016-04-02 14:40:43+00:00</td>\n",
       "      <td>2017-08-13 08:28:46+00:00</td>\n",
       "      <td>Unknown</td>\n",
       "      <td>Alexa Voice Remote for Amazon Fire TV and Fire...</td>\n",
       "      <td>2016-04-26 00:00:00+00:00</td>\n",
       "      <td>Unknown</td>\n",
       "      <td>7.0</td>\n",
       "      <td>3.0</td>\n",
       "      <td>Meg Ashley</td>\n",
       "      <td>2016-Q2'</td>\n",
       "      <td>Night</td>\n",
       "      <td>April</td>\n",
       "      <td>497 days 17:48:03</td>\n",
       "    </tr>\n",
       "    <tr>\n",
       "      <th>1596</th>\n",
       "      <td>AVpfo9ukilAPnD_xfhuj</td>\n",
       "      <td>B00NO8JJZW</td>\n",
       "      <td>Amazon</td>\n",
       "      <td>Amazon Devices &amp; Accessories,Amazon Device Acc...</td>\n",
       "      <td>2016-04-02 14:40:43+00:00</td>\n",
       "      <td>2017-08-13 08:28:46+00:00</td>\n",
       "      <td>Unknown</td>\n",
       "      <td>Alexa Voice Remote for Amazon Fire TV and Fire...</td>\n",
       "      <td>2016-07-31 00:00:00+00:00</td>\n",
       "      <td>Unknown</td>\n",
       "      <td>10.0</td>\n",
       "      <td>1.0</td>\n",
       "      <td>DIANE K</td>\n",
       "      <td>2016-Q3'</td>\n",
       "      <td>Night</td>\n",
       "      <td>July</td>\n",
       "      <td>497 days 17:48:03</td>\n",
       "    </tr>\n",
       "  </tbody>\n",
       "</table>\n",
       "<p>1200 rows × 17 columns</p>\n",
       "</div>\n",
       "      <button class=\"colab-df-convert\" onclick=\"convertToInteractive('df-7e4b43f6-fd57-4aa4-abab-c588c30183cd')\"\n",
       "              title=\"Convert this dataframe to an interactive table.\"\n",
       "              style=\"display:none;\">\n",
       "        \n",
       "  <svg xmlns=\"http://www.w3.org/2000/svg\" height=\"24px\"viewBox=\"0 0 24 24\"\n",
       "       width=\"24px\">\n",
       "    <path d=\"M0 0h24v24H0V0z\" fill=\"none\"/>\n",
       "    <path d=\"M18.56 5.44l.94 2.06.94-2.06 2.06-.94-2.06-.94-.94-2.06-.94 2.06-2.06.94zm-11 1L8.5 8.5l.94-2.06 2.06-.94-2.06-.94L8.5 2.5l-.94 2.06-2.06.94zm10 10l.94 2.06.94-2.06 2.06-.94-2.06-.94-.94-2.06-.94 2.06-2.06.94z\"/><path d=\"M17.41 7.96l-1.37-1.37c-.4-.4-.92-.59-1.43-.59-.52 0-1.04.2-1.43.59L10.3 9.45l-7.72 7.72c-.78.78-.78 2.05 0 2.83L4 21.41c.39.39.9.59 1.41.59.51 0 1.02-.2 1.41-.59l7.78-7.78 2.81-2.81c.8-.78.8-2.07 0-2.86zM5.41 20L4 18.59l7.72-7.72 1.47 1.35L5.41 20z\"/>\n",
       "  </svg>\n",
       "      </button>\n",
       "      \n",
       "  <style>\n",
       "    .colab-df-container {\n",
       "      display:flex;\n",
       "      flex-wrap:wrap;\n",
       "      gap: 12px;\n",
       "    }\n",
       "\n",
       "    .colab-df-convert {\n",
       "      background-color: #E8F0FE;\n",
       "      border: none;\n",
       "      border-radius: 50%;\n",
       "      cursor: pointer;\n",
       "      display: none;\n",
       "      fill: #1967D2;\n",
       "      height: 32px;\n",
       "      padding: 0 0 0 0;\n",
       "      width: 32px;\n",
       "    }\n",
       "\n",
       "    .colab-df-convert:hover {\n",
       "      background-color: #E2EBFA;\n",
       "      box-shadow: 0px 1px 2px rgba(60, 64, 67, 0.3), 0px 1px 3px 1px rgba(60, 64, 67, 0.15);\n",
       "      fill: #174EA6;\n",
       "    }\n",
       "\n",
       "    [theme=dark] .colab-df-convert {\n",
       "      background-color: #3B4455;\n",
       "      fill: #D2E3FC;\n",
       "    }\n",
       "\n",
       "    [theme=dark] .colab-df-convert:hover {\n",
       "      background-color: #434B5C;\n",
       "      box-shadow: 0px 1px 3px 1px rgba(0, 0, 0, 0.15);\n",
       "      filter: drop-shadow(0px 1px 2px rgba(0, 0, 0, 0.3));\n",
       "      fill: #FFFFFF;\n",
       "    }\n",
       "  </style>\n",
       "\n",
       "      <script>\n",
       "        const buttonEl =\n",
       "          document.querySelector('#df-7e4b43f6-fd57-4aa4-abab-c588c30183cd button.colab-df-convert');\n",
       "        buttonEl.style.display =\n",
       "          google.colab.kernel.accessAllowed ? 'block' : 'none';\n",
       "\n",
       "        async function convertToInteractive(key) {\n",
       "          const element = document.querySelector('#df-7e4b43f6-fd57-4aa4-abab-c588c30183cd');\n",
       "          const dataTable =\n",
       "            await google.colab.kernel.invokeFunction('convertToInteractive',\n",
       "                                                     [key], {});\n",
       "          if (!dataTable) return;\n",
       "\n",
       "          const docLinkHtml = 'Like what you see? Visit the ' +\n",
       "            '<a target=\"_blank\" href=https://colab.research.google.com/notebooks/data_table.ipynb>data table notebook</a>'\n",
       "            + ' to learn more about interactive tables.';\n",
       "          element.innerHTML = '';\n",
       "          dataTable['output_type'] = 'display_data';\n",
       "          await google.colab.output.renderOutput(dataTable, element);\n",
       "          const docLink = document.createElement('div');\n",
       "          docLink.innerHTML = docLinkHtml;\n",
       "          element.appendChild(docLink);\n",
       "        }\n",
       "      </script>\n",
       "    </div>\n",
       "  </div>\n",
       "  "
      ],
      "text/plain": [
       "                        id       Asins   Brand  \\\n",
       "0     AVpe7AsMilAPnD_xQ78G  B00QJDU3KY  Amazon   \n",
       "1     AVpe7AsMilAPnD_xQ78G  B00QJDU3KY  Amazon   \n",
       "2     AVpe7AsMilAPnD_xQ78G  B00QJDU3KY  Amazon   \n",
       "3     AVpe7AsMilAPnD_xQ78G  B00QJDU3KY  Amazon   \n",
       "4     AVpe7AsMilAPnD_xQ78G  B00QJDU3KY  Amazon   \n",
       "...                    ...         ...     ...   \n",
       "1592  AVpfo9ukilAPnD_xfhuj  B00NO8JJZW  Amazon   \n",
       "1593  AVpfo9ukilAPnD_xfhuj  B00NO8JJZW  Amazon   \n",
       "1594  AVpfo9ukilAPnD_xfhuj  B00NO8JJZW  Amazon   \n",
       "1595  AVpfo9ukilAPnD_xfhuj  B00NO8JJZW  Amazon   \n",
       "1596  AVpfo9ukilAPnD_xfhuj  B00NO8JJZW  Amazon   \n",
       "\n",
       "                                             Categories  \\\n",
       "0                            Amazon Devices,mazon.co.uk   \n",
       "1                            Amazon Devices,mazon.co.uk   \n",
       "2                            Amazon Devices,mazon.co.uk   \n",
       "3                            Amazon Devices,mazon.co.uk   \n",
       "4                            Amazon Devices,mazon.co.uk   \n",
       "...                                                 ...   \n",
       "1592  Amazon Devices & Accessories,Amazon Device Acc...   \n",
       "1593  Amazon Devices & Accessories,Amazon Device Acc...   \n",
       "1594  Amazon Devices & Accessories,Amazon Device Acc...   \n",
       "1595  Amazon Devices & Accessories,Amazon Device Acc...   \n",
       "1596  Amazon Devices & Accessories,Amazon Device Acc...   \n",
       "\n",
       "                     DateAdded               DateUpdated Product_Manufacturer  \\\n",
       "0    2016-03-08 20:21:53+00:00 2017-07-18 23:52:58+00:00               Amazon   \n",
       "1    2016-03-08 20:21:53+00:00 2017-07-18 23:52:58+00:00               Amazon   \n",
       "2    2016-03-08 20:21:53+00:00 2017-07-18 23:52:58+00:00               Amazon   \n",
       "3    2016-03-08 20:21:53+00:00 2017-07-18 23:52:58+00:00               Amazon   \n",
       "4    2016-03-08 20:21:53+00:00 2017-07-18 23:52:58+00:00               Amazon   \n",
       "...                        ...                       ...                  ...   \n",
       "1592 2016-04-02 14:40:43+00:00 2017-08-13 08:28:46+00:00              Unknown   \n",
       "1593 2016-04-02 14:40:43+00:00 2017-08-13 08:28:46+00:00              Unknown   \n",
       "1594 2016-04-02 14:40:43+00:00 2017-08-13 08:28:46+00:00              Unknown   \n",
       "1595 2016-04-02 14:40:43+00:00 2017-08-13 08:28:46+00:00              Unknown   \n",
       "1596 2016-04-02 14:40:43+00:00 2017-08-13 08:28:46+00:00              Unknown   \n",
       "\n",
       "                                           Product_Name  \\\n",
       "0                                     Kindle Paperwhite   \n",
       "1                                     Kindle Paperwhite   \n",
       "2                                     Kindle Paperwhite   \n",
       "3                                     Kindle Paperwhite   \n",
       "4                                     Kindle Paperwhite   \n",
       "...                                                 ...   \n",
       "1592  Alexa Voice Remote for Amazon Fire TV and Fire...   \n",
       "1593  Alexa Voice Remote for Amazon Fire TV and Fire...   \n",
       "1594  Alexa Voice Remote for Amazon Fire TV and Fire...   \n",
       "1595  Alexa Voice Remote for Amazon Fire TV and Fire...   \n",
       "1596  Alexa Voice Remote for Amazon Fire TV and Fire...   \n",
       "\n",
       "                   Review_Date Review_Recommendation  Reviews_Helpful  \\\n",
       "0    2015-08-08 00:00:00+00:00               Unknown            139.0   \n",
       "1    2015-09-01 00:00:00+00:00               Unknown            126.0   \n",
       "2    2015-07-20 00:00:00+00:00               Unknown             69.0   \n",
       "3    2017-06-16 00:00:00+00:00               Unknown              2.0   \n",
       "4    2016-08-11 00:00:00+00:00               Unknown             17.0   \n",
       "...                        ...                   ...              ...   \n",
       "1592 2016-07-06 00:00:00+00:00               Unknown              9.0   \n",
       "1593 2016-06-22 00:00:00+00:00               Unknown             41.0   \n",
       "1594 2016-03-31 00:00:00+00:00               Unknown             34.0   \n",
       "1595 2016-04-26 00:00:00+00:00               Unknown              7.0   \n",
       "1596 2016-07-31 00:00:00+00:00               Unknown             10.0   \n",
       "\n",
       "      Reviews_Rating    Reviews_Username Review_Quater Review_TimeOfDay  \\\n",
       "0                5.0          Cristina M      2015-Q3'            Night   \n",
       "1                5.0               Ricky      2015-Q3'            Night   \n",
       "2                4.0       Tedd Gardiner      2015-Q3'            Night   \n",
       "3                5.0              Dougal      2017-Q2'            Night   \n",
       "4                5.0  Miljan David Tanic      2016-Q3'            Night   \n",
       "...              ...                 ...           ...              ...   \n",
       "1592             3.0     GregAmandawith4      2016-Q3'            Night   \n",
       "1593             1.0     Amazon Customer      2016-Q2'            Night   \n",
       "1594             1.0     Amazon Customer      2016-Q1'            Night   \n",
       "1595             3.0          Meg Ashley      2016-Q2'            Night   \n",
       "1596             1.0             DIANE K      2016-Q3'            Night   \n",
       "\n",
       "     Review_Month     Handling_Time  \n",
       "0          August 497 days 03:31:05  \n",
       "1       September 497 days 03:31:05  \n",
       "2            July 497 days 03:31:05  \n",
       "3            June 497 days 03:31:05  \n",
       "4          August 497 days 03:31:05  \n",
       "...           ...               ...  \n",
       "1592         July 497 days 17:48:03  \n",
       "1593         June 497 days 17:48:03  \n",
       "1594        March 497 days 17:48:03  \n",
       "1595        April 497 days 17:48:03  \n",
       "1596         July 497 days 17:48:03  \n",
       "\n",
       "[1200 rows x 17 columns]"
      ]
     },
     "execution_count": 55,
     "metadata": {},
     "output_type": "execute_result"
    }
   ],
   "source": [
    "dataset"
   ]
  },
  {
   "cell_type": "code",
   "execution_count": 55,
   "id": "2b181272-0b13-4814-94c9-4f803a2106f7",
   "metadata": {
    "id": "2b181272-0b13-4814-94c9-4f803a2106f7"
   },
   "outputs": [],
   "source": []
  },
  {
   "cell_type": "code",
   "execution_count": 56,
   "id": "179bbad4-8f6a-4813-8ab8-4f9d6189bfad",
   "metadata": {
    "colab": {
     "base_uri": "https://localhost:8080/"
    },
    "id": "179bbad4-8f6a-4813-8ab8-4f9d6189bfad",
    "outputId": "fdb7d8ec-df72-48a8-86c7-b2e3ef02948b"
   },
   "outputs": [
    {
     "data": {
      "text/plain": [
       "Index(['id', 'Asins', 'Brand', 'Categories', 'DateAdded', 'DateUpdated',\n",
       "       'Product_Manufacturer', 'Product_Name', 'Review_Date',\n",
       "       'Review_Recommendation', 'Reviews_Helpful', 'Reviews_Rating',\n",
       "       'Reviews_Username', 'Review_Quater', 'Review_TimeOfDay', 'Review_Month',\n",
       "       'Handling_Time'],\n",
       "      dtype='object')"
      ]
     },
     "execution_count": 56,
     "metadata": {},
     "output_type": "execute_result"
    }
   ],
   "source": [
    "dataset.columns"
   ]
  },
  {
   "cell_type": "code",
   "execution_count": 56,
   "id": "43638423-e11e-418f-8418-b1b8a631a9b1",
   "metadata": {
    "id": "43638423-e11e-418f-8418-b1b8a631a9b1"
   },
   "outputs": [],
   "source": []
  },
  {
   "cell_type": "markdown",
   "id": "e78e8a5d-d4a9-4982-a969-61cfa734d985",
   "metadata": {
    "id": "e78e8a5d-d4a9-4982-a969-61cfa734d985"
   },
   "source": [
    "### Format `dateAdded` column to `datetime dtype`"
   ]
  },
  {
   "cell_type": "code",
   "execution_count": 57,
   "id": "c8aee2e3-a201-45d5-a409-c5fd9ec1e70a",
   "metadata": {
    "id": "c8aee2e3-a201-45d5-a409-c5fd9ec1e70a"
   },
   "outputs": [],
   "source": [
    "# Change DataType\n",
    "\n",
    "# Convert review dates into a datetime object\n",
    "# Lambda Condition\n",
    "condition = lambda row: pd.to_datetime(row)\n",
    "\n",
    "# Apply on dateAdded and as new colum ''\n",
    "product_price[\"Price_Date_Added\"] = product_price[\"dateAdded\"].apply(condition)"
   ]
  },
  {
   "cell_type": "code",
   "execution_count": 57,
   "id": "fb98767c-44d7-4c83-9950-e0084cc96f3a",
   "metadata": {
    "id": "fb98767c-44d7-4c83-9950-e0084cc96f3a"
   },
   "outputs": [],
   "source": []
  },
  {
   "cell_type": "code",
   "execution_count": 58,
   "id": "bfc96b7f-3226-4eb8-b361-16e0250ecc9e",
   "metadata": {
    "colab": {
     "base_uri": "https://localhost:8080/"
    },
    "id": "bfc96b7f-3226-4eb8-b361-16e0250ecc9e",
    "outputId": "c64cc697-f37e-4dfc-e7a4-4355e493f08c"
   },
   "outputs": [
    {
     "name": "stdout",
     "output_type": "stream",
     "text": [
      "<class 'pandas.core.frame.DataFrame'>\n",
      "RangeIndex: 1200 entries, 0 to 1199\n",
      "Data columns (total 7 columns):\n",
      " #   Column            Non-Null Count  Dtype              \n",
      "---  ------            --------------  -----              \n",
      " 0   amountMax         1200 non-null   float64            \n",
      " 1   amountMin         1200 non-null   float64            \n",
      " 2   currency          1200 non-null   object             \n",
      " 3   dateAdded         1200 non-null   object             \n",
      " 4   isSale            1200 non-null   object             \n",
      " 5   merchant          1200 non-null   object             \n",
      " 6   Price_Date_Added  1200 non-null   datetime64[ns, UTC]\n",
      "dtypes: datetime64[ns, UTC](1), float64(2), object(4)\n",
      "memory usage: 65.8+ KB\n"
     ]
    }
   ],
   "source": [
    "product_price.info()"
   ]
  },
  {
   "cell_type": "code",
   "execution_count": 58,
   "id": "792751b9-ca6d-4eda-bcff-02aaa6fe2984",
   "metadata": {
    "id": "792751b9-ca6d-4eda-bcff-02aaa6fe2984"
   },
   "outputs": [],
   "source": []
  },
  {
   "cell_type": "code",
   "execution_count": 58,
   "id": "56472628-db0e-4076-b361-8d04e01083c7",
   "metadata": {
    "id": "56472628-db0e-4076-b361-8d04e01083c7"
   },
   "outputs": [],
   "source": []
  },
  {
   "cell_type": "markdown",
   "id": "a21dda14-07ad-4f4d-bcac-806adb55f453",
   "metadata": {
    "id": "a21dda14-07ad-4f4d-bcac-806adb55f453"
   },
   "source": [
    "### Validate Transformation"
   ]
  },
  {
   "cell_type": "code",
   "execution_count": 59,
   "id": "e87675c8-7c5b-4b4d-a061-896b0f1c9f1a",
   "metadata": {
    "colab": {
     "base_uri": "https://localhost:8080/"
    },
    "id": "e87675c8-7c5b-4b4d-a061-896b0f1c9f1a",
    "outputId": "a90305d5-57d3-4869-8798-bb84bcc37b27"
   },
   "outputs": [
    {
     "name": "stdout",
     "output_type": "stream",
     "text": [
      "<class 'pandas.core.frame.DataFrame'>\n",
      "Int64Index: 1200 entries, 0 to 1596\n",
      "Data columns (total 17 columns):\n",
      " #   Column                 Non-Null Count  Dtype              \n",
      "---  ------                 --------------  -----              \n",
      " 0   id                     1200 non-null   object             \n",
      " 1   Asins                  1200 non-null   object             \n",
      " 2   Brand                  1200 non-null   object             \n",
      " 3   Categories             1200 non-null   object             \n",
      " 4   DateAdded              1200 non-null   datetime64[ns, UTC]\n",
      " 5   DateUpdated            1200 non-null   datetime64[ns, UTC]\n",
      " 6   Product_Manufacturer   1200 non-null   object             \n",
      " 7   Product_Name           1200 non-null   object             \n",
      " 8   Review_Date            1200 non-null   datetime64[ns, UTC]\n",
      " 9   Review_Recommendation  1200 non-null   object             \n",
      " 10  Reviews_Helpful        1200 non-null   float64            \n",
      " 11  Reviews_Rating         1200 non-null   float64            \n",
      " 12  Reviews_Username       1200 non-null   object             \n",
      " 13  Review_Quater          1200 non-null   object             \n",
      " 14  Review_TimeOfDay       1200 non-null   object             \n",
      " 15  Review_Month           1200 non-null   object             \n",
      " 16  Handling_Time          1200 non-null   timedelta64[ns]    \n",
      "dtypes: datetime64[ns, UTC](3), float64(2), object(11), timedelta64[ns](1)\n",
      "memory usage: 168.8+ KB\n"
     ]
    }
   ],
   "source": [
    "dataset.info()"
   ]
  },
  {
   "cell_type": "code",
   "execution_count": 59,
   "id": "a25556a2-7736-4722-9509-fbfb0e04c0b1",
   "metadata": {
    "id": "a25556a2-7736-4722-9509-fbfb0e04c0b1"
   },
   "outputs": [],
   "source": []
  },
  {
   "cell_type": "code",
   "execution_count": 59,
   "id": "b30eea30-1d9d-482a-9da0-26ba36af1976",
   "metadata": {
    "id": "b30eea30-1d9d-482a-9da0-26ba36af1976"
   },
   "outputs": [],
   "source": []
  },
  {
   "cell_type": "markdown",
   "id": "95220e32-2ff0-4ece-b5d3-20795a0df22d",
   "metadata": {
    "id": "95220e32-2ff0-4ece-b5d3-20795a0df22d"
   },
   "source": [
    "### Update on Dataset:"
   ]
  },
  {
   "cell_type": "code",
   "execution_count": 60,
   "id": "51bd7633-c4bd-4ae3-b991-7db7d0736e3c",
   "metadata": {
    "colab": {
     "base_uri": "https://localhost:8080/"
    },
    "id": "51bd7633-c4bd-4ae3-b991-7db7d0736e3c",
    "outputId": "0c3dc06e-d347-4ea4-bf40-e34e7b18cad9"
   },
   "outputs": [
    {
     "data": {
      "text/plain": [
       "id                       0.0\n",
       "Asins                    0.0\n",
       "Brand                    0.0\n",
       "Categories               0.0\n",
       "DateAdded                0.0\n",
       "DateUpdated              0.0\n",
       "Product_Manufacturer     0.0\n",
       "Product_Name             0.0\n",
       "Review_Date              0.0\n",
       "Review_Recommendation    0.0\n",
       "Reviews_Helpful          0.0\n",
       "Reviews_Rating           0.0\n",
       "Reviews_Username         0.0\n",
       "Review_Quater            0.0\n",
       "Review_TimeOfDay         0.0\n",
       "Review_Month             0.0\n",
       "Handling_Time            0.0\n",
       "dtype: float64"
      ]
     },
     "execution_count": 60,
     "metadata": {},
     "output_type": "execute_result"
    }
   ],
   "source": [
    "per_missing = dataset.isnull().sum() *  100 / len(dataset)\n",
    "per_missing"
   ]
  },
  {
   "cell_type": "code",
   "execution_count": 60,
   "id": "46cb59d0-ce91-4c37-8a1e-2967d086bb9f",
   "metadata": {
    "id": "46cb59d0-ce91-4c37-8a1e-2967d086bb9f"
   },
   "outputs": [],
   "source": []
  },
  {
   "cell_type": "markdown",
   "id": "c03ad867-8ef0-4ba0-ab2d-491e059054bf",
   "metadata": {
    "id": "c03ad867-8ef0-4ba0-ab2d-491e059054bf"
   },
   "source": [
    "### Is there duplicate data?"
   ]
  },
  {
   "cell_type": "code",
   "execution_count": 61,
   "id": "8d4fb755-c61f-4528-a601-3ef8e3b9dde8",
   "metadata": {
    "colab": {
     "base_uri": "https://localhost:8080/"
    },
    "id": "8d4fb755-c61f-4528-a601-3ef8e3b9dde8",
    "outputId": "5c806a20-205f-47b0-e600-779c672ea4f8"
   },
   "outputs": [
    {
     "name": "stdout",
     "output_type": "stream",
     "text": [
      "Are There Any Duplicate Values? True\n"
     ]
    }
   ],
   "source": [
    "dup_data = dataset.duplicated().any()\n",
    "print(\"Are There Any Duplicate Values?\", dup_data)"
   ]
  },
  {
   "cell_type": "code",
   "execution_count": 62,
   "id": "f2301fb7-6ffa-4b26-983b-9c7d81729d95",
   "metadata": {
    "colab": {
     "base_uri": "https://localhost:8080/"
    },
    "id": "f2301fb7-6ffa-4b26-983b-9c7d81729d95",
    "outputId": "faac65ea-ca6d-44a7-ecaf-73879d94185a"
   },
   "outputs": [
    {
     "name": "stdout",
     "output_type": "stream",
     "text": [
      "Number of Duplicate Data:  165\n"
     ]
    }
   ],
   "source": [
    "#find duplicate rows across all columns\n",
    "duplicateRows = dataset[dataset.duplicated()]\n",
    "\n",
    "# Find Sum of Duplicate Rows\n",
    "total_duplicate_rows = duplicateRows.value_counts().sum()\n",
    "\n",
    "# Find Sum of Duplicate Rows\n",
    "print(\"Number of Duplicate Data: \", total_duplicate_rows)"
   ]
  },
  {
   "cell_type": "code",
   "execution_count": 62,
   "id": "b7d3512a-b5e9-481c-add8-1878cda4013f",
   "metadata": {
    "id": "b7d3512a-b5e9-481c-add8-1878cda4013f"
   },
   "outputs": [],
   "source": []
  },
  {
   "cell_type": "code",
   "execution_count": 63,
   "id": "c6706d14-f59a-40d9-9213-23013660f673",
   "metadata": {
    "id": "c6706d14-f59a-40d9-9213-23013660f673"
   },
   "outputs": [],
   "source": [
    "#Deleting all the duplicates having the same Asins, Reviews_Username, Review_Date and Product_Name all in the same column.\n",
    "\n",
    "no_dup =  dataset.drop_duplicates(subset={\"Asins\",\"Reviews_Username\",\"Review_Date\",\"Review_Quater\", \"Review_TimeOfDay\", \"Review_Month\", \"Product_Name\"},keep=\"first\")"
   ]
  },
  {
   "cell_type": "code",
   "execution_count": 63,
   "id": "4b935a37-6760-4133-a3bc-4b1dadae5033",
   "metadata": {
    "id": "4b935a37-6760-4133-a3bc-4b1dadae5033"
   },
   "outputs": [],
   "source": []
  },
  {
   "cell_type": "code",
   "execution_count": 64,
   "id": "890d5852-2a4c-4bb4-bed8-3fc4ace2a379",
   "metadata": {
    "colab": {
     "base_uri": "https://localhost:8080/"
    },
    "id": "890d5852-2a4c-4bb4-bed8-3fc4ace2a379",
    "outputId": "5a65f674-8fe3-49fb-8a83-1668c5ac2047"
   },
   "outputs": [
    {
     "name": "stdout",
     "output_type": "stream",
     "text": [
      "17.0 % reduction in data after deleting duplicates\n",
      "Size of data 996  rows \n"
     ]
    }
   ],
   "source": [
    "## There are still duplicates, \n",
    "## Word of caution for the Business Intelligence Analyst.\n",
    "\n",
    "size_diff = no_dup['Asins'].size/dataset['Asins'].size\n",
    "print(\"%.1f %% reduction in data after deleting duplicates\"%((1-size_diff)*100))\n",
    "print(\"Size of data\",no_dup['Asins'].size,\" rows \")"
   ]
  },
  {
   "cell_type": "code",
   "execution_count": 64,
   "id": "0f41e4d3-a073-478c-b83f-a41de6b03225",
   "metadata": {
    "id": "0f41e4d3-a073-478c-b83f-a41de6b03225"
   },
   "outputs": [],
   "source": []
  },
  {
   "cell_type": "code",
   "execution_count": 64,
   "id": "7e9407b9-9dca-45d0-b84f-d7d370881ed5",
   "metadata": {
    "id": "7e9407b9-9dca-45d0-b84f-d7d370881ed5"
   },
   "outputs": [],
   "source": []
  },
  {
   "cell_type": "markdown",
   "id": "aee69735-673e-41b0-a36e-6a272cd8929d",
   "metadata": {
    "id": "aee69735-673e-41b0-a36e-6a272cd8929d"
   },
   "source": [
    "### Closing Remarks on Data Wrangling"
   ]
  },
  {
   "cell_type": "code",
   "execution_count": 65,
   "id": "f62481f3-e8be-48be-8292-ac3e1122793e",
   "metadata": {
    "id": "f62481f3-e8be-48be-8292-ac3e1122793e"
   },
   "outputs": [],
   "source": [
    "# reset index : maintain consistency within our tables\n",
    "dataset.reset_index(inplace = True)\n",
    "\n",
    "\n",
    "# Deleted column index from \n",
    "dataset.drop(['index'], axis=1, inplace=True)"
   ]
  },
  {
   "cell_type": "code",
   "execution_count": 65,
   "id": "0b2e70ee-4bf6-4f36-8565-55d7737de33b",
   "metadata": {
    "id": "0b2e70ee-4bf6-4f36-8565-55d7737de33b"
   },
   "outputs": [],
   "source": []
  },
  {
   "cell_type": "code",
   "execution_count": 66,
   "id": "31f4fd49-5770-4310-83ba-55958bec4d67",
   "metadata": {
    "colab": {
     "base_uri": "https://localhost:8080/",
     "height": 0
    },
    "id": "31f4fd49-5770-4310-83ba-55958bec4d67",
    "outputId": "dd798a2f-e6f2-4e3a-c3fc-68e112908b27"
   },
   "outputs": [
    {
     "data": {
      "text/html": [
       "\n",
       "  <div id=\"df-d11e3630-4913-4abd-b339-569cc186b1b3\">\n",
       "    <div class=\"colab-df-container\">\n",
       "      <div>\n",
       "<style scoped>\n",
       "    .dataframe tbody tr th:only-of-type {\n",
       "        vertical-align: middle;\n",
       "    }\n",
       "\n",
       "    .dataframe tbody tr th {\n",
       "        vertical-align: top;\n",
       "    }\n",
       "\n",
       "    .dataframe thead th {\n",
       "        text-align: right;\n",
       "    }\n",
       "</style>\n",
       "<table border=\"1\" class=\"dataframe\">\n",
       "  <thead>\n",
       "    <tr style=\"text-align: right;\">\n",
       "      <th></th>\n",
       "      <th>id</th>\n",
       "      <th>Asins</th>\n",
       "      <th>Brand</th>\n",
       "      <th>Categories</th>\n",
       "      <th>DateAdded</th>\n",
       "      <th>DateUpdated</th>\n",
       "      <th>Product_Manufacturer</th>\n",
       "      <th>Product_Name</th>\n",
       "      <th>Review_Date</th>\n",
       "      <th>Review_Recommendation</th>\n",
       "      <th>Reviews_Helpful</th>\n",
       "      <th>Reviews_Rating</th>\n",
       "      <th>Reviews_Username</th>\n",
       "      <th>Review_Quater</th>\n",
       "      <th>Review_TimeOfDay</th>\n",
       "      <th>Review_Month</th>\n",
       "      <th>Handling_Time</th>\n",
       "    </tr>\n",
       "  </thead>\n",
       "  <tbody>\n",
       "    <tr>\n",
       "      <th>0</th>\n",
       "      <td>AVpe7AsMilAPnD_xQ78G</td>\n",
       "      <td>B00QJDU3KY</td>\n",
       "      <td>Amazon</td>\n",
       "      <td>Amazon Devices,mazon.co.uk</td>\n",
       "      <td>2016-03-08 20:21:53+00:00</td>\n",
       "      <td>2017-07-18 23:52:58+00:00</td>\n",
       "      <td>Amazon</td>\n",
       "      <td>Kindle Paperwhite</td>\n",
       "      <td>2015-08-08 00:00:00+00:00</td>\n",
       "      <td>Unknown</td>\n",
       "      <td>139.0</td>\n",
       "      <td>5.0</td>\n",
       "      <td>Cristina M</td>\n",
       "      <td>2015-Q3'</td>\n",
       "      <td>Night</td>\n",
       "      <td>August</td>\n",
       "      <td>497 days 03:31:05</td>\n",
       "    </tr>\n",
       "    <tr>\n",
       "      <th>1</th>\n",
       "      <td>AVpe7AsMilAPnD_xQ78G</td>\n",
       "      <td>B00QJDU3KY</td>\n",
       "      <td>Amazon</td>\n",
       "      <td>Amazon Devices,mazon.co.uk</td>\n",
       "      <td>2016-03-08 20:21:53+00:00</td>\n",
       "      <td>2017-07-18 23:52:58+00:00</td>\n",
       "      <td>Amazon</td>\n",
       "      <td>Kindle Paperwhite</td>\n",
       "      <td>2015-09-01 00:00:00+00:00</td>\n",
       "      <td>Unknown</td>\n",
       "      <td>126.0</td>\n",
       "      <td>5.0</td>\n",
       "      <td>Ricky</td>\n",
       "      <td>2015-Q3'</td>\n",
       "      <td>Night</td>\n",
       "      <td>September</td>\n",
       "      <td>497 days 03:31:05</td>\n",
       "    </tr>\n",
       "    <tr>\n",
       "      <th>2</th>\n",
       "      <td>AVpe7AsMilAPnD_xQ78G</td>\n",
       "      <td>B00QJDU3KY</td>\n",
       "      <td>Amazon</td>\n",
       "      <td>Amazon Devices,mazon.co.uk</td>\n",
       "      <td>2016-03-08 20:21:53+00:00</td>\n",
       "      <td>2017-07-18 23:52:58+00:00</td>\n",
       "      <td>Amazon</td>\n",
       "      <td>Kindle Paperwhite</td>\n",
       "      <td>2015-07-20 00:00:00+00:00</td>\n",
       "      <td>Unknown</td>\n",
       "      <td>69.0</td>\n",
       "      <td>4.0</td>\n",
       "      <td>Tedd Gardiner</td>\n",
       "      <td>2015-Q3'</td>\n",
       "      <td>Night</td>\n",
       "      <td>July</td>\n",
       "      <td>497 days 03:31:05</td>\n",
       "    </tr>\n",
       "    <tr>\n",
       "      <th>3</th>\n",
       "      <td>AVpe7AsMilAPnD_xQ78G</td>\n",
       "      <td>B00QJDU3KY</td>\n",
       "      <td>Amazon</td>\n",
       "      <td>Amazon Devices,mazon.co.uk</td>\n",
       "      <td>2016-03-08 20:21:53+00:00</td>\n",
       "      <td>2017-07-18 23:52:58+00:00</td>\n",
       "      <td>Amazon</td>\n",
       "      <td>Kindle Paperwhite</td>\n",
       "      <td>2017-06-16 00:00:00+00:00</td>\n",
       "      <td>Unknown</td>\n",
       "      <td>2.0</td>\n",
       "      <td>5.0</td>\n",
       "      <td>Dougal</td>\n",
       "      <td>2017-Q2'</td>\n",
       "      <td>Night</td>\n",
       "      <td>June</td>\n",
       "      <td>497 days 03:31:05</td>\n",
       "    </tr>\n",
       "    <tr>\n",
       "      <th>4</th>\n",
       "      <td>AVpe7AsMilAPnD_xQ78G</td>\n",
       "      <td>B00QJDU3KY</td>\n",
       "      <td>Amazon</td>\n",
       "      <td>Amazon Devices,mazon.co.uk</td>\n",
       "      <td>2016-03-08 20:21:53+00:00</td>\n",
       "      <td>2017-07-18 23:52:58+00:00</td>\n",
       "      <td>Amazon</td>\n",
       "      <td>Kindle Paperwhite</td>\n",
       "      <td>2016-08-11 00:00:00+00:00</td>\n",
       "      <td>Unknown</td>\n",
       "      <td>17.0</td>\n",
       "      <td>5.0</td>\n",
       "      <td>Miljan David Tanic</td>\n",
       "      <td>2016-Q3'</td>\n",
       "      <td>Night</td>\n",
       "      <td>August</td>\n",
       "      <td>497 days 03:31:05</td>\n",
       "    </tr>\n",
       "  </tbody>\n",
       "</table>\n",
       "</div>\n",
       "      <button class=\"colab-df-convert\" onclick=\"convertToInteractive('df-d11e3630-4913-4abd-b339-569cc186b1b3')\"\n",
       "              title=\"Convert this dataframe to an interactive table.\"\n",
       "              style=\"display:none;\">\n",
       "        \n",
       "  <svg xmlns=\"http://www.w3.org/2000/svg\" height=\"24px\"viewBox=\"0 0 24 24\"\n",
       "       width=\"24px\">\n",
       "    <path d=\"M0 0h24v24H0V0z\" fill=\"none\"/>\n",
       "    <path d=\"M18.56 5.44l.94 2.06.94-2.06 2.06-.94-2.06-.94-.94-2.06-.94 2.06-2.06.94zm-11 1L8.5 8.5l.94-2.06 2.06-.94-2.06-.94L8.5 2.5l-.94 2.06-2.06.94zm10 10l.94 2.06.94-2.06 2.06-.94-2.06-.94-.94-2.06-.94 2.06-2.06.94z\"/><path d=\"M17.41 7.96l-1.37-1.37c-.4-.4-.92-.59-1.43-.59-.52 0-1.04.2-1.43.59L10.3 9.45l-7.72 7.72c-.78.78-.78 2.05 0 2.83L4 21.41c.39.39.9.59 1.41.59.51 0 1.02-.2 1.41-.59l7.78-7.78 2.81-2.81c.8-.78.8-2.07 0-2.86zM5.41 20L4 18.59l7.72-7.72 1.47 1.35L5.41 20z\"/>\n",
       "  </svg>\n",
       "      </button>\n",
       "      \n",
       "  <style>\n",
       "    .colab-df-container {\n",
       "      display:flex;\n",
       "      flex-wrap:wrap;\n",
       "      gap: 12px;\n",
       "    }\n",
       "\n",
       "    .colab-df-convert {\n",
       "      background-color: #E8F0FE;\n",
       "      border: none;\n",
       "      border-radius: 50%;\n",
       "      cursor: pointer;\n",
       "      display: none;\n",
       "      fill: #1967D2;\n",
       "      height: 32px;\n",
       "      padding: 0 0 0 0;\n",
       "      width: 32px;\n",
       "    }\n",
       "\n",
       "    .colab-df-convert:hover {\n",
       "      background-color: #E2EBFA;\n",
       "      box-shadow: 0px 1px 2px rgba(60, 64, 67, 0.3), 0px 1px 3px 1px rgba(60, 64, 67, 0.15);\n",
       "      fill: #174EA6;\n",
       "    }\n",
       "\n",
       "    [theme=dark] .colab-df-convert {\n",
       "      background-color: #3B4455;\n",
       "      fill: #D2E3FC;\n",
       "    }\n",
       "\n",
       "    [theme=dark] .colab-df-convert:hover {\n",
       "      background-color: #434B5C;\n",
       "      box-shadow: 0px 1px 3px 1px rgba(0, 0, 0, 0.15);\n",
       "      filter: drop-shadow(0px 1px 2px rgba(0, 0, 0, 0.3));\n",
       "      fill: #FFFFFF;\n",
       "    }\n",
       "  </style>\n",
       "\n",
       "      <script>\n",
       "        const buttonEl =\n",
       "          document.querySelector('#df-d11e3630-4913-4abd-b339-569cc186b1b3 button.colab-df-convert');\n",
       "        buttonEl.style.display =\n",
       "          google.colab.kernel.accessAllowed ? 'block' : 'none';\n",
       "\n",
       "        async function convertToInteractive(key) {\n",
       "          const element = document.querySelector('#df-d11e3630-4913-4abd-b339-569cc186b1b3');\n",
       "          const dataTable =\n",
       "            await google.colab.kernel.invokeFunction('convertToInteractive',\n",
       "                                                     [key], {});\n",
       "          if (!dataTable) return;\n",
       "\n",
       "          const docLinkHtml = 'Like what you see? Visit the ' +\n",
       "            '<a target=\"_blank\" href=https://colab.research.google.com/notebooks/data_table.ipynb>data table notebook</a>'\n",
       "            + ' to learn more about interactive tables.';\n",
       "          element.innerHTML = '';\n",
       "          dataTable['output_type'] = 'display_data';\n",
       "          await google.colab.output.renderOutput(dataTable, element);\n",
       "          const docLink = document.createElement('div');\n",
       "          docLink.innerHTML = docLinkHtml;\n",
       "          element.appendChild(docLink);\n",
       "        }\n",
       "      </script>\n",
       "    </div>\n",
       "  </div>\n",
       "  "
      ],
      "text/plain": [
       "                     id       Asins   Brand                  Categories  \\\n",
       "0  AVpe7AsMilAPnD_xQ78G  B00QJDU3KY  Amazon  Amazon Devices,mazon.co.uk   \n",
       "1  AVpe7AsMilAPnD_xQ78G  B00QJDU3KY  Amazon  Amazon Devices,mazon.co.uk   \n",
       "2  AVpe7AsMilAPnD_xQ78G  B00QJDU3KY  Amazon  Amazon Devices,mazon.co.uk   \n",
       "3  AVpe7AsMilAPnD_xQ78G  B00QJDU3KY  Amazon  Amazon Devices,mazon.co.uk   \n",
       "4  AVpe7AsMilAPnD_xQ78G  B00QJDU3KY  Amazon  Amazon Devices,mazon.co.uk   \n",
       "\n",
       "                  DateAdded               DateUpdated Product_Manufacturer  \\\n",
       "0 2016-03-08 20:21:53+00:00 2017-07-18 23:52:58+00:00               Amazon   \n",
       "1 2016-03-08 20:21:53+00:00 2017-07-18 23:52:58+00:00               Amazon   \n",
       "2 2016-03-08 20:21:53+00:00 2017-07-18 23:52:58+00:00               Amazon   \n",
       "3 2016-03-08 20:21:53+00:00 2017-07-18 23:52:58+00:00               Amazon   \n",
       "4 2016-03-08 20:21:53+00:00 2017-07-18 23:52:58+00:00               Amazon   \n",
       "\n",
       "        Product_Name               Review_Date Review_Recommendation  \\\n",
       "0  Kindle Paperwhite 2015-08-08 00:00:00+00:00               Unknown   \n",
       "1  Kindle Paperwhite 2015-09-01 00:00:00+00:00               Unknown   \n",
       "2  Kindle Paperwhite 2015-07-20 00:00:00+00:00               Unknown   \n",
       "3  Kindle Paperwhite 2017-06-16 00:00:00+00:00               Unknown   \n",
       "4  Kindle Paperwhite 2016-08-11 00:00:00+00:00               Unknown   \n",
       "\n",
       "   Reviews_Helpful  Reviews_Rating    Reviews_Username Review_Quater  \\\n",
       "0            139.0             5.0          Cristina M      2015-Q3'   \n",
       "1            126.0             5.0               Ricky      2015-Q3'   \n",
       "2             69.0             4.0       Tedd Gardiner      2015-Q3'   \n",
       "3              2.0             5.0              Dougal      2017-Q2'   \n",
       "4             17.0             5.0  Miljan David Tanic      2016-Q3'   \n",
       "\n",
       "  Review_TimeOfDay Review_Month     Handling_Time  \n",
       "0            Night       August 497 days 03:31:05  \n",
       "1            Night    September 497 days 03:31:05  \n",
       "2            Night         July 497 days 03:31:05  \n",
       "3            Night         June 497 days 03:31:05  \n",
       "4            Night       August 497 days 03:31:05  "
      ]
     },
     "execution_count": 66,
     "metadata": {},
     "output_type": "execute_result"
    }
   ],
   "source": [
    "dataset.head()"
   ]
  },
  {
   "cell_type": "code",
   "execution_count": 67,
   "id": "64e284b5-c2ce-42d3-ad06-d824066ea05e",
   "metadata": {
    "colab": {
     "base_uri": "https://localhost:8080/"
    },
    "id": "64e284b5-c2ce-42d3-ad06-d824066ea05e",
    "outputId": "f2bd9472-359b-4b8a-e96c-bfbb91a4a227"
   },
   "outputs": [
    {
     "name": "stdout",
     "output_type": "stream",
     "text": [
      "<class 'pandas.core.frame.DataFrame'>\n",
      "RangeIndex: 1200 entries, 0 to 1199\n",
      "Data columns (total 17 columns):\n",
      " #   Column                 Non-Null Count  Dtype              \n",
      "---  ------                 --------------  -----              \n",
      " 0   id                     1200 non-null   object             \n",
      " 1   Asins                  1200 non-null   object             \n",
      " 2   Brand                  1200 non-null   object             \n",
      " 3   Categories             1200 non-null   object             \n",
      " 4   DateAdded              1200 non-null   datetime64[ns, UTC]\n",
      " 5   DateUpdated            1200 non-null   datetime64[ns, UTC]\n",
      " 6   Product_Manufacturer   1200 non-null   object             \n",
      " 7   Product_Name           1200 non-null   object             \n",
      " 8   Review_Date            1200 non-null   datetime64[ns, UTC]\n",
      " 9   Review_Recommendation  1200 non-null   object             \n",
      " 10  Reviews_Helpful        1200 non-null   float64            \n",
      " 11  Reviews_Rating         1200 non-null   float64            \n",
      " 12  Reviews_Username       1200 non-null   object             \n",
      " 13  Review_Quater          1200 non-null   object             \n",
      " 14  Review_TimeOfDay       1200 non-null   object             \n",
      " 15  Review_Month           1200 non-null   object             \n",
      " 16  Handling_Time          1200 non-null   timedelta64[ns]    \n",
      "dtypes: datetime64[ns, UTC](3), float64(2), object(11), timedelta64[ns](1)\n",
      "memory usage: 159.5+ KB\n"
     ]
    }
   ],
   "source": [
    "dataset.info()"
   ]
  },
  {
   "cell_type": "code",
   "execution_count": 67,
   "id": "a9de74c1-1edd-4511-ba9b-28c5ad166d5f",
   "metadata": {
    "id": "a9de74c1-1edd-4511-ba9b-28c5ad166d5f"
   },
   "outputs": [],
   "source": []
  },
  {
   "cell_type": "markdown",
   "id": "77ceefcd-8150-4015-bbff-c0635463bad8",
   "metadata": {
    "id": "77ceefcd-8150-4015-bbff-c0635463bad8"
   },
   "source": [
    "* Great, our data tables look much better now with 1200 entries per column."
   ]
  },
  {
   "cell_type": "code",
   "execution_count": 67,
   "id": "e7bc158f-6483-44f5-bd79-e801d72bc6bc",
   "metadata": {
    "id": "e7bc158f-6483-44f5-bd79-e801d72bc6bc"
   },
   "outputs": [],
   "source": []
  },
  {
   "cell_type": "markdown",
   "id": "81df96b8-bcc6-4306-bb4b-bed2c4464ebf",
   "metadata": {
    "id": "81df96b8-bcc6-4306-bb4b-bed2c4464ebf",
    "tags": []
   },
   "source": [
    "## Observation for the Business Intelligence Analyst:\n",
    "\n",
    "\n",
    "- There will be duplicate data; `ASINs` have mutiple `Product_Names`\n",
    "- Therefore we should only really concern ourselves with which `ASINs` do well, not the `Product_Names`."
   ]
  },
  {
   "cell_type": "markdown",
   "id": "a7c77fcd-4606-48bb-8a78-119188ed47c9",
   "metadata": {
    "id": "a7c77fcd-4606-48bb-8a78-119188ed47c9",
    "tags": []
   },
   "source": [
    "#### Class Imbalance: `reviews.doRecommend` table.\n",
    "\n",
    "- Here we will observe the distribution of our classes.\n",
    "- We can see that the column is badly imbalanced and for the purpose of clean analysis we will be dropping this column.\n",
    "- This will affect the quality of any time series model we build, class balacing techniques such as SMOTE could be used. \n",
    "\n",
    "\n",
    "#### Class Imbalance: `reviews.rating` table.\n",
    "\n",
    "- There are more positive rating that others.\n",
    "- Majority of examples were rated highly (looking at rating distribution). \n",
    "- There is twice amount of 5 star ratings than the others ratings combined\n",
    "- Singfinicantly lower, high bias towards positive ratings.\n",
    "- We can see that the column is badly imbalanced and for the purpose of clean analysis we will be dropping this column.\n",
    "\n",
    "\n",
    "#### Outliers: `reviews.numHelpful`: Outliers in this case are valuable, so we may want to weight reviews that had more than 50+ people who find them helpful.\n",
    "\n",
    "\n",
    "#### Parsing Issue: `dateSeen`: The `dateSeen` column in the product_price table seems to have two timestamps in one entry."
   ]
  },
  {
   "cell_type": "markdown",
   "id": "d118c4dd",
   "metadata": {},
   "source": []
  },
  {
   "cell_type": "markdown",
   "id": "ea67b826",
   "metadata": {},
   "source": []
  },
  {
   "cell_type": "markdown",
   "id": "1ed82eac-c440-4a05-bb73-69627712142a",
   "metadata": {
    "id": "1ed82eac-c440-4a05-bb73-69627712142a"
   },
   "source": [
    "## Step 4: Final Format.\n",
    "\n"
   ]
  },
  {
   "cell_type": "code",
   "execution_count": 71,
   "id": "pde8FRG98N1o",
   "metadata": {
    "colab": {
     "base_uri": "https://localhost:8080/"
    },
    "id": "pde8FRG98N1o",
    "outputId": "8b63d53a-63a1-47f1-8f51-7c92305f5bc9"
   },
   "outputs": [
    {
     "name": "stdout",
     "output_type": "stream",
     "text": [
      "<class 'pandas.core.frame.DataFrame'>\n",
      "RangeIndex: 1200 entries, 0 to 1199\n",
      "Data columns (total 17 columns):\n",
      " #   Column                 Non-Null Count  Dtype              \n",
      "---  ------                 --------------  -----              \n",
      " 0   id                     1200 non-null   object             \n",
      " 1   Asins                  1200 non-null   object             \n",
      " 2   Brand                  1200 non-null   object             \n",
      " 3   Categories             1200 non-null   object             \n",
      " 4   DateAdded              1200 non-null   datetime64[ns, UTC]\n",
      " 5   DateUpdated            1200 non-null   datetime64[ns, UTC]\n",
      " 6   Product_Manufacturer   1200 non-null   object             \n",
      " 7   Product_Name           1200 non-null   object             \n",
      " 8   Review_Date            1200 non-null   datetime64[ns, UTC]\n",
      " 9   Review_Recommendation  1200 non-null   object             \n",
      " 10  Reviews_Helpful        1200 non-null   float64            \n",
      " 11  Reviews_Rating         1200 non-null   float64            \n",
      " 12  Reviews_Username       1200 non-null   object             \n",
      " 13  Review_Quater          1200 non-null   object             \n",
      " 14  Review_TimeOfDay       1200 non-null   object             \n",
      " 15  Review_Month           1200 non-null   object             \n",
      " 16  Handling_Time          1200 non-null   timedelta64[ns]    \n",
      "dtypes: datetime64[ns, UTC](3), float64(2), object(11), timedelta64[ns](1)\n",
      "memory usage: 159.5+ KB\n"
     ]
    }
   ],
   "source": [
    "dataset.info()"
   ]
  },
  {
   "cell_type": "code",
   "execution_count": 76,
   "id": "CCv1kcwW9wWt",
   "metadata": {
    "id": "CCv1kcwW9wWt"
   },
   "outputs": [],
   "source": [
    "dataset.to_csv('amazon_clean', encoding='utf-8', index=False)"
   ]
  },
  {
   "cell_type": "code",
   "execution_count": null,
   "id": "pTS-OUp79R4u",
   "metadata": {
    "id": "pTS-OUp79R4u"
   },
   "outputs": [],
   "source": [
    "# Export to CSv"
   ]
  },
  {
   "cell_type": "code",
   "execution_count": 72,
   "id": "a525795d-de41-46c9-af5f-28137b8df951",
   "metadata": {
    "colab": {
     "base_uri": "https://localhost:8080/"
    },
    "id": "a525795d-de41-46c9-af5f-28137b8df951",
    "outputId": "45b4184d-c159-4f84-81ad-4ffac7cc4c6f"
   },
   "outputs": [
    {
     "name": "stdout",
     "output_type": "stream",
     "text": [
      "<class 'pandas.core.frame.DataFrame'>\n",
      "RangeIndex: 1200 entries, 0 to 1199\n",
      "Data columns (total 7 columns):\n",
      " #   Column            Non-Null Count  Dtype              \n",
      "---  ------            --------------  -----              \n",
      " 0   amountMax         1200 non-null   float64            \n",
      " 1   amountMin         1200 non-null   float64            \n",
      " 2   currency          1200 non-null   object             \n",
      " 3   dateAdded         1200 non-null   object             \n",
      " 4   isSale            1200 non-null   object             \n",
      " 5   merchant          1200 non-null   object             \n",
      " 6   Price_Date_Added  1200 non-null   datetime64[ns, UTC]\n",
      "dtypes: datetime64[ns, UTC](1), float64(2), object(4)\n",
      "memory usage: 65.8+ KB\n"
     ]
    }
   ],
   "source": [
    "product_price.info()"
   ]
  },
  {
   "cell_type": "code",
   "execution_count": 77,
   "id": "Klw-rmlC9HVC",
   "metadata": {
    "id": "Klw-rmlC9HVC"
   },
   "outputs": [],
   "source": [
    "product_price.to_csv('amazon_price', encoding='utf-8', index=False)"
   ]
  },
  {
   "cell_type": "code",
   "execution_count": null,
   "id": "60SZPARS-EPQ",
   "metadata": {
    "id": "60SZPARS-EPQ"
   },
   "outputs": [],
   "source": []
  },
  {
   "cell_type": "markdown",
   "id": "MZXzYEK5-WDd",
   "metadata": {
    "id": "MZXzYEK5-WDd"
   },
   "source": [
    "Thank you for your time."
   ]
  },
  {
   "cell_type": "code",
   "execution_count": null,
   "id": "a7u0pD67-ZWv",
   "metadata": {
    "id": "a7u0pD67-ZWv"
   },
   "outputs": [],
   "source": []
  }
 ],
 "metadata": {
  "accelerator": "GPU",
  "colab": {
   "collapsed_sections": [
    "69290fe3-dffa-4338-ab14-6d27086c6a8a",
    "504494a3-60b5-4ed3-b515-70cda7eb2494",
    "9452d2d7-1a92-4d43-96b2-a0596f8cdfe3",
    "b9ee7db3-0eb1-4202-a8fa-6538607b8808",
    "9780f533-32aa-463f-a8c5-cca80b1576fd",
    "787fa3e1-aa07-4828-9aec-406c32bd517a",
    "02686d5f-0666-4f62-b3e9-df2dafd64609",
    "cdf9b7eb-0830-4349-ab3d-ef980452c418",
    "3f93d79a-94e8-425a-a4af-4656a9ec3308",
    "525ac296-b134-4050-90b6-5845eb46a64d",
    "1e1e1778-b8c3-4dd9-a623-d7c651b1184b",
    "6f9b9a06-5883-4437-857b-177d304f3509",
    "cd3b46f0-a836-436c-bb50-e1d62e1a484a",
    "6b53ef97-ae82-4a17-a3df-2bf0859ae222",
    "737db038-ac30-4428-96ff-82994042184d",
    "2b3648d1-3695-4231-84c2-e0a8018486de",
    "350ee771-b0a3-43cc-83e7-b467a0690e34",
    "42d19e94-7826-4e26-b1f2-69d0d6a3f2cb",
    "83b3477b-c64c-46b6-86ab-610e62e127f8",
    "7c7bec92-3fa4-4ab2-a153-7d00eaaae0bd",
    "e862a129-11b6-476b-a682-1c653eb2df7d",
    "e45256f4-3ea7-4592-a9fc-5697f2afefa7",
    "85e2bcd4-fe7f-40c3-acec-6d438a778f4a",
    "771ac5a4-fe79-4318-a41c-e0f836168baf",
    "3dc3db96-3933-4588-a579-666e5b43b307",
    "426c898c-8666-4434-aa08-a5426d8433ed",
    "4575fa71-fa4f-4ceb-aabb-1266d7e2c549",
    "2dba9ac8-0db2-4702-8dd6-f52c4669aa26",
    "d178ed1c-ab72-46fb-b057-449712f64521",
    "a21dda14-07ad-4f4d-bcac-806adb55f453",
    "95220e32-2ff0-4ece-b5d3-20795a0df22d",
    "c03ad867-8ef0-4ba0-ab2d-491e059054bf",
    "aee69735-673e-41b0-a36e-6a272cd8929d",
    "1ed82eac-c440-4a05-bb73-69627712142a"
   ],
   "name": "Mahmud-DEngTest.ipynb",
   "provenance": []
  },
  "gpuClass": "standard",
  "kernelspec": {
   "display_name": "Python 3 (ipykernel)",
   "language": "python",
   "name": "python3"
  },
  "language_info": {
   "codemirror_mode": {
    "name": "ipython",
    "version": 3
   },
   "file_extension": ".py",
   "mimetype": "text/x-python",
   "name": "python",
   "nbconvert_exporter": "python",
   "pygments_lexer": "ipython3",
   "version": "3.9.12"
  }
 },
 "nbformat": 4,
 "nbformat_minor": 5
}
