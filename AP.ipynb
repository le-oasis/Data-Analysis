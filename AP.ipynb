{
  "cells": [
    {
      "cell_type": "markdown",
      "metadata": {
        "id": "qGTbeKGg3jTd"
      },
      "source": [
        "#  Project\n",
        "### Problem Statement\n",
        "\n",
        "In the year 2013, a supermarket decided to draw insight from their data in order to make data driven decisions.\n",
        "As a Data Analyst,you are presented with their 2013 daily sales records (sales_data.csv) and tasked to help them find answers to the questions below by analysing the data.\n",
        "\n",
        "1. i. What is the average sales and profit per market? \n",
        "\n",
        "   ii.Plot a stacked bar chart showing the sales and profit per market.\n",
        "   \n",
        "   iii.Which market brings more sales on the average?\n",
        "\n",
        "2. i. What are the best 10 performing products with regards to sales in 2013?\n",
        "\n",
        "   ii.What are the least 10 performing products with regards to sales 2013?\n",
        "\n",
        "\n",
        "3. i. Extract the days and months from the Order Date and add them to the data frame with the name \"Days\" and \"Months\" respectively?\n",
        "\n",
        "   ii.Show the trend of profit from January to December with a line plot.\n",
        "\n",
        "   iii. Which month does the company make more profit and what 5 products are sold most in that month?\n",
        "   iv.  which day does the company make high sales on the average?\n",
        "\n",
        "4. i. By analyzing the data, what is the correlation between sales and discount?\n",
        "\n",
        "   ii. Use a scatter plot to show the relationship between sales and profit.\n",
        "\n",
        "5. i. Plot a grouped bar chart showing the total profit for the different product category for each market.\n",
        "   ii. From your graph, which product category performs well in each market?\n",
        "   \n",
        "6. i. Which customer spent the most in the whole year?\n",
        "   ii. What product does the customer in (i) buy the most?\n",
        "   iii. Which month did the customer spent the most?\n",
        "   iv. How much did this customer spend in the whole year?\n",
        "   \n",
        "7. Can you do any other analysis to draw more insight? Feel free to do it.\n",
        "\n",
        "\n",
        "**Thank you**\n",
        "\n",
        "**GOOD LUCK!**\n",
        "\n",
        "\n",
        "\n"
      ]
    },
    {
      "cell_type": "code",
      "execution_count": 1,
      "metadata": {
        "id": "8yd8KGYQ3jTf"
      },
      "outputs": [],
      "source": [
        "# Use markdowns to write your answers or findings where necessary.\n",
        "# Use comments to exlain you codes where necessary \n",
        "# Remember to import the necessary packages"
      ]
    },
    {
      "cell_type": "markdown",
      "metadata": {
        "id": "tY3ZZXZd3jTg"
      },
      "source": [
        "### **NB**: To easily load the data, it's advisable you have the data and the notebook file  in the same folder."
      ]
    },
    {
      "cell_type": "code",
      "execution_count": 2,
      "metadata": {
        "id": "dvjmDOmf3jTg"
      },
      "outputs": [],
      "source": [
        "#import your packages here\n",
        "\n",
        "import numpy as np\n",
        "import pandas as pd\n",
        "import matplotlib.pyplot as plt\n",
        "import seaborn as sns\n",
        "from calendar import month_name as mn\n",
        "\n",
        "%matplotlib inline"
      ]
    },
    {
      "cell_type": "code",
      "execution_count": null,
      "metadata": {
        "id": "ye2dQ4yL3jTh"
      },
      "outputs": [],
      "source": [
        ""
      ]
    },
    {
      "cell_type": "code",
      "execution_count": 3,
      "metadata": {
        "id": "Hu8vtgSL3jTh"
      },
      "outputs": [],
      "source": [
        "# Load the sales data here\n",
        "sales = pd.read_csv('sales_data.csv', parse_dates=['Order Date'], index_col=0)"
      ]
    },
    {
      "cell_type": "code",
      "execution_count": 4,
      "metadata": {
        "colab": {
          "base_uri": "https://localhost:8080/",
          "height": 467
        },
        "id": "nspg7tnc3jTh",
        "outputId": "a0edd887-d478-48ab-a28c-eee9bc293411"
      },
      "outputs": [
        {
          "output_type": "execute_result",
          "data": {
            "text/plain": [
              "       Order Date        Order ID Customer ID    Customer Name      Segment  \\\n",
              "0      2013-01-01   ID-2013-37383    MY-18295  Muhammed Yedwab    Corporate   \n",
              "1      2013-01-01   IN-2013-47960    JE-15715       Joe Elijah     Consumer   \n",
              "2      2013-01-01   ID-2013-37383    MY-18295  Muhammed Yedwab    Corporate   \n",
              "3      2013-01-01   IN-2013-47960    JE-15715       Joe Elijah     Consumer   \n",
              "4      2013-01-01   IN-2013-47960    JE-15715       Joe Elijah     Consumer   \n",
              "...           ...             ...         ...              ...          ...   \n",
              "13794  2013-12-31    TU-2013-9400    TM-11490    Tony Molinari     Consumer   \n",
              "13795  2013-12-31  CA-2013-163951    CJ-11875     Carl Jackson    Corporate   \n",
              "13796  2013-12-31  US-2013-111528    JP-16135   Julie Prescott  Home Office   \n",
              "13797  2013-12-31  CA-2013-117660    BM-11785      Bryan Mills     Consumer   \n",
              "13798  2013-12-31    IZ-2013-2550     DM-3015    Darrin Martin     Consumer   \n",
              "\n",
              "               City Market      Region         Category Sub-Category  \\\n",
              "0            Albury   APAC     Oceania       Technology      Copiers   \n",
              "1           Tianjin   APAC  North Asia        Furniture    Bookcases   \n",
              "2            Albury   APAC     Oceania       Technology  Accessories   \n",
              "3           Tianjin   APAC  North Asia        Furniture    Bookcases   \n",
              "4           Tianjin   APAC  North Asia        Furniture    Bookcases   \n",
              "...             ...    ...         ...              ...          ...   \n",
              "13794     Gaziantep   EMEA        EMEA        Furniture  Furnishings   \n",
              "13795  Philadelphia     US        East  Office Supplies          Art   \n",
              "13796   Los Angeles     US        West  Office Supplies      Binders   \n",
              "13797      Columbus     US        East  Office Supplies       Labels   \n",
              "13798         Basra   EMEA        EMEA  Office Supplies      Binders   \n",
              "\n",
              "                                 Product Name     Sales  Quantity  Discount  \\\n",
              "0                 Canon Copy Machine, Digital  1649.214       7.0       0.1   \n",
              "1            Sauder Floating Shelf Set, Metal  1358.280       7.0       0.0   \n",
              "2             Logitech Memory Card, Erganomic   728.568       8.0       0.1   \n",
              "3            Dania Library with Doors, Mobile  2189.520       6.0       0.0   \n",
              "4      Sauder Floating Shelf Set, Traditional  1362.060       7.0       0.0   \n",
              "...                                       ...       ...       ...       ...   \n",
              "13794                 Eldon Light Bulb, Black    10.080       1.0       0.6   \n",
              "13795                               Newell 31    16.520       5.0       0.2   \n",
              "13796              Cardinal Hold-It CD Pocket     6.384       1.0       0.2   \n",
              "13797                               Avery 487     5.904       2.0       0.2   \n",
              "13798            Wilson Jones Binder, Economy    13.020       1.0       0.0   \n",
              "\n",
              "         Profit  \n",
              "0       36.6240  \n",
              "1      203.7000  \n",
              "2      -32.4720  \n",
              "3      372.0600  \n",
              "4      340.4100  \n",
              "...         ...  \n",
              "13794   -5.5500  \n",
              "13795    1.6520  \n",
              "13796    2.1546  \n",
              "13797    1.9926  \n",
              "13798    4.0200  \n",
              "\n",
              "[14594 rows x 15 columns]"
            ],
            "text/html": [
              "\n",
              "  <div id=\"df-49d8fef7-859d-46e4-bf9e-727f5a3acb43\">\n",
              "    <div class=\"colab-df-container\">\n",
              "      <div>\n",
              "<style scoped>\n",
              "    .dataframe tbody tr th:only-of-type {\n",
              "        vertical-align: middle;\n",
              "    }\n",
              "\n",
              "    .dataframe tbody tr th {\n",
              "        vertical-align: top;\n",
              "    }\n",
              "\n",
              "    .dataframe thead th {\n",
              "        text-align: right;\n",
              "    }\n",
              "</style>\n",
              "<table border=\"1\" class=\"dataframe\">\n",
              "  <thead>\n",
              "    <tr style=\"text-align: right;\">\n",
              "      <th></th>\n",
              "      <th>Order Date</th>\n",
              "      <th>Order ID</th>\n",
              "      <th>Customer ID</th>\n",
              "      <th>Customer Name</th>\n",
              "      <th>Segment</th>\n",
              "      <th>City</th>\n",
              "      <th>Market</th>\n",
              "      <th>Region</th>\n",
              "      <th>Category</th>\n",
              "      <th>Sub-Category</th>\n",
              "      <th>Product Name</th>\n",
              "      <th>Sales</th>\n",
              "      <th>Quantity</th>\n",
              "      <th>Discount</th>\n",
              "      <th>Profit</th>\n",
              "    </tr>\n",
              "  </thead>\n",
              "  <tbody>\n",
              "    <tr>\n",
              "      <th>0</th>\n",
              "      <td>2013-01-01</td>\n",
              "      <td>ID-2013-37383</td>\n",
              "      <td>MY-18295</td>\n",
              "      <td>Muhammed Yedwab</td>\n",
              "      <td>Corporate</td>\n",
              "      <td>Albury</td>\n",
              "      <td>APAC</td>\n",
              "      <td>Oceania</td>\n",
              "      <td>Technology</td>\n",
              "      <td>Copiers</td>\n",
              "      <td>Canon Copy Machine, Digital</td>\n",
              "      <td>1649.214</td>\n",
              "      <td>7.0</td>\n",
              "      <td>0.1</td>\n",
              "      <td>36.6240</td>\n",
              "    </tr>\n",
              "    <tr>\n",
              "      <th>1</th>\n",
              "      <td>2013-01-01</td>\n",
              "      <td>IN-2013-47960</td>\n",
              "      <td>JE-15715</td>\n",
              "      <td>Joe Elijah</td>\n",
              "      <td>Consumer</td>\n",
              "      <td>Tianjin</td>\n",
              "      <td>APAC</td>\n",
              "      <td>North Asia</td>\n",
              "      <td>Furniture</td>\n",
              "      <td>Bookcases</td>\n",
              "      <td>Sauder Floating Shelf Set, Metal</td>\n",
              "      <td>1358.280</td>\n",
              "      <td>7.0</td>\n",
              "      <td>0.0</td>\n",
              "      <td>203.7000</td>\n",
              "    </tr>\n",
              "    <tr>\n",
              "      <th>2</th>\n",
              "      <td>2013-01-01</td>\n",
              "      <td>ID-2013-37383</td>\n",
              "      <td>MY-18295</td>\n",
              "      <td>Muhammed Yedwab</td>\n",
              "      <td>Corporate</td>\n",
              "      <td>Albury</td>\n",
              "      <td>APAC</td>\n",
              "      <td>Oceania</td>\n",
              "      <td>Technology</td>\n",
              "      <td>Accessories</td>\n",
              "      <td>Logitech Memory Card, Erganomic</td>\n",
              "      <td>728.568</td>\n",
              "      <td>8.0</td>\n",
              "      <td>0.1</td>\n",
              "      <td>-32.4720</td>\n",
              "    </tr>\n",
              "    <tr>\n",
              "      <th>3</th>\n",
              "      <td>2013-01-01</td>\n",
              "      <td>IN-2013-47960</td>\n",
              "      <td>JE-15715</td>\n",
              "      <td>Joe Elijah</td>\n",
              "      <td>Consumer</td>\n",
              "      <td>Tianjin</td>\n",
              "      <td>APAC</td>\n",
              "      <td>North Asia</td>\n",
              "      <td>Furniture</td>\n",
              "      <td>Bookcases</td>\n",
              "      <td>Dania Library with Doors, Mobile</td>\n",
              "      <td>2189.520</td>\n",
              "      <td>6.0</td>\n",
              "      <td>0.0</td>\n",
              "      <td>372.0600</td>\n",
              "    </tr>\n",
              "    <tr>\n",
              "      <th>4</th>\n",
              "      <td>2013-01-01</td>\n",
              "      <td>IN-2013-47960</td>\n",
              "      <td>JE-15715</td>\n",
              "      <td>Joe Elijah</td>\n",
              "      <td>Consumer</td>\n",
              "      <td>Tianjin</td>\n",
              "      <td>APAC</td>\n",
              "      <td>North Asia</td>\n",
              "      <td>Furniture</td>\n",
              "      <td>Bookcases</td>\n",
              "      <td>Sauder Floating Shelf Set, Traditional</td>\n",
              "      <td>1362.060</td>\n",
              "      <td>7.0</td>\n",
              "      <td>0.0</td>\n",
              "      <td>340.4100</td>\n",
              "    </tr>\n",
              "    <tr>\n",
              "      <th>...</th>\n",
              "      <td>...</td>\n",
              "      <td>...</td>\n",
              "      <td>...</td>\n",
              "      <td>...</td>\n",
              "      <td>...</td>\n",
              "      <td>...</td>\n",
              "      <td>...</td>\n",
              "      <td>...</td>\n",
              "      <td>...</td>\n",
              "      <td>...</td>\n",
              "      <td>...</td>\n",
              "      <td>...</td>\n",
              "      <td>...</td>\n",
              "      <td>...</td>\n",
              "      <td>...</td>\n",
              "    </tr>\n",
              "    <tr>\n",
              "      <th>13794</th>\n",
              "      <td>2013-12-31</td>\n",
              "      <td>TU-2013-9400</td>\n",
              "      <td>TM-11490</td>\n",
              "      <td>Tony Molinari</td>\n",
              "      <td>Consumer</td>\n",
              "      <td>Gaziantep</td>\n",
              "      <td>EMEA</td>\n",
              "      <td>EMEA</td>\n",
              "      <td>Furniture</td>\n",
              "      <td>Furnishings</td>\n",
              "      <td>Eldon Light Bulb, Black</td>\n",
              "      <td>10.080</td>\n",
              "      <td>1.0</td>\n",
              "      <td>0.6</td>\n",
              "      <td>-5.5500</td>\n",
              "    </tr>\n",
              "    <tr>\n",
              "      <th>13795</th>\n",
              "      <td>2013-12-31</td>\n",
              "      <td>CA-2013-163951</td>\n",
              "      <td>CJ-11875</td>\n",
              "      <td>Carl Jackson</td>\n",
              "      <td>Corporate</td>\n",
              "      <td>Philadelphia</td>\n",
              "      <td>US</td>\n",
              "      <td>East</td>\n",
              "      <td>Office Supplies</td>\n",
              "      <td>Art</td>\n",
              "      <td>Newell 31</td>\n",
              "      <td>16.520</td>\n",
              "      <td>5.0</td>\n",
              "      <td>0.2</td>\n",
              "      <td>1.6520</td>\n",
              "    </tr>\n",
              "    <tr>\n",
              "      <th>13796</th>\n",
              "      <td>2013-12-31</td>\n",
              "      <td>US-2013-111528</td>\n",
              "      <td>JP-16135</td>\n",
              "      <td>Julie Prescott</td>\n",
              "      <td>Home Office</td>\n",
              "      <td>Los Angeles</td>\n",
              "      <td>US</td>\n",
              "      <td>West</td>\n",
              "      <td>Office Supplies</td>\n",
              "      <td>Binders</td>\n",
              "      <td>Cardinal Hold-It CD Pocket</td>\n",
              "      <td>6.384</td>\n",
              "      <td>1.0</td>\n",
              "      <td>0.2</td>\n",
              "      <td>2.1546</td>\n",
              "    </tr>\n",
              "    <tr>\n",
              "      <th>13797</th>\n",
              "      <td>2013-12-31</td>\n",
              "      <td>CA-2013-117660</td>\n",
              "      <td>BM-11785</td>\n",
              "      <td>Bryan Mills</td>\n",
              "      <td>Consumer</td>\n",
              "      <td>Columbus</td>\n",
              "      <td>US</td>\n",
              "      <td>East</td>\n",
              "      <td>Office Supplies</td>\n",
              "      <td>Labels</td>\n",
              "      <td>Avery 487</td>\n",
              "      <td>5.904</td>\n",
              "      <td>2.0</td>\n",
              "      <td>0.2</td>\n",
              "      <td>1.9926</td>\n",
              "    </tr>\n",
              "    <tr>\n",
              "      <th>13798</th>\n",
              "      <td>2013-12-31</td>\n",
              "      <td>IZ-2013-2550</td>\n",
              "      <td>DM-3015</td>\n",
              "      <td>Darrin Martin</td>\n",
              "      <td>Consumer</td>\n",
              "      <td>Basra</td>\n",
              "      <td>EMEA</td>\n",
              "      <td>EMEA</td>\n",
              "      <td>Office Supplies</td>\n",
              "      <td>Binders</td>\n",
              "      <td>Wilson Jones Binder, Economy</td>\n",
              "      <td>13.020</td>\n",
              "      <td>1.0</td>\n",
              "      <td>0.0</td>\n",
              "      <td>4.0200</td>\n",
              "    </tr>\n",
              "  </tbody>\n",
              "</table>\n",
              "<p>14594 rows × 15 columns</p>\n",
              "</div>\n",
              "      <button class=\"colab-df-convert\" onclick=\"convertToInteractive('df-49d8fef7-859d-46e4-bf9e-727f5a3acb43')\"\n",
              "              title=\"Convert this dataframe to an interactive table.\"\n",
              "              style=\"display:none;\">\n",
              "        \n",
              "  <svg xmlns=\"http://www.w3.org/2000/svg\" height=\"24px\"viewBox=\"0 0 24 24\"\n",
              "       width=\"24px\">\n",
              "    <path d=\"M0 0h24v24H0V0z\" fill=\"none\"/>\n",
              "    <path d=\"M18.56 5.44l.94 2.06.94-2.06 2.06-.94-2.06-.94-.94-2.06-.94 2.06-2.06.94zm-11 1L8.5 8.5l.94-2.06 2.06-.94-2.06-.94L8.5 2.5l-.94 2.06-2.06.94zm10 10l.94 2.06.94-2.06 2.06-.94-2.06-.94-.94-2.06-.94 2.06-2.06.94z\"/><path d=\"M17.41 7.96l-1.37-1.37c-.4-.4-.92-.59-1.43-.59-.52 0-1.04.2-1.43.59L10.3 9.45l-7.72 7.72c-.78.78-.78 2.05 0 2.83L4 21.41c.39.39.9.59 1.41.59.51 0 1.02-.2 1.41-.59l7.78-7.78 2.81-2.81c.8-.78.8-2.07 0-2.86zM5.41 20L4 18.59l7.72-7.72 1.47 1.35L5.41 20z\"/>\n",
              "  </svg>\n",
              "      </button>\n",
              "      \n",
              "  <style>\n",
              "    .colab-df-container {\n",
              "      display:flex;\n",
              "      flex-wrap:wrap;\n",
              "      gap: 12px;\n",
              "    }\n",
              "\n",
              "    .colab-df-convert {\n",
              "      background-color: #E8F0FE;\n",
              "      border: none;\n",
              "      border-radius: 50%;\n",
              "      cursor: pointer;\n",
              "      display: none;\n",
              "      fill: #1967D2;\n",
              "      height: 32px;\n",
              "      padding: 0 0 0 0;\n",
              "      width: 32px;\n",
              "    }\n",
              "\n",
              "    .colab-df-convert:hover {\n",
              "      background-color: #E2EBFA;\n",
              "      box-shadow: 0px 1px 2px rgba(60, 64, 67, 0.3), 0px 1px 3px 1px rgba(60, 64, 67, 0.15);\n",
              "      fill: #174EA6;\n",
              "    }\n",
              "\n",
              "    [theme=dark] .colab-df-convert {\n",
              "      background-color: #3B4455;\n",
              "      fill: #D2E3FC;\n",
              "    }\n",
              "\n",
              "    [theme=dark] .colab-df-convert:hover {\n",
              "      background-color: #434B5C;\n",
              "      box-shadow: 0px 1px 3px 1px rgba(0, 0, 0, 0.15);\n",
              "      filter: drop-shadow(0px 1px 2px rgba(0, 0, 0, 0.3));\n",
              "      fill: #FFFFFF;\n",
              "    }\n",
              "  </style>\n",
              "\n",
              "      <script>\n",
              "        const buttonEl =\n",
              "          document.querySelector('#df-49d8fef7-859d-46e4-bf9e-727f5a3acb43 button.colab-df-convert');\n",
              "        buttonEl.style.display =\n",
              "          google.colab.kernel.accessAllowed ? 'block' : 'none';\n",
              "\n",
              "        async function convertToInteractive(key) {\n",
              "          const element = document.querySelector('#df-49d8fef7-859d-46e4-bf9e-727f5a3acb43');\n",
              "          const dataTable =\n",
              "            await google.colab.kernel.invokeFunction('convertToInteractive',\n",
              "                                                     [key], {});\n",
              "          if (!dataTable) return;\n",
              "\n",
              "          const docLinkHtml = 'Like what you see? Visit the ' +\n",
              "            '<a target=\"_blank\" href=https://colab.research.google.com/notebooks/data_table.ipynb>data table notebook</a>'\n",
              "            + ' to learn more about interactive tables.';\n",
              "          element.innerHTML = '';\n",
              "          dataTable['output_type'] = 'display_data';\n",
              "          await google.colab.output.renderOutput(dataTable, element);\n",
              "          const docLink = document.createElement('div');\n",
              "          docLink.innerHTML = docLinkHtml;\n",
              "          element.appendChild(docLink);\n",
              "        }\n",
              "      </script>\n",
              "    </div>\n",
              "  </div>\n",
              "  "
            ]
          },
          "metadata": {},
          "execution_count": 4
        }
      ],
      "source": [
        "sales"
      ]
    },
    {
      "cell_type": "code",
      "execution_count": null,
      "metadata": {
        "id": "k--Ey20Y3jTi"
      },
      "outputs": [],
      "source": [
        ""
      ]
    },
    {
      "cell_type": "markdown",
      "metadata": {
        "id": "H6VelqRY3jTi"
      },
      "source": [
        "### (I) What is the average sales and profit per market?"
      ]
    },
    {
      "cell_type": "code",
      "execution_count": null,
      "metadata": {
        "id": "030LooDa3jTj",
        "outputId": "5fa4a7ef-7449-4b15-d015-13c4d92d1ff1"
      },
      "outputs": [
        {
          "data": {
            "text/plain": [
              "Market\n",
              "APAC      337.225210\n",
              "Africa    177.023796\n",
              "Canada    180.765566\n",
              "EMEA      156.453122\n",
              "EU        297.415215\n",
              "LATAM     198.738815\n",
              "US        235.842570\n",
              "Name: Sales, dtype: float64"
            ]
          },
          "execution_count": 4,
          "metadata": {},
          "output_type": "execute_result"
        }
      ],
      "source": [
        "# Average Sales Per Market\n",
        "mean_sales_market = sales.groupby('Market').mean()['Sales']\n",
        "mean_sales_market"
      ]
    },
    {
      "cell_type": "code",
      "execution_count": null,
      "metadata": {
        "id": "f7RkiHK43jTj",
        "outputId": "3ad06396-d236-4858-8d20-e64bb3dcfd8e"
      },
      "outputs": [
        {
          "data": {
            "text/plain": [
              "Market\n",
              "APAC      42.596237\n",
              "Africa    20.623734\n",
              "Canada    48.391132\n",
              "EMEA       8.102479\n",
              "EU        38.373754\n",
              "LATAM     20.070383\n",
              "US        31.677105\n",
              "Name: Profit, dtype: float64"
            ]
          },
          "execution_count": 5,
          "metadata": {},
          "output_type": "execute_result"
        }
      ],
      "source": [
        "# Average Sales Per Profit\n",
        "mean_sales_prof = sales.groupby('Market').mean()['Profit']\n",
        "mean_sales_prof"
      ]
    },
    {
      "cell_type": "markdown",
      "metadata": {
        "id": "l1IT-NdQ3jTk"
      },
      "source": [
        "### (II) Plot a stacked bar chart showing the sales and profit per market."
      ]
    },
    {
      "cell_type": "code",
      "execution_count": null,
      "metadata": {
        "id": "_AjeRkCE3jTk",
        "outputId": "20ce6bb0-151d-4bc5-fc20-e57791e1349d"
      },
      "outputs": [
        {
          "data": {
            "text/html": [
              "<div><div id=07644273-f516-4a28-a79a-6ee5bc6020f5 style=\"display:none; background-color:#9D6CFF; color:white; width:200px; height:30px; padding-left:5px; border-radius:4px; flex-direction:row; justify-content:space-around; align-items:center;\" onmouseover=\"this.style.backgroundColor='#BA9BF8'\" onmouseout=\"this.style.backgroundColor='#9D6CFF'\" onclick=\"window.commands?.execute('create-mitosheet-from-dataframe-output');\">See Full Dataframe in Mito</div> <script> if (window.commands.hasCommand('create-mitosheet-from-dataframe-output')) document.getElementById('07644273-f516-4a28-a79a-6ee5bc6020f5').style.display = 'flex' </script> <table border=\"1\" class=\"dataframe\">\n",
              "  <thead>\n",
              "    <tr style=\"text-align: right;\">\n",
              "      <th></th>\n",
              "      <th>Market</th>\n",
              "      <th>Profit</th>\n",
              "      <th>Sales</th>\n",
              "    </tr>\n",
              "  </thead>\n",
              "  <tbody>\n",
              "    <tr>\n",
              "      <th>0</th>\n",
              "      <td>APAC</td>\n",
              "      <td>42.596237</td>\n",
              "      <td>337.225210</td>\n",
              "    </tr>\n",
              "    <tr>\n",
              "      <th>1</th>\n",
              "      <td>Africa</td>\n",
              "      <td>20.623734</td>\n",
              "      <td>177.023796</td>\n",
              "    </tr>\n",
              "    <tr>\n",
              "      <th>2</th>\n",
              "      <td>Canada</td>\n",
              "      <td>48.391132</td>\n",
              "      <td>180.765566</td>\n",
              "    </tr>\n",
              "    <tr>\n",
              "      <th>3</th>\n",
              "      <td>EMEA</td>\n",
              "      <td>8.102479</td>\n",
              "      <td>156.453122</td>\n",
              "    </tr>\n",
              "    <tr>\n",
              "      <th>4</th>\n",
              "      <td>EU</td>\n",
              "      <td>38.373754</td>\n",
              "      <td>297.415215</td>\n",
              "    </tr>\n",
              "    <tr>\n",
              "      <th>5</th>\n",
              "      <td>LATAM</td>\n",
              "      <td>20.070383</td>\n",
              "      <td>198.738815</td>\n",
              "    </tr>\n",
              "    <tr>\n",
              "      <th>6</th>\n",
              "      <td>US</td>\n",
              "      <td>31.677105</td>\n",
              "      <td>235.842570</td>\n",
              "    </tr>\n",
              "  </tbody>\n",
              "</table></div>"
            ],
            "text/plain": [
              "   Market     Profit       Sales\n",
              "0    APAC  42.596237  337.225210\n",
              "1  Africa  20.623734  177.023796\n",
              "2  Canada  48.391132  180.765566\n",
              "3    EMEA   8.102479  156.453122\n",
              "4      EU  38.373754  297.415215\n",
              "5   LATAM  20.070383  198.738815\n",
              "6      US  31.677105  235.842570"
            ]
          },
          "execution_count": 6,
          "metadata": {},
          "output_type": "execute_result"
        }
      ],
      "source": [
        "# dataframe of sales per market \n",
        "avg_prof = mean_sales_market.to_frame()\n",
        "avg_prof.reset_index(inplace=True)\n",
        "avg_prof\n",
        "\n",
        "# dataframe of sales per profit \n",
        "avg_sales = mean_sales_prof.to_frame()\n",
        "avg_sales.reset_index(inplace=True)\n",
        "avg_sales\n",
        "\n",
        "# joining them via inner join \n",
        "df_cd = pd.merge(avg_sales, avg_prof, how='inner')\n",
        "df_cd"
      ]
    },
    {
      "cell_type": "code",
      "execution_count": null,
      "metadata": {
        "id": "AjNcqX_d3jTk",
        "outputId": "98e44f3f-daef-483d-9359-e2e406c8483c"
      },
      "outputs": [
        {
          "data": {
            "image/png": "[encoded data removed]",
            "text/plain": [
              "<Figure size 432x288 with 1 Axes>"
            ]
          },
          "metadata": {
            "needs_background": "light"
          },
          "output_type": "display_data"
        }
      ],
      "source": [
        "\n",
        "# plot data in stack manner of bar type\n",
        "df_cd.plot(x='Market', kind='bar', stacked=True, title='Stacked Bar Graph by Sales & Profit Per Market');"
      ]
    },
    {
      "cell_type": "code",
      "execution_count": null,
      "metadata": {
        "id": "SDqI32jt3jTl"
      },
      "outputs": [],
      "source": [
        ""
      ]
    },
    {
      "cell_type": "markdown",
      "metadata": {
        "tags": [],
        "id": "QschpH3B3jTl"
      },
      "source": [
        "### (III) What are the best 10 performing products with regards to sales in 2013?"
      ]
    },
    {
      "cell_type": "code",
      "execution_count": null,
      "metadata": {
        "id": "tiTDrwTT3jTl",
        "outputId": "291be053-e5af-4aac-9acb-8120a7834005"
      },
      "outputs": [
        {
          "data": {
            "text/html": [
              "<div><div id=493a85ca-a8b1-4172-b96b-404ff632c0d4 style=\"display:none; background-color:#9D6CFF; color:white; width:200px; height:30px; padding-left:5px; border-radius:4px; flex-direction:row; justify-content:space-around; align-items:center;\" onmouseover=\"this.style.backgroundColor='#BA9BF8'\" onmouseout=\"this.style.backgroundColor='#9D6CFF'\" onclick=\"window.commands?.execute('create-mitosheet-from-dataframe-output');\">See Full Dataframe in Mito</div> <script> if (window.commands.hasCommand('create-mitosheet-from-dataframe-output')) document.getElementById('493a85ca-a8b1-4172-b96b-404ff632c0d4').style.display = 'flex' </script> <table border=\"1\" class=\"dataframe\">\n",
              "  <thead>\n",
              "    <tr style=\"text-align: right;\">\n",
              "      <th></th>\n",
              "      <th>Sales</th>\n",
              "    </tr>\n",
              "    <tr>\n",
              "      <th>Product Name</th>\n",
              "      <th></th>\n",
              "    </tr>\n",
              "  </thead>\n",
              "  <tbody>\n",
              "    <tr>\n",
              "      <th>Motorola Smart Phone, Full Size</th>\n",
              "      <td>29357.0982</td>\n",
              "    </tr>\n",
              "    <tr>\n",
              "      <th>Cisco Smart Phone, Full Size</th>\n",
              "      <td>26737.1330</td>\n",
              "    </tr>\n",
              "    <tr>\n",
              "      <th>Canon imageCLASS 2200 Advanced Copier</th>\n",
              "      <td>25899.9260</td>\n",
              "    </tr>\n",
              "    <tr>\n",
              "      <th>Harbour Creations Executive Leather Armchair, Adjustable</th>\n",
              "      <td>21871.1296</td>\n",
              "    </tr>\n",
              "    <tr>\n",
              "      <th>Apple Smart Phone, Full Size</th>\n",
              "      <td>21120.4080</td>\n",
              "    </tr>\n",
              "    <tr>\n",
              "      <th>Hon Executive Leather Armchair, Adjustable</th>\n",
              "      <td>20104.6026</td>\n",
              "    </tr>\n",
              "    <tr>\n",
              "      <th>Office Star Executive Leather Armchair, Adjustable</th>\n",
              "      <td>19936.1460</td>\n",
              "    </tr>\n",
              "    <tr>\n",
              "      <th>Nokia Smart Phone, with Caller ID</th>\n",
              "      <td>18568.8543</td>\n",
              "    </tr>\n",
              "    <tr>\n",
              "      <th>Samsung Smart Phone, VoIP</th>\n",
              "      <td>16733.1120</td>\n",
              "    </tr>\n",
              "    <tr>\n",
              "      <th>Nokia Smart Phone, Full Size</th>\n",
              "      <td>14765.8800</td>\n",
              "    </tr>\n",
              "  </tbody>\n",
              "</table></div>"
            ],
            "text/plain": [
              "                                                         Sales\n",
              "Product Name                                                  \n",
              "Motorola Smart Phone, Full Size                     29357.0982\n",
              "Cisco Smart Phone, Full Size                        26737.1330\n",
              "Canon imageCLASS 2200 Advanced Copier               25899.9260\n",
              "Harbour Creations Executive Leather Armchair, A...  21871.1296\n",
              "Apple Smart Phone, Full Size                        21120.4080\n",
              "Hon Executive Leather Armchair, Adjustable          20104.6026\n",
              "Office Star Executive Leather Armchair, Adjustable  19936.1460\n",
              "Nokia Smart Phone, with Caller ID                   18568.8543\n",
              "Samsung Smart Phone, VoIP                           16733.1120\n",
              "Nokia Smart Phone, Full Size                        14765.8800"
            ]
          },
          "execution_count": 8,
          "metadata": {},
          "output_type": "execute_result"
        }
      ],
      "source": [
        "# Filtered Order Date\n",
        "cond = sales[sales['Order Date'] <= pd.to_datetime('2013-12-31')]\n",
        "\n",
        "# regarding sales\n",
        "cond.groupby('Product Name').sum()['Sales']\n",
        "\n",
        "# condition \n",
        "cond2 = cond.groupby('Product Name').sum()['Sales']\n",
        "\n",
        "# dataframe of sales per product name \n",
        "top = cond2.to_frame()\n",
        "top.reset_index(inplace=True)\n",
        "top\n",
        "\n",
        "# top 10 \n",
        "top_ten=top.groupby([\"Product Name\"]).sum().sort_values(\"Sales\", ascending=False).head(10)\n",
        "top_ten"
      ]
    },
    {
      "cell_type": "markdown",
      "metadata": {
        "id": "rcEj_u9A3jTm"
      },
      "source": [
        "### (IV) What are the least 10 performing products with regards to sales in 2013?"
      ]
    },
    {
      "cell_type": "code",
      "execution_count": null,
      "metadata": {
        "id": "hZLXm1vw3jTm",
        "outputId": "377a75be-df9d-4123-c6e7-aa2146f2e244"
      },
      "outputs": [
        {
          "data": {
            "text/html": [
              "<div><div id=0e075972-6b86-4ad4-b481-95e3af9d2a03 style=\"display:none; background-color:#9D6CFF; color:white; width:200px; height:30px; padding-left:5px; border-radius:4px; flex-direction:row; justify-content:space-around; align-items:center;\" onmouseover=\"this.style.backgroundColor='#BA9BF8'\" onmouseout=\"this.style.backgroundColor='#9D6CFF'\" onclick=\"window.commands?.execute('create-mitosheet-from-dataframe-output');\">See Full Dataframe in Mito</div> <script> if (window.commands.hasCommand('create-mitosheet-from-dataframe-output')) document.getElementById('0e075972-6b86-4ad4-b481-95e3af9d2a03').style.display = 'flex' </script> <table border=\"1\" class=\"dataframe\">\n",
              "  <thead>\n",
              "    <tr style=\"text-align: right;\">\n",
              "      <th></th>\n",
              "      <th>Sales</th>\n",
              "    </tr>\n",
              "    <tr>\n",
              "      <th>Product Name</th>\n",
              "      <th></th>\n",
              "    </tr>\n",
              "  </thead>\n",
              "  <tbody>\n",
              "    <tr>\n",
              "      <th>Crayola Anti Dust Chalk, 12/Pack</th>\n",
              "      <td>2.912</td>\n",
              "    </tr>\n",
              "    <tr>\n",
              "      <th>Newell 32</th>\n",
              "      <td>2.880</td>\n",
              "    </tr>\n",
              "    <tr>\n",
              "      <th>Eldon Spacemaker Box, Quick-Snap Lid, Clear</th>\n",
              "      <td>2.672</td>\n",
              "    </tr>\n",
              "    <tr>\n",
              "      <th>Acco 3-Hole Punch</th>\n",
              "      <td>2.628</td>\n",
              "    </tr>\n",
              "    <tr>\n",
              "      <th>Avery 479</th>\n",
              "      <td>2.610</td>\n",
              "    </tr>\n",
              "    <tr>\n",
              "      <th>Acco Banker's Clasps, 5 3/4\"-Long</th>\n",
              "      <td>2.304</td>\n",
              "    </tr>\n",
              "    <tr>\n",
              "      <th>Maxell 4.7GB DVD+R 5/Pack</th>\n",
              "      <td>1.980</td>\n",
              "    </tr>\n",
              "    <tr>\n",
              "      <th>Avery Durable Binders</th>\n",
              "      <td>1.728</td>\n",
              "    </tr>\n",
              "    <tr>\n",
              "      <th>OIC #2 Pencils, Medium Soft</th>\n",
              "      <td>1.504</td>\n",
              "    </tr>\n",
              "    <tr>\n",
              "      <th>Newell 310</th>\n",
              "      <td>1.408</td>\n",
              "    </tr>\n",
              "  </tbody>\n",
              "</table></div>"
            ],
            "text/plain": [
              "                                             Sales\n",
              "Product Name                                      \n",
              "Crayola Anti Dust Chalk, 12/Pack             2.912\n",
              "Newell 32                                    2.880\n",
              "Eldon Spacemaker Box, Quick-Snap Lid, Clear  2.672\n",
              "Acco 3-Hole Punch                            2.628\n",
              "Avery 479                                    2.610\n",
              "Acco Banker's Clasps, 5 3/4\"-Long            2.304\n",
              "Maxell 4.7GB DVD+R 5/Pack                    1.980\n",
              "Avery Durable Binders                        1.728\n",
              "OIC #2 Pencils, Medium Soft                  1.504\n",
              "Newell 310                                   1.408"
            ]
          },
          "execution_count": 9,
          "metadata": {},
          "output_type": "execute_result"
        }
      ],
      "source": [
        "# top 10 \n",
        "least_ten=top.groupby([\"Product Name\"]).sum().sort_values(\"Sales\", ascending=False).tail(10)\n",
        "least_ten"
      ]
    },
    {
      "cell_type": "markdown",
      "metadata": {
        "id": "heClLdxF3jTn"
      },
      "source": [
        "### (V) Extract the days and monhts from the Order Date and add them to the data frame with tthe name \"Days\" and \"Months\" respectively?"
      ]
    },
    {
      "cell_type": "code",
      "execution_count": null,
      "metadata": {
        "id": "0y8Kj4o83jTn",
        "outputId": "fb5842fb-b5e9-4981-8d39-f766a984c645"
      },
      "outputs": [
        {
          "data": {
            "text/html": [
              "<div><div id=8e1357cf-3738-43cc-8758-a9862b9bdf19 style=\"display:none; background-color:#9D6CFF; color:white; width:200px; height:30px; padding-left:5px; border-radius:4px; flex-direction:row; justify-content:space-around; align-items:center;\" onmouseover=\"this.style.backgroundColor='#BA9BF8'\" onmouseout=\"this.style.backgroundColor='#9D6CFF'\" onclick=\"window.commands?.execute('create-mitosheet-from-dataframe-output');\">See Full Dataframe in Mito</div> <script> if (window.commands.hasCommand('create-mitosheet-from-dataframe-output')) document.getElementById('8e1357cf-3738-43cc-8758-a9862b9bdf19').style.display = 'flex' </script> <table border=\"1\" class=\"dataframe\">\n",
              "  <thead>\n",
              "    <tr style=\"text-align: right;\">\n",
              "      <th></th>\n",
              "      <th>Order Date</th>\n",
              "      <th>Order ID</th>\n",
              "      <th>Customer ID</th>\n",
              "      <th>Customer Name</th>\n",
              "      <th>Segment</th>\n",
              "      <th>City</th>\n",
              "      <th>Market</th>\n",
              "      <th>Region</th>\n",
              "      <th>Category</th>\n",
              "      <th>Sub-Category</th>\n",
              "      <th>Product Name</th>\n",
              "      <th>Sales</th>\n",
              "      <th>Quantity</th>\n",
              "      <th>Discount</th>\n",
              "      <th>Profit</th>\n",
              "      <th>Months</th>\n",
              "      <th>Days</th>\n",
              "    </tr>\n",
              "  </thead>\n",
              "  <tbody>\n",
              "    <tr>\n",
              "      <th>0</th>\n",
              "      <td>2013-01-01</td>\n",
              "      <td>ID-2013-37383</td>\n",
              "      <td>MY-18295</td>\n",
              "      <td>Muhammed Yedwab</td>\n",
              "      <td>Corporate</td>\n",
              "      <td>Albury</td>\n",
              "      <td>APAC</td>\n",
              "      <td>Oceania</td>\n",
              "      <td>Technology</td>\n",
              "      <td>Copiers</td>\n",
              "      <td>Canon Copy Machine, Digital</td>\n",
              "      <td>1649.214</td>\n",
              "      <td>7</td>\n",
              "      <td>0.1</td>\n",
              "      <td>36.6240</td>\n",
              "      <td>January</td>\n",
              "      <td>Tuesday</td>\n",
              "    </tr>\n",
              "    <tr>\n",
              "      <th>1</th>\n",
              "      <td>2013-01-01</td>\n",
              "      <td>IN-2013-47960</td>\n",
              "      <td>JE-15715</td>\n",
              "      <td>Joe Elijah</td>\n",
              "      <td>Consumer</td>\n",
              "      <td>Tianjin</td>\n",
              "      <td>APAC</td>\n",
              "      <td>North Asia</td>\n",
              "      <td>Furniture</td>\n",
              "      <td>Bookcases</td>\n",
              "      <td>Sauder Floating Shelf Set, Metal</td>\n",
              "      <td>1358.280</td>\n",
              "      <td>7</td>\n",
              "      <td>0.0</td>\n",
              "      <td>203.7000</td>\n",
              "      <td>January</td>\n",
              "      <td>Tuesday</td>\n",
              "    </tr>\n",
              "    <tr>\n",
              "      <th>2</th>\n",
              "      <td>2013-01-01</td>\n",
              "      <td>ID-2013-37383</td>\n",
              "      <td>MY-18295</td>\n",
              "      <td>Muhammed Yedwab</td>\n",
              "      <td>Corporate</td>\n",
              "      <td>Albury</td>\n",
              "      <td>APAC</td>\n",
              "      <td>Oceania</td>\n",
              "      <td>Technology</td>\n",
              "      <td>Accessories</td>\n",
              "      <td>Logitech Memory Card, Erganomic</td>\n",
              "      <td>728.568</td>\n",
              "      <td>8</td>\n",
              "      <td>0.1</td>\n",
              "      <td>-32.4720</td>\n",
              "      <td>January</td>\n",
              "      <td>Tuesday</td>\n",
              "    </tr>\n",
              "    <tr>\n",
              "      <th>3</th>\n",
              "      <td>2013-01-01</td>\n",
              "      <td>IN-2013-47960</td>\n",
              "      <td>JE-15715</td>\n",
              "      <td>Joe Elijah</td>\n",
              "      <td>Consumer</td>\n",
              "      <td>Tianjin</td>\n",
              "      <td>APAC</td>\n",
              "      <td>North Asia</td>\n",
              "      <td>Furniture</td>\n",
              "      <td>Bookcases</td>\n",
              "      <td>Dania Library with Doors, Mobile</td>\n",
              "      <td>2189.520</td>\n",
              "      <td>6</td>\n",
              "      <td>0.0</td>\n",
              "      <td>372.0600</td>\n",
              "      <td>January</td>\n",
              "      <td>Tuesday</td>\n",
              "    </tr>\n",
              "    <tr>\n",
              "      <th>4</th>\n",
              "      <td>2013-01-01</td>\n",
              "      <td>IN-2013-47960</td>\n",
              "      <td>JE-15715</td>\n",
              "      <td>Joe Elijah</td>\n",
              "      <td>Consumer</td>\n",
              "      <td>Tianjin</td>\n",
              "      <td>APAC</td>\n",
              "      <td>North Asia</td>\n",
              "      <td>Furniture</td>\n",
              "      <td>Bookcases</td>\n",
              "      <td>Sauder Floating Shelf Set, Traditional</td>\n",
              "      <td>1362.060</td>\n",
              "      <td>7</td>\n",
              "      <td>0.0</td>\n",
              "      <td>340.4100</td>\n",
              "      <td>January</td>\n",
              "      <td>Tuesday</td>\n",
              "    </tr>\n",
              "    <tr>\n",
              "      <th>...</th>\n",
              "      <td>...</td>\n",
              "      <td>...</td>\n",
              "      <td>...</td>\n",
              "      <td>...</td>\n",
              "      <td>...</td>\n",
              "      <td>...</td>\n",
              "      <td>...</td>\n",
              "      <td>...</td>\n",
              "      <td>...</td>\n",
              "      <td>...</td>\n",
              "      <td>...</td>\n",
              "      <td>...</td>\n",
              "      <td>...</td>\n",
              "      <td>...</td>\n",
              "      <td>...</td>\n",
              "      <td>...</td>\n",
              "      <td>...</td>\n",
              "    </tr>\n",
              "    <tr>\n",
              "      <th>13794</th>\n",
              "      <td>2013-12-31</td>\n",
              "      <td>TU-2013-9400</td>\n",
              "      <td>TM-11490</td>\n",
              "      <td>Tony Molinari</td>\n",
              "      <td>Consumer</td>\n",
              "      <td>Gaziantep</td>\n",
              "      <td>EMEA</td>\n",
              "      <td>EMEA</td>\n",
              "      <td>Furniture</td>\n",
              "      <td>Furnishings</td>\n",
              "      <td>Eldon Light Bulb, Black</td>\n",
              "      <td>10.080</td>\n",
              "      <td>1</td>\n",
              "      <td>0.6</td>\n",
              "      <td>-5.5500</td>\n",
              "      <td>December</td>\n",
              "      <td>Tuesday</td>\n",
              "    </tr>\n",
              "    <tr>\n",
              "      <th>13795</th>\n",
              "      <td>2013-12-31</td>\n",
              "      <td>CA-2013-163951</td>\n",
              "      <td>CJ-11875</td>\n",
              "      <td>Carl Jackson</td>\n",
              "      <td>Corporate</td>\n",
              "      <td>Philadelphia</td>\n",
              "      <td>US</td>\n",
              "      <td>East</td>\n",
              "      <td>Office Supplies</td>\n",
              "      <td>Art</td>\n",
              "      <td>Newell 31</td>\n",
              "      <td>16.520</td>\n",
              "      <td>5</td>\n",
              "      <td>0.2</td>\n",
              "      <td>1.6520</td>\n",
              "      <td>December</td>\n",
              "      <td>Tuesday</td>\n",
              "    </tr>\n",
              "    <tr>\n",
              "      <th>13796</th>\n",
              "      <td>2013-12-31</td>\n",
              "      <td>US-2013-111528</td>\n",
              "      <td>JP-16135</td>\n",
              "      <td>Julie Prescott</td>\n",
              "      <td>Home Office</td>\n",
              "      <td>Los Angeles</td>\n",
              "      <td>US</td>\n",
              "      <td>West</td>\n",
              "      <td>Office Supplies</td>\n",
              "      <td>Binders</td>\n",
              "      <td>Cardinal Hold-It CD Pocket</td>\n",
              "      <td>6.384</td>\n",
              "      <td>1</td>\n",
              "      <td>0.2</td>\n",
              "      <td>2.1546</td>\n",
              "      <td>December</td>\n",
              "      <td>Tuesday</td>\n",
              "    </tr>\n",
              "    <tr>\n",
              "      <th>13797</th>\n",
              "      <td>2013-12-31</td>\n",
              "      <td>CA-2013-117660</td>\n",
              "      <td>BM-11785</td>\n",
              "      <td>Bryan Mills</td>\n",
              "      <td>Consumer</td>\n",
              "      <td>Columbus</td>\n",
              "      <td>US</td>\n",
              "      <td>East</td>\n",
              "      <td>Office Supplies</td>\n",
              "      <td>Labels</td>\n",
              "      <td>Avery 487</td>\n",
              "      <td>5.904</td>\n",
              "      <td>2</td>\n",
              "      <td>0.2</td>\n",
              "      <td>1.9926</td>\n",
              "      <td>December</td>\n",
              "      <td>Tuesday</td>\n",
              "    </tr>\n",
              "    <tr>\n",
              "      <th>13798</th>\n",
              "      <td>2013-12-31</td>\n",
              "      <td>IZ-2013-2550</td>\n",
              "      <td>DM-3015</td>\n",
              "      <td>Darrin Martin</td>\n",
              "      <td>Consumer</td>\n",
              "      <td>Basra</td>\n",
              "      <td>EMEA</td>\n",
              "      <td>EMEA</td>\n",
              "      <td>Office Supplies</td>\n",
              "      <td>Binders</td>\n",
              "      <td>Wilson Jones Binder, Economy</td>\n",
              "      <td>13.020</td>\n",
              "      <td>1</td>\n",
              "      <td>0.0</td>\n",
              "      <td>4.0200</td>\n",
              "      <td>December</td>\n",
              "      <td>Tuesday</td>\n",
              "    </tr>\n",
              "  </tbody>\n",
              "</table></div>"
            ],
            "text/plain": [
              "      Order Date        Order ID Customer ID    Customer Name      Segment  \\\n",
              "0     2013-01-01   ID-2013-37383    MY-18295  Muhammed Yedwab    Corporate   \n",
              "1     2013-01-01   IN-2013-47960    JE-15715       Joe Elijah     Consumer   \n",
              "2     2013-01-01   ID-2013-37383    MY-18295  Muhammed Yedwab    Corporate   \n",
              "3     2013-01-01   IN-2013-47960    JE-15715       Joe Elijah     Consumer   \n",
              "4     2013-01-01   IN-2013-47960    JE-15715       Joe Elijah     Consumer   \n",
              "...          ...             ...         ...              ...          ...   \n",
              "13794 2013-12-31    TU-2013-9400    TM-11490    Tony Molinari     Consumer   \n",
              "13795 2013-12-31  CA-2013-163951    CJ-11875     Carl Jackson    Corporate   \n",
              "13796 2013-12-31  US-2013-111528    JP-16135   Julie Prescott  Home Office   \n",
              "13797 2013-12-31  CA-2013-117660    BM-11785      Bryan Mills     Consumer   \n",
              "13798 2013-12-31    IZ-2013-2550     DM-3015    Darrin Martin     Consumer   \n",
              "\n",
              "               City Market      Region         Category Sub-Category  \\\n",
              "0            Albury   APAC     Oceania       Technology      Copiers   \n",
              "1           Tianjin   APAC  North Asia        Furniture    Bookcases   \n",
              "2            Albury   APAC     Oceania       Technology  Accessories   \n",
              "3           Tianjin   APAC  North Asia        Furniture    Bookcases   \n",
              "4           Tianjin   APAC  North Asia        Furniture    Bookcases   \n",
              "...             ...    ...         ...              ...          ...   \n",
              "13794     Gaziantep   EMEA        EMEA        Furniture  Furnishings   \n",
              "13795  Philadelphia     US        East  Office Supplies          Art   \n",
              "13796   Los Angeles     US        West  Office Supplies      Binders   \n",
              "13797      Columbus     US        East  Office Supplies       Labels   \n",
              "13798         Basra   EMEA        EMEA  Office Supplies      Binders   \n",
              "\n",
              "                                 Product Name     Sales  Quantity  Discount  \\\n",
              "0                 Canon Copy Machine, Digital  1649.214         7       0.1   \n",
              "1            Sauder Floating Shelf Set, Metal  1358.280         7       0.0   \n",
              "2             Logitech Memory Card, Erganomic   728.568         8       0.1   \n",
              "3            Dania Library with Doors, Mobile  2189.520         6       0.0   \n",
              "4      Sauder Floating Shelf Set, Traditional  1362.060         7       0.0   \n",
              "...                                       ...       ...       ...       ...   \n",
              "13794                 Eldon Light Bulb, Black    10.080         1       0.6   \n",
              "13795                               Newell 31    16.520         5       0.2   \n",
              "13796              Cardinal Hold-It CD Pocket     6.384         1       0.2   \n",
              "13797                               Avery 487     5.904         2       0.2   \n",
              "13798            Wilson Jones Binder, Economy    13.020         1       0.0   \n",
              "\n",
              "         Profit    Months     Days  \n",
              "0       36.6240   January  Tuesday  \n",
              "1      203.7000   January  Tuesday  \n",
              "2      -32.4720   January  Tuesday  \n",
              "3      372.0600   January  Tuesday  \n",
              "4      340.4100   January  Tuesday  \n",
              "...         ...       ...      ...  \n",
              "13794   -5.5500  December  Tuesday  \n",
              "13795    1.6520  December  Tuesday  \n",
              "13796    2.1546  December  Tuesday  \n",
              "13797    1.9926  December  Tuesday  \n",
              "13798    4.0200  December  Tuesday  \n",
              "\n",
              "[13799 rows x 17 columns]"
            ]
          },
          "execution_count": 18,
          "metadata": {},
          "output_type": "execute_result"
        }
      ],
      "source": [
        "# Months (by Month)\n",
        "sales['Months'] = sales['Order Date'].dt.month_name()\n",
        "\n",
        "# Days \n",
        "sales['Days'] = sales['Order Date'].dt.day_name()\n",
        "sales"
      ]
    },
    {
      "cell_type": "markdown",
      "metadata": {
        "id": "hpWzSXNC3jTo"
      },
      "source": [
        "### (VI) Show the trend of profit from January to December with line plot."
      ]
    },
    {
      "cell_type": "code",
      "execution_count": null,
      "metadata": {
        "id": "8TY63s7v3jTo",
        "outputId": "b3dc28c7-9bf2-4f88-beb3-6128ffff078f"
      },
      "outputs": [
        {
          "data": {
            "image/png": "[encoded data removed]",
            "text/plain": [
              "<Figure size 900x360 with 1 Axes>"
            ]
          },
          "metadata": {
            "needs_background": "light"
          },
          "output_type": "display_data"
        }
      ],
      "source": [
        "# month list\n",
        "months = mn[1:]\n",
        "\n",
        "# convert the column to categorical and ordered\n",
        "#correct_omzet.maand = pd.Categorical(correct_omzet.maand, categories=months, ordered=True)\n",
        "\n",
        "# plot the data\n",
        "p = sns.relplot(kind='line', data=sales, x='Months', y='Profit', aspect=2.5, marker='o')"
      ]
    },
    {
      "cell_type": "code",
      "execution_count": null,
      "metadata": {
        "id": "-BejUvp73jTp",
        "outputId": "15cd3a9a-3b1b-4936-dd4a-c7bdbe47f15c"
      },
      "outputs": [
        {
          "name": "stdout",
          "output_type": "stream",
          "text": [
            "<class 'pandas.core.frame.DataFrame'>\n",
            "Int64Index: 13799 entries, 0 to 13798\n",
            "Data columns (total 17 columns):\n",
            " #   Column         Non-Null Count  Dtype         \n",
            "---  ------         --------------  -----         \n",
            " 0   Order Date     13799 non-null  datetime64[ns]\n",
            " 1   Order ID       13799 non-null  object        \n",
            " 2   Customer ID    13799 non-null  object        \n",
            " 3   Customer Name  13799 non-null  object        \n",
            " 4   Segment        13799 non-null  object        \n",
            " 5   City           13799 non-null  object        \n",
            " 6   Market         13799 non-null  object        \n",
            " 7   Region         13799 non-null  object        \n",
            " 8   Category       13799 non-null  object        \n",
            " 9   Sub-Category   13799 non-null  object        \n",
            " 10  Product Name   13799 non-null  object        \n",
            " 11  Sales          13799 non-null  float64       \n",
            " 12  Quantity       13799 non-null  int64         \n",
            " 13  Discount       13799 non-null  float64       \n",
            " 14  Profit         13799 non-null  float64       \n",
            " 15  Months         13799 non-null  object        \n",
            " 16  Days           13799 non-null  int64         \n",
            "dtypes: datetime64[ns](1), float64(3), int64(2), object(11)\n",
            "memory usage: 2.4+ MB\n"
          ]
        }
      ],
      "source": [
        "# Checking our datatypes so far\n",
        "sales.info()"
      ]
    },
    {
      "cell_type": "code",
      "execution_count": null,
      "metadata": {
        "id": "2vGR62dd3jTp"
      },
      "outputs": [],
      "source": [
        ""
      ]
    },
    {
      "cell_type": "markdown",
      "metadata": {
        "id": "iVKtGc0X3jTp"
      },
      "source": [
        "### (VII) Which Month Does the Company Make more Profit."
      ]
    },
    {
      "cell_type": "code",
      "execution_count": null,
      "metadata": {
        "id": "VAdK3Fum3jTq",
        "outputId": "6db8779d-004a-40fe-e5fe-eb32cfabadb7"
      },
      "outputs": [
        {
          "data": {
            "text/html": [
              "<div><div id=d8e1d939-acf8-4223-8bd2-4841ecc9af54 style=\"display:none; background-color:#9D6CFF; color:white; width:200px; height:30px; padding-left:5px; border-radius:4px; flex-direction:row; justify-content:space-around; align-items:center;\" onmouseover=\"this.style.backgroundColor='#BA9BF8'\" onmouseout=\"this.style.backgroundColor='#9D6CFF'\" onclick=\"window.commands?.execute('create-mitosheet-from-dataframe-output');\">See Full Dataframe in Mito</div> <script> if (window.commands.hasCommand('create-mitosheet-from-dataframe-output')) document.getElementById('d8e1d939-acf8-4223-8bd2-4841ecc9af54').style.display = 'flex' </script> <table border=\"1\" class=\"dataframe\">\n",
              "  <thead>\n",
              "    <tr style=\"text-align: right;\">\n",
              "      <th></th>\n",
              "      <th>Sales</th>\n",
              "      <th>Quantity</th>\n",
              "      <th>Discount</th>\n",
              "      <th>Profit</th>\n",
              "      <th>Days</th>\n",
              "    </tr>\n",
              "    <tr>\n",
              "      <th>Months</th>\n",
              "      <th></th>\n",
              "      <th></th>\n",
              "      <th></th>\n",
              "      <th></th>\n",
              "      <th></th>\n",
              "    </tr>\n",
              "  </thead>\n",
              "  <tbody>\n",
              "    <tr>\n",
              "      <th>November</th>\n",
              "      <td>383039.21248</td>\n",
              "      <td>5274</td>\n",
              "      <td>190.164</td>\n",
              "      <td>51720.88568</td>\n",
              "      <td>24539</td>\n",
              "    </tr>\n",
              "    <tr>\n",
              "      <th>December</th>\n",
              "      <td>371245.40880</td>\n",
              "      <td>5005</td>\n",
              "      <td>205.932</td>\n",
              "      <td>47654.27990</td>\n",
              "      <td>24498</td>\n",
              "    </tr>\n",
              "    <tr>\n",
              "      <th>June</th>\n",
              "      <td>341162.34370</td>\n",
              "      <td>4948</td>\n",
              "      <td>192.106</td>\n",
              "      <td>43298.85000</td>\n",
              "      <td>23555</td>\n",
              "    </tr>\n",
              "    <tr>\n",
              "      <th>May</th>\n",
              "      <td>304509.96336</td>\n",
              "      <td>4115</td>\n",
              "      <td>159.898</td>\n",
              "      <td>39053.30946</td>\n",
              "      <td>18478</td>\n",
              "    </tr>\n",
              "    <tr>\n",
              "      <th>March</th>\n",
              "      <td>230547.79468</td>\n",
              "      <td>3130</td>\n",
              "      <td>136.134</td>\n",
              "      <td>34873.71938</td>\n",
              "      <td>13244</td>\n",
              "    </tr>\n",
              "    <tr>\n",
              "      <th>...</th>\n",
              "      <td>...</td>\n",
              "      <td>...</td>\n",
              "      <td>...</td>\n",
              "      <td>...</td>\n",
              "      <td>...</td>\n",
              "    </tr>\n",
              "    <tr>\n",
              "      <th>October</th>\n",
              "      <td>270121.87570</td>\n",
              "      <td>3977</td>\n",
              "      <td>163.606</td>\n",
              "      <td>27871.97470</td>\n",
              "      <td>18582</td>\n",
              "    </tr>\n",
              "    <tr>\n",
              "      <th>July</th>\n",
              "      <td>223642.65664</td>\n",
              "      <td>3594</td>\n",
              "      <td>141.910</td>\n",
              "      <td>27019.91294</td>\n",
              "      <td>15066</td>\n",
              "    </tr>\n",
              "    <tr>\n",
              "      <th>January</th>\n",
              "      <td>206459.19582</td>\n",
              "      <td>2766</td>\n",
              "      <td>110.106</td>\n",
              "      <td>26052.40252</td>\n",
              "      <td>12059</td>\n",
              "    </tr>\n",
              "    <tr>\n",
              "      <th>April</th>\n",
              "      <td>233181.34844</td>\n",
              "      <td>3161</td>\n",
              "      <td>127.946</td>\n",
              "      <td>26008.05144</td>\n",
              "      <td>12636</td>\n",
              "    </tr>\n",
              "    <tr>\n",
              "      <th>September</th>\n",
              "      <td>326897.27044</td>\n",
              "      <td>5067</td>\n",
              "      <td>220.746</td>\n",
              "      <td>18850.09084</td>\n",
              "      <td>25618</td>\n",
              "    </tr>\n",
              "  </tbody>\n",
              "</table></div>"
            ],
            "text/plain": [
              "                  Sales  Quantity  Discount       Profit   Days\n",
              "Months                                                         \n",
              "November   383039.21248      5274   190.164  51720.88568  24539\n",
              "December   371245.40880      5005   205.932  47654.27990  24498\n",
              "June       341162.34370      4948   192.106  43298.85000  23555\n",
              "May        304509.96336      4115   159.898  39053.30946  18478\n",
              "March      230547.79468      3130   136.134  34873.71938  13244\n",
              "August     323876.60716      4564   185.740  32977.75576  23112\n",
              "February   191062.77216      2535   101.234  31553.99756  10158\n",
              "October    270121.87570      3977   163.606  27871.97470  18582\n",
              "July       223642.65664      3594   141.910  27019.91294  15066\n",
              "January    206459.19582      2766   110.106  26052.40252  12059\n",
              "April      233181.34844      3161   127.946  26008.05144  12636\n",
              "September  326897.27044      5067   220.746  18850.09084  25618"
            ]
          },
          "execution_count": 13,
          "metadata": {},
          "output_type": "execute_result"
        }
      ],
      "source": [
        "# Data Frame Grouped by Highest Profit Per Month\n",
        "best_month = sales.groupby([\"Months\"]).sum().sort_values(\"Profit\", ascending=False)\n",
        "best_month"
      ]
    },
    {
      "cell_type": "markdown",
      "metadata": {
        "id": "d3R1tRz83jTr"
      },
      "source": [
        "The company makes the most profit in November."
      ]
    },
    {
      "cell_type": "code",
      "execution_count": null,
      "metadata": {
        "id": "lgKC2WBv3jTr",
        "outputId": "3dd3ba8d-1600-4c7f-900a-e5750e6e8305"
      },
      "outputs": [
        {
          "data": {
            "text/plain": [
              "Index(['November'], dtype='object', name='Months')"
            ]
          },
          "execution_count": 14,
          "metadata": {},
          "output_type": "execute_result"
        }
      ],
      "source": [
        "# To confirm \n",
        "bm = sales.groupby('Months').sum()\n",
        "\n",
        "# Most Profitable Month \n",
        "bm.index[bm.Profit == bm.Profit.max()]"
      ]
    },
    {
      "cell_type": "markdown",
      "metadata": {
        "id": "pYf_jH4t3jTr"
      },
      "source": [
        "### (VIII) What 5 Products are Sold Most in That Month."
      ]
    },
    {
      "cell_type": "code",
      "execution_count": null,
      "metadata": {
        "id": "nTp6yK_I3jTs",
        "outputId": "5a9fa6c3-42e3-460a-edaf-47fb709c6a2b"
      },
      "outputs": [
        {
          "data": {
            "text/html": [
              "<div><div id=32be8f7f-290d-442d-80b1-501f711099ad style=\"display:none; background-color:#9D6CFF; color:white; width:200px; height:30px; padding-left:5px; border-radius:4px; flex-direction:row; justify-content:space-around; align-items:center;\" onmouseover=\"this.style.backgroundColor='#BA9BF8'\" onmouseout=\"this.style.backgroundColor='#9D6CFF'\" onclick=\"window.commands?.execute('create-mitosheet-from-dataframe-output');\">See Full Dataframe in Mito</div> <script> if (window.commands.hasCommand('create-mitosheet-from-dataframe-output')) document.getElementById('32be8f7f-290d-442d-80b1-501f711099ad').style.display = 'flex' </script> <table border=\"1\" class=\"dataframe\">\n",
              "  <thead>\n",
              "    <tr style=\"text-align: right;\">\n",
              "      <th></th>\n",
              "      <th>Sales</th>\n",
              "    </tr>\n",
              "    <tr>\n",
              "      <th>Product Name</th>\n",
              "      <th></th>\n",
              "    </tr>\n",
              "  </thead>\n",
              "  <tbody>\n",
              "    <tr>\n",
              "      <th>Motorola Smart Phone, Full Size</th>\n",
              "      <td>29357.0982</td>\n",
              "    </tr>\n",
              "    <tr>\n",
              "      <th>Cisco Smart Phone, Full Size</th>\n",
              "      <td>26737.1330</td>\n",
              "    </tr>\n",
              "    <tr>\n",
              "      <th>Canon imageCLASS 2200 Advanced Copier</th>\n",
              "      <td>25899.9260</td>\n",
              "    </tr>\n",
              "    <tr>\n",
              "      <th>Harbour Creations Executive Leather Armchair, Adjustable</th>\n",
              "      <td>21871.1296</td>\n",
              "    </tr>\n",
              "    <tr>\n",
              "      <th>Apple Smart Phone, Full Size</th>\n",
              "      <td>21120.4080</td>\n",
              "    </tr>\n",
              "  </tbody>\n",
              "</table></div>"
            ],
            "text/plain": [
              "                                                         Sales\n",
              "Product Name                                                  \n",
              "Motorola Smart Phone, Full Size                     29357.0982\n",
              "Cisco Smart Phone, Full Size                        26737.1330\n",
              "Canon imageCLASS 2200 Advanced Copier               25899.9260\n",
              "Harbour Creations Executive Leather Armchair, A...  21871.1296\n",
              "Apple Smart Phone, Full Size                        21120.4080"
            ]
          },
          "execution_count": 15,
          "metadata": {},
          "output_type": "execute_result"
        }
      ],
      "source": [
        "# Filtered Months\n",
        "nov = sales[sales['Months'].apply(lambda val: all(val != s for s in ['October', 'September', 'May', 'March', 'June', 'July', 'January', 'February', 'December', 'August', 'April']))]\n",
        "\n",
        "#reset index \n",
        "nov.reset_index(inplace=True)\n",
        "\n",
        "# top 10 \n",
        "nov_top=top.groupby([\"Product Name\"]).sum().sort_values(\"Sales\", ascending=False).head(5)\n",
        "nov_top"
      ]
    },
    {
      "cell_type": "markdown",
      "metadata": {
        "id": "a_ulo6Ib3jTs"
      },
      "source": [
        "### (IX) Which Day Does the Company make high sales on the Average."
      ]
    },
    {
      "cell_type": "code",
      "execution_count": null,
      "metadata": {
        "id": "fjYgfp7I3jTs",
        "outputId": "235a3fce-ccc2-4801-e430-78146fe9c4ae"
      },
      "outputs": [
        {
          "data": {
            "text/plain": [
              "Index(['Sunday'], dtype='object', name='Days')"
            ]
          },
          "execution_count": 19,
          "metadata": {},
          "output_type": "execute_result"
        }
      ],
      "source": [
        "# To confirm \n",
        "avg_day = sales.groupby('Days').mean()\n",
        "\n",
        "# Most Profitable Day on Average \n",
        "avg_day.index[avg_day.Sales == avg_day.Sales.max()]"
      ]
    },
    {
      "cell_type": "markdown",
      "metadata": {
        "id": "Eyli0ZKW3jTs"
      },
      "source": [
        "### (X) Correlation between Sales and Discount.\n",
        "\n",
        "* Answer: Data below shows weak correlation."
      ]
    },
    {
      "cell_type": "code",
      "execution_count": null,
      "metadata": {
        "id": "IqEcFSB03jTs",
        "outputId": "11333652-d742-4d02-8660-17d86db4b178"
      },
      "outputs": [
        {
          "data": {
            "text/html": [
              "<div><div id=832a4603-e40e-4076-9744-b2e50ad43119 style=\"display:none; background-color:#9D6CFF; color:white; width:200px; height:30px; padding-left:5px; border-radius:4px; flex-direction:row; justify-content:space-around; align-items:center;\" onmouseover=\"this.style.backgroundColor='#BA9BF8'\" onmouseout=\"this.style.backgroundColor='#9D6CFF'\" onclick=\"window.commands?.execute('create-mitosheet-from-dataframe-output');\">See Full Dataframe in Mito</div> <script> if (window.commands.hasCommand('create-mitosheet-from-dataframe-output')) document.getElementById('832a4603-e40e-4076-9744-b2e50ad43119').style.display = 'flex' </script> <table border=\"1\" class=\"dataframe\">\n",
              "  <thead>\n",
              "    <tr style=\"text-align: right;\">\n",
              "      <th></th>\n",
              "      <th>Discount</th>\n",
              "      <th>Sales</th>\n",
              "    </tr>\n",
              "  </thead>\n",
              "  <tbody>\n",
              "    <tr>\n",
              "      <th>Discount</th>\n",
              "      <td>1.00000</td>\n",
              "      <td>-0.08471</td>\n",
              "    </tr>\n",
              "    <tr>\n",
              "      <th>Sales</th>\n",
              "      <td>-0.08471</td>\n",
              "      <td>1.00000</td>\n",
              "    </tr>\n",
              "  </tbody>\n",
              "</table></div>"
            ],
            "text/plain": [
              "          Discount    Sales\n",
              "Discount   1.00000 -0.08471\n",
              "Sales     -0.08471  1.00000"
            ]
          },
          "execution_count": 18,
          "metadata": {},
          "output_type": "execute_result"
        }
      ],
      "source": [
        "sales[['Discount','Sales']].corr()"
      ]
    },
    {
      "cell_type": "markdown",
      "metadata": {
        "id": "r3Vmq9f93jTt"
      },
      "source": [
        "### (XI) Scatter Plot: Sales and Profit."
      ]
    },
    {
      "cell_type": "code",
      "execution_count": null,
      "metadata": {
        "id": "t8CT16dG3jTt",
        "outputId": "4fda454f-f976-4f87-d343-6dc6e5337188"
      },
      "outputs": [
        {
          "data": {
            "text/plain": [
              "<AxesSubplot:xlabel='Sales', ylabel='Profit'>"
            ]
          },
          "execution_count": 19,
          "metadata": {},
          "output_type": "execute_result"
        },
        {
          "data": {
            "image/png": "[encoded data removed]",
            "text/plain": [
              "<Figure size 432x432 with 1 Axes>"
            ]
          },
          "metadata": {
            "needs_background": "light"
          },
          "output_type": "display_data"
        }
      ],
      "source": [
        "sales.plot(kind='scatter', x='Sales', y='Profit', figsize=(6,6))"
      ]
    },
    {
      "cell_type": "markdown",
      "metadata": {
        "tags": [],
        "id": "JVBfgObm3jTt"
      },
      "source": [
        "### (XII) Plot a grouped bar chart showing the total profit for the different product category for each market. "
      ]
    },
    {
      "cell_type": "code",
      "execution_count": null,
      "metadata": {
        "id": "a-fRhYCK3jTt"
      },
      "outputs": [],
      "source": [
        "# Pivoted into sales\n",
        "unused_columns = sales.columns.difference(set(['Market']).union(set(['Category'])).union(set({'Profit'})))\n",
        "tmp_df = sales.drop(unused_columns, axis=1)\n",
        "pivot_table = tmp_df.pivot_table(\n",
        "    index=['Market'],\n",
        "    columns=['Category'],\n",
        "    values=['Profit'],\n",
        "    aggfunc={'Profit': ['count']}\n",
        ")\n",
        "pivot_table.set_axis(['Profit Count Furniture', 'Profit Count Supplies', 'Profit Count Technology'], axis=1, inplace=True)\n",
        "market_share = pivot_table.reset_index()"
      ]
    },
    {
      "cell_type": "code",
      "execution_count": null,
      "metadata": {
        "id": "DY8VW_6P3jTu",
        "outputId": "bd4aa8fc-3d98-4158-8547-bf46b8891967"
      },
      "outputs": [
        {
          "data": {
            "text/html": [
              "<div><div id=e6446c3b-4268-41bc-8c8f-7d92960069e5 style=\"display:none; background-color:#9D6CFF; color:white; width:200px; height:30px; padding-left:5px; border-radius:4px; flex-direction:row; justify-content:space-around; align-items:center;\" onmouseover=\"this.style.backgroundColor='#BA9BF8'\" onmouseout=\"this.style.backgroundColor='#9D6CFF'\" onclick=\"window.commands?.execute('create-mitosheet-from-dataframe-output');\">See Full Dataframe in Mito</div> <script> if (window.commands.hasCommand('create-mitosheet-from-dataframe-output')) document.getElementById('e6446c3b-4268-41bc-8c8f-7d92960069e5').style.display = 'flex' </script> <table border=\"1\" class=\"dataframe\">\n",
              "  <thead>\n",
              "    <tr style=\"text-align: right;\">\n",
              "      <th></th>\n",
              "      <th>Market</th>\n",
              "      <th>Profit Count Furniture</th>\n",
              "      <th>Profit Count Supplies</th>\n",
              "      <th>Profit Count Technology</th>\n",
              "    </tr>\n",
              "  </thead>\n",
              "  <tbody>\n",
              "    <tr>\n",
              "      <th>0</th>\n",
              "      <td>APAC</td>\n",
              "      <td>677</td>\n",
              "      <td>1588</td>\n",
              "      <td>625</td>\n",
              "    </tr>\n",
              "    <tr>\n",
              "      <th>1</th>\n",
              "      <td>Africa</td>\n",
              "      <td>181</td>\n",
              "      <td>855</td>\n",
              "      <td>258</td>\n",
              "    </tr>\n",
              "    <tr>\n",
              "      <th>2</th>\n",
              "      <td>Canada</td>\n",
              "      <td>10</td>\n",
              "      <td>75</td>\n",
              "      <td>21</td>\n",
              "    </tr>\n",
              "    <tr>\n",
              "      <th>3</th>\n",
              "      <td>EMEA</td>\n",
              "      <td>177</td>\n",
              "      <td>879</td>\n",
              "      <td>252</td>\n",
              "    </tr>\n",
              "    <tr>\n",
              "      <th>4</th>\n",
              "      <td>EU</td>\n",
              "      <td>410</td>\n",
              "      <td>1669</td>\n",
              "      <td>482</td>\n",
              "    </tr>\n",
              "    <tr>\n",
              "      <th>5</th>\n",
              "      <td>LATAM</td>\n",
              "      <td>705</td>\n",
              "      <td>1765</td>\n",
              "      <td>590</td>\n",
              "    </tr>\n",
              "    <tr>\n",
              "      <th>6</th>\n",
              "      <td>US</td>\n",
              "      <td>562</td>\n",
              "      <td>1560</td>\n",
              "      <td>458</td>\n",
              "    </tr>\n",
              "  </tbody>\n",
              "</table></div>"
            ],
            "text/plain": [
              "   Market  Profit Count Furniture  Profit Count Supplies  \\\n",
              "0    APAC                     677                   1588   \n",
              "1  Africa                     181                    855   \n",
              "2  Canada                      10                     75   \n",
              "3    EMEA                     177                    879   \n",
              "4      EU                     410                   1669   \n",
              "5   LATAM                     705                   1765   \n",
              "6      US                     562                   1560   \n",
              "\n",
              "   Profit Count Technology  \n",
              "0                      625  \n",
              "1                      258  \n",
              "2                       21  \n",
              "3                      252  \n",
              "4                      482  \n",
              "5                      590  \n",
              "6                      458  "
            ]
          },
          "execution_count": 35,
          "metadata": {},
          "output_type": "execute_result"
        }
      ],
      "source": [
        "market_share"
      ]
    },
    {
      "cell_type": "code",
      "execution_count": null,
      "metadata": {
        "id": "IvuM_Eya3jTu",
        "outputId": "905ad81e-6d8d-4120-cb81-e5c547821275"
      },
      "outputs": [
        {
          "data": {
            "image/png": "[encoded data removed]",
            "text/plain": [
              "<Figure size 1440x576 with 1 Axes>"
            ]
          },
          "metadata": {
            "needs_background": "light"
          },
          "output_type": "display_data"
        }
      ],
      "source": [
        "# plot data in stack manner of bar type\n",
        "market_share.plot(x='Market', kind='bar', stacked=True, title='Total Profit for the different Product Category for Each Market', figsize=(20,8));"
      ]
    },
    {
      "cell_type": "markdown",
      "metadata": {
        "tags": [],
        "id": "GsqK5jYy3jTu"
      },
      "source": [
        "### (XIII) From your graph, which product category performs well in each market?"
      ]
    },
    {
      "cell_type": "markdown",
      "metadata": {
        "id": "J6QPrt743jTu"
      },
      "source": [
        "* Supplies in the LATAM Market.\n",
        "* Technology performs well in APAC market.\n",
        "* Furniture Performs well in LATAM market."
      ]
    },
    {
      "cell_type": "markdown",
      "metadata": {
        "id": "145jQELx3jTu"
      },
      "source": [
        "i. Which customer spent the most in the whole year?"
      ]
    },
    {
      "cell_type": "code",
      "execution_count": null,
      "metadata": {
        "scrolled": true,
        "id": "iZWie3zT3jTv",
        "outputId": "04975414-9243-4743-aa09-df8801e9219e"
      },
      "outputs": [
        {
          "data": {
            "text/html": [
              "<div><div id=2e32d0e5-a200-4b1d-9c3c-2b8118997539 style=\"display:none; background-color:#9D6CFF; color:white; width:200px; height:30px; padding-left:5px; border-radius:4px; flex-direction:row; justify-content:space-around; align-items:center;\" onmouseover=\"this.style.backgroundColor='#BA9BF8'\" onmouseout=\"this.style.backgroundColor='#9D6CFF'\" onclick=\"window.commands?.execute('create-mitosheet-from-dataframe-output');\">See Full Dataframe in Mito</div> <script> if (window.commands.hasCommand('create-mitosheet-from-dataframe-output')) document.getElementById('2e32d0e5-a200-4b1d-9c3c-2b8118997539').style.display = 'flex' </script> <table border=\"1\" class=\"dataframe\">\n",
              "  <thead>\n",
              "    <tr style=\"text-align: right;\">\n",
              "      <th></th>\n",
              "      <th>Sales</th>\n",
              "      <th>Quantity</th>\n",
              "      <th>Discount</th>\n",
              "      <th>Profit</th>\n",
              "    </tr>\n",
              "    <tr>\n",
              "      <th>Customer Name</th>\n",
              "      <th></th>\n",
              "      <th></th>\n",
              "      <th></th>\n",
              "      <th></th>\n",
              "    </tr>\n",
              "  </thead>\n",
              "  <tbody>\n",
              "    <tr>\n",
              "      <th>Tamara Chand</th>\n",
              "      <td>23190.408</td>\n",
              "      <td>80</td>\n",
              "      <td>3.8</td>\n",
              "      <td>8536.4943</td>\n",
              "    </tr>\n",
              "  </tbody>\n",
              "</table></div>"
            ],
            "text/plain": [
              "                   Sales  Quantity  Discount     Profit\n",
              "Customer Name                                          \n",
              "Tamara Chand   23190.408        80       3.8  8536.4943"
            ]
          },
          "execution_count": 31,
          "metadata": {},
          "output_type": "execute_result"
        }
      ],
      "source": [
        "# Data Frame Grouped by Highest Profit Per Month\n",
        "best_cust = sales.groupby([\"Customer Name\"]).sum().sort_values(\"Sales\", ascending=False)\n",
        "best_cust.head(1)"
      ]
    },
    {
      "cell_type": "markdown",
      "metadata": {
        "id": "g1Dtgb8f3jTv"
      },
      "source": [
        "ii. What product does the customer in (i) buy the most?"
      ]
    },
    {
      "cell_type": "code",
      "execution_count": null,
      "metadata": {
        "scrolled": true,
        "id": "y0Yz4HYG3jTv",
        "outputId": "fcbbb7a1-2942-4689-b230-dc5400ac478d"
      },
      "outputs": [
        {
          "data": {
            "text/html": [
              "<div><div id=63e3de6f-fb67-4483-aff4-19b5b280cfc5 style=\"display:none; background-color:#9D6CFF; color:white; width:200px; height:30px; padding-left:5px; border-radius:4px; flex-direction:row; justify-content:space-around; align-items:center;\" onmouseover=\"this.style.backgroundColor='#BA9BF8'\" onmouseout=\"this.style.backgroundColor='#9D6CFF'\" onclick=\"window.commands?.execute('create-mitosheet-from-dataframe-output');\">See Full Dataframe in Mito</div> <script> if (window.commands.hasCommand('create-mitosheet-from-dataframe-output')) document.getElementById('63e3de6f-fb67-4483-aff4-19b5b280cfc5').style.display = 'flex' </script> <table border=\"1\" class=\"dataframe\">\n",
              "  <thead>\n",
              "    <tr style=\"text-align: right;\">\n",
              "      <th></th>\n",
              "      <th>Product Name</th>\n",
              "      <th>Sales</th>\n",
              "    </tr>\n",
              "  </thead>\n",
              "  <tbody>\n",
              "    <tr>\n",
              "      <th>2087</th>\n",
              "      <td>Motorola Smart Phone, Full Size</td>\n",
              "      <td>29357.0982</td>\n",
              "    </tr>\n",
              "    <tr>\n",
              "      <th>838</th>\n",
              "      <td>Cisco Smart Phone, Full Size</td>\n",
              "      <td>26737.1330</td>\n",
              "    </tr>\n",
              "    <tr>\n",
              "      <th>1493</th>\n",
              "      <td>Harbour Creations Executive Leather Armchair, Adjustable</td>\n",
              "      <td>21871.1296</td>\n",
              "    </tr>\n",
              "    <tr>\n",
              "      <th>275</th>\n",
              "      <td>Apple Smart Phone, Full Size</td>\n",
              "      <td>21120.4080</td>\n",
              "    </tr>\n",
              "    <tr>\n",
              "      <th>1599</th>\n",
              "      <td>Hon Executive Leather Armchair, Adjustable</td>\n",
              "      <td>20104.6026</td>\n",
              "    </tr>\n",
              "    <tr>\n",
              "      <th>...</th>\n",
              "      <td>...</td>\n",
              "      <td>...</td>\n",
              "    </tr>\n",
              "    <tr>\n",
              "      <th>42</th>\n",
              "      <td>Acco Banker's Clasps, 5 3/4\"-Long</td>\n",
              "      <td>2.3040</td>\n",
              "    </tr>\n",
              "    <tr>\n",
              "      <th>2015</th>\n",
              "      <td>Maxell 4.7GB DVD+R 5/Pack</td>\n",
              "      <td>1.9800</td>\n",
              "    </tr>\n",
              "    <tr>\n",
              "      <th>361</th>\n",
              "      <td>Avery Durable Binders</td>\n",
              "      <td>1.7280</td>\n",
              "    </tr>\n",
              "    <tr>\n",
              "      <th>2230</th>\n",
              "      <td>OIC #2 Pencils, Medium Soft</td>\n",
              "      <td>1.5040</td>\n",
              "    </tr>\n",
              "    <tr>\n",
              "      <th>2101</th>\n",
              "      <td>Newell 310</td>\n",
              "      <td>1.4080</td>\n",
              "    </tr>\n",
              "  </tbody>\n",
              "</table></div>"
            ],
            "text/plain": [
              "                                           Product Name       Sales\n",
              "2087                    Motorola Smart Phone, Full Size  29357.0982\n",
              "838                        Cisco Smart Phone, Full Size  26737.1330\n",
              "1493  Harbour Creations Executive Leather Armchair, ...  21871.1296\n",
              "275                        Apple Smart Phone, Full Size  21120.4080\n",
              "1599         Hon Executive Leather Armchair, Adjustable  20104.6026\n",
              "...                                                 ...         ...\n",
              "42                    Acco Banker's Clasps, 5 3/4\"-Long      2.3040\n",
              "2015                          Maxell 4.7GB DVD+R 5/Pack      1.9800\n",
              "361                               Avery Durable Binders      1.7280\n",
              "2230                        OIC #2 Pencils, Medium Soft      1.5040\n",
              "2101                                         Newell 310      1.4080\n",
              "\n",
              "[3264 rows x 2 columns]"
            ]
          },
          "execution_count": 34,
          "metadata": {},
          "output_type": "execute_result"
        }
      ],
      "source": [
        "top_cust_prod = sales.groupby([sales['Customer Name']== 'Tamara Chand', 'Product Name'], as_index=False)['Sales'].sum()\n",
        "top_cust_prod.sort_values(by='Sales', ascending=False)"
      ]
    },
    {
      "cell_type": "markdown",
      "metadata": {
        "id": "ZKsl2HRK3jTv"
      },
      "source": [
        "Which month did the customer spent the most?"
      ]
    },
    {
      "cell_type": "code",
      "execution_count": null,
      "metadata": {
        "scrolled": true,
        "id": "uEOEZKj-3jTw",
        "outputId": "a6dad971-b1df-4fd5-c9da-dd1c0346d3e2"
      },
      "outputs": [
        {
          "data": {
            "text/html": [
              "<div><div id=8c172d17-25fe-4fa3-819e-858bf0aa74be style=\"display:none; background-color:#9D6CFF; color:white; width:200px; height:30px; padding-left:5px; border-radius:4px; flex-direction:row; justify-content:space-around; align-items:center;\" onmouseover=\"this.style.backgroundColor='#BA9BF8'\" onmouseout=\"this.style.backgroundColor='#9D6CFF'\" onclick=\"window.commands?.execute('create-mitosheet-from-dataframe-output');\">See Full Dataframe in Mito</div> <script> if (window.commands.hasCommand('create-mitosheet-from-dataframe-output')) document.getElementById('8c172d17-25fe-4fa3-819e-858bf0aa74be').style.display = 'flex' </script> <table border=\"1\" class=\"dataframe\">\n",
              "  <thead>\n",
              "    <tr style=\"text-align: right;\">\n",
              "      <th></th>\n",
              "      <th>Months</th>\n",
              "      <th>Sales</th>\n",
              "    </tr>\n",
              "  </thead>\n",
              "  <tbody>\n",
              "    <tr>\n",
              "      <th>9</th>\n",
              "      <td>November</td>\n",
              "      <td>378881.24448</td>\n",
              "    </tr>\n",
              "  </tbody>\n",
              "</table></div>"
            ],
            "text/plain": [
              "     Months         Sales\n",
              "9  November  378881.24448"
            ]
          },
          "execution_count": 38,
          "metadata": {},
          "output_type": "execute_result"
        }
      ],
      "source": [
        "top_cust_mon = sales.groupby([sales['Customer Name']== 'Tamara Chand', 'Months'], as_index=False)['Sales'].sum()\n",
        "top_cust_mon.sort_values(by='Sales', ascending=False).head(1)"
      ]
    },
    {
      "cell_type": "markdown",
      "metadata": {
        "id": "z_JNVUiF3jTw"
      },
      "source": [
        "iv. How much did this customer spend in the whole year?"
      ]
    },
    {
      "cell_type": "code",
      "execution_count": null,
      "metadata": {
        "id": "UCGn_oPr3jTw",
        "outputId": "9b5e817b-219c-4bbc-c01e-c74fd780d4ed"
      },
      "outputs": [
        {
          "data": {
            "text/html": [
              "<div><div id=7d3effab-5286-4548-a611-28d8562758af style=\"display:none; background-color:#9D6CFF; color:white; width:200px; height:30px; padding-left:5px; border-radius:4px; flex-direction:row; justify-content:space-around; align-items:center;\" onmouseover=\"this.style.backgroundColor='#BA9BF8'\" onmouseout=\"this.style.backgroundColor='#9D6CFF'\" onclick=\"window.commands?.execute('create-mitosheet-from-dataframe-output');\">See Full Dataframe in Mito</div> <script> if (window.commands.hasCommand('create-mitosheet-from-dataframe-output')) document.getElementById('7d3effab-5286-4548-a611-28d8562758af').style.display = 'flex' </script> <table border=\"1\" class=\"dataframe\">\n",
              "  <thead>\n",
              "    <tr style=\"text-align: right;\">\n",
              "      <th></th>\n",
              "      <th>Customer Name</th>\n",
              "      <th>Sales</th>\n",
              "    </tr>\n",
              "  </thead>\n",
              "  <tbody>\n",
              "    <tr>\n",
              "      <th>731</th>\n",
              "      <td>Tamara Chand</td>\n",
              "      <td>23190.408</td>\n",
              "    </tr>\n",
              "  </tbody>\n",
              "</table></div>"
            ],
            "text/plain": [
              "    Customer Name      Sales\n",
              "731  Tamara Chand  23190.408"
            ]
          },
          "execution_count": 40,
          "metadata": {},
          "output_type": "execute_result"
        }
      ],
      "source": [
        "customer_data = sales.groupby('Customer Name', as_index=False)['Sales'].sum()\n",
        "customer_data = customer_data.sort_values(by='Sales', ascending=False)\n",
        "customer_data.head(1)"
      ]
    },
    {
      "cell_type": "markdown",
      "metadata": {
        "id": "7PozTR_z3jTw"
      },
      "source": [
        "Total Sales in a Month"
      ]
    },
    {
      "cell_type": "code",
      "execution_count": null,
      "metadata": {
        "id": "NWfb-rlL3jTx",
        "outputId": "909a7b40-26d7-45fa-dc8b-dd31e1a0bb5f"
      },
      "outputs": [
        {
          "data": {
            "text/plain": [
              "Text(0, 0.5, 'Sales')"
            ]
          },
          "execution_count": 39,
          "metadata": {},
          "output_type": "execute_result"
        },
        {
          "data": {
            "image/png": "[encoded data removed]",
            "text/plain": [
              "<Figure size 720x432 with 1 Axes>"
            ]
          },
          "metadata": {
            "needs_background": "light"
          },
          "output_type": "display_data"
        }
      ],
      "source": [
        "best_month = sales.groupby('Months').sum()\n",
        "\n",
        "# Set the width and height of the figure\n",
        "plt.figure(figsize=(10,6))\n",
        "\n",
        "# Add title\n",
        "plt.title(\"Total sales, in a Month\")\n",
        "\n",
        "# Bar chart showing average sales in each month\n",
        "sns.barplot(x=best_month.index, y=best_month.Sales)\n",
        "\n",
        "plt.xlabel('Months')\n",
        "plt.ylabel('Sales')"
      ]
    },
    {
      "cell_type": "markdown",
      "metadata": {
        "id": "gtTs9C6j3jTx"
      },
      "source": [
        "City with the Most Sales"
      ]
    },
    {
      "cell_type": "code",
      "execution_count": null,
      "metadata": {
        "id": "hfkTv5GJ3jTx",
        "outputId": "4cc5c7a9-d7cc-4e0f-9195-8d81c551fca9"
      },
      "outputs": [
        {
          "data": {
            "text/plain": [
              "Index(['Los Angeles'], dtype='object', name='City')"
            ]
          },
          "execution_count": 37,
          "metadata": {},
          "output_type": "execute_result"
        }
      ],
      "source": [
        "best_city = sales.groupby('City').sum()\n",
        "\n",
        "best_city.index[best_city.Sales == best_city.Sales.max()]"
      ]
    },
    {
      "cell_type": "code",
      "execution_count": null,
      "metadata": {
        "id": "i6cImjJd3jTx",
        "outputId": "d66f001c-b17c-496a-e2d3-e94af885fb8b"
      },
      "outputs": [
        {
          "data": {
            "text/plain": [
              "56398.748"
            ]
          },
          "execution_count": 38,
          "metadata": {},
          "output_type": "execute_result"
        }
      ],
      "source": [
        "best_city.Sales.max()"
      ]
    }
  ],
  "metadata": {
    "kernelspec": {
      "display_name": "Python 3 (ipykernel)",
      "language": "python",
      "name": "python3"
    },
    "language_info": {
      "codemirror_mode": {
        "name": "ipython",
        "version": 3
      },
      "file_extension": ".py",
      "mimetype": "text/x-python",
      "name": "python",
      "nbconvert_exporter": "python",
      "pygments_lexer": "ipython3",
      "version": "3.9.5"
    },
    "colab": {
      "name": "AP.ipynb",
      "provenance": [],
      "collapsed_sections": [
        "tY3ZZXZd3jTg",
        "H6VelqRY3jTi",
        "l1IT-NdQ3jTk",
        "QschpH3B3jTl",
        "rcEj_u9A3jTm",
        "heClLdxF3jTn",
        "hpWzSXNC3jTo",
        "iVKtGc0X3jTp",
        "pYf_jH4t3jTr",
        "a_ulo6Ib3jTs",
        "Eyli0ZKW3jTs",
        "r3Vmq9f93jTt",
        "JVBfgObm3jTt",
        "GsqK5jYy3jTu"
      ]
    }
  },
  "nbformat": 4,
  "nbformat_minor": 0
}